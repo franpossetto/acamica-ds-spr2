{
 "cells": [
  {
   "cell_type": "markdown",
   "metadata": {
    "id": "38tA-ErIC4OD"
   },
   "source": [
    "# Proyecto: Análisis de mercado inmobiliario\n",
    "\n",
    "El objetivo de este proyecto es reproducir los pasos que haría un/a Data Scientist cuando se enfrenta a una problemática real. Por eso, consta de tres secciones:\n",
    "* En la Parte 1, te presentamos la problemática sobre la cual vas a trabajar. En esta sección deberás decidir qué datos te ayudarán a trabajar en este problema y dónde puedes conseguirlos.\n",
    "* En la Parte 2 te proveemos de un dataset para abordar la problemática planteada. Deberás realizar un Análisis Exploratorio de Datos sobre este dataset.\n",
    "* En la Parte 3, deberás utilizar herramientas de Machine Learning para predecir la variable de interés.\n",
    "\n",
    "\n",
    "En este proyecto vas a trabajar con un dataset de propiedades en venta publicado en el portal [Properati](www.properati.com.ar).\n",
    "\n",
    "\n",
    "## Problema\n",
    "\n",
    "Recientemente te has incorporado al equipo de Datos de una gran inmobiliaria. La primera tarea que se te asigna es ayudar a los tasadores/as a valuar las propiedades, ya que es un proceso difícil y, a veces, subjetivo. Para ello, propones crear un modelo de Machine Learning que, dadas ciertas características de la propiedad, prediga su precio de venta.\n",
    "\n",
    "## 1. Pensando como un Cientifico de Datos.\n",
    "\n",
    "### ¿Qué datos crees que te ayudarían a trabajar en el problema?¿Por qué?\n",
    "\n",
    "Los datos que me parecen mas importante, para poder estimar correctamente el precio del inmuble son  la ubicacion (l3), la superficie total (surficie_total) y Superficie Cubierta(surface_covered). Otro dato que sería importante es el estado actual del inmueble. "
   ]
  },
  {
   "cell_type": "markdown",
   "metadata": {
    "id": "LvPBQzg5C4OI"
   },
   "source": [
    "## 2. Análisis Exploratorio de Datos\n",
    "\n",
    "En esta sección, debes realizar un Análisis Exploratorio de Datos sobre el dataset de propiedades de Properati. Es importante que respondas las siguientes preguntas durante el análisis:\n",
    "\n",
    "* ¿Qué tamaño tiene el dataset?¿Cuántas instancias y cuántas columnas?\n",
    "* ¿Cuántos valores faltantes hay en cada columna?\n",
    "* ¿Cómo es la distribución de cada variable? Deberás hacer histogramas para las variables numéricas y gráficos de barras para las variables categóricas.\n",
    "* ¿Cómo se relacionan las variables entre sí?¿Qué tipo de gráfico será conveniente para presentar esta información?\n",
    "* ¿Cómo están correlacionadas las variables numéricas?¿Qué tipo de gráfico será conveniente para presentar esta información?¿Cuáles serán los mejores predictores de la variable de interés?"
   ]
  },
  {
   "cell_type": "markdown",
   "metadata": {},
   "source": [
    "2.1 Importamos librerias utiles para trabajar."
   ]
  },
  {
   "cell_type": "code",
   "execution_count": 2,
   "metadata": {},
   "outputs": [],
   "source": [
    "# 1 Importar liberias utiles\n",
    "import numpy as np\n",
    "import pandas as pd\n",
    "import seaborn as sns\n",
    "import matplotlib.pyplot as plt\n"
   ]
  },
  {
   "cell_type": "markdown",
   "metadata": {},
   "source": [
    "2.2 Cargamos el archivo utils.py. En este archivo contiene las funciones desarrolladas durante el proceso."
   ]
  },
  {
   "cell_type": "code",
   "execution_count": 3,
   "metadata": {},
   "outputs": [],
   "source": [
    "class utils:\n",
    "    @staticmethod\n",
    "    def open_csv(path):\n",
    "        return pd.read_csv(path)\n",
    "\n",
    "    @staticmethod\n",
    "    def graph_by_property_value(property_name, property_value, order_array, ax1,ax2):\n",
    "        a = sns.countplot(data = dataset[dataset.l2 == property_value],y=property_name, palette=\"Set3\",ax=ax[ax1,ax2], order=order_array)\n",
    "        a.set_title(property_value)\n",
    "    \n",
    "    @staticmethod\n",
    "    def split(features,obj,test_size):\n",
    "        X_train, X_test, Y_train, Y_test = train_test_split(features, obj, \n",
    "                                                            test_size=test_size, \n",
    "                                                            random_state=42)\n",
    "        return X_train, X_test, Y_train, Y_test\n",
    "    \n",
    "    \n",
    "    @staticmethod\n",
    "    def calculate_rmse(model, X_train, X_test, Y_train, Y_test):\n",
    "        Y_train_pred = model.predict(X_train)\n",
    "        Y_test_pred = model.predict(X_test)\n",
    "        \n",
    "        rmse_train = np.sqrt(mean_squared_error(Y_train, Y_train_pred))\n",
    "        rmse_test = np.sqrt(mean_squared_error(Y_test, Y_test_pred))\n",
    "        \n",
    "        print(f'Err Train: {rmse_train}')\n",
    "        print(f'Err Test: {rmse_test}')\n",
    "\n",
    "    @staticmethod\n",
    "    def rmse_graph(model, X_train, X_test, Y_train, Y_test):\n",
    "        Y_train_pred = model.predict(X_train)\n",
    "        Y_test_pred = model.predict(X_test)\n",
    "        \n",
    "        rmse_train = np.sqrt(mean_squared_error(Y_train, Y_train_pred))\n",
    "        rmse_test = np.sqrt(mean_squared_error(Y_test, Y_test_pred))\n",
    "        \n",
    "        print(f'Err Train: {rmse_train}')\n",
    "        print(f'Err Test: {rmse_test}')\n",
    "\n",
    "        plt.figure(figsize = (10,4))\n",
    "        \n",
    "        sns.distplot(Y_train - Y_train_pred, bins = 20, label = 'train')\n",
    "        sns.distplot(Y_test - Y_test_pred, bins = 20, label = 'test')\n",
    "        \n",
    "        plt.xlabel('Errores')\n",
    "        plt.legend()\n",
    "\n",
    "    \n",
    "    @staticmethod\n",
    "    def decision_tree(title, depths, X_train, X_test, Y_train, Y_test):\n",
    "        #Define error list\n",
    "        err_train = []\n",
    "        err_test = []\n",
    "        for depth in depths:\n",
    "            \n",
    "            #Define DesitionTreeRegresson and fit it\n",
    "            a = DecisionTreeRegressor(max_depth = depth, random_state = 42)\n",
    "            a.fit(X_train, Y_train)\n",
    "            \n",
    "            #try\n",
    "            Y_train_pred = a.predict(X_train)\n",
    "            train_err = np.sqrt(mean_squared_error(Y_train, Y_train_pred))\n",
    "            \n",
    "            Y_test_pred = a.predict(X_test)\n",
    "            test_err = np.sqrt(mean_squared_error(Y_test, Y_test_pred))\n",
    "\n",
    "            #save the error\n",
    "            err_train.append(train_err)\n",
    "            err_test.append(test_err)\n",
    "         \n",
    "        plt.plot(depths, err_train,'o-',label='train' )\n",
    "        plt.plot(depths, err_test, 'o-',label='test')\n",
    "        plt.legend()\n",
    "        plt.title(title)\n",
    "        plt.xlabel('depths')\n",
    "        plt.ylabel('error')\n",
    "    \n",
    "\n",
    "    @staticmethod\n",
    "    def knn(titulo, k_vecinos, X_train, X_test, y_train, y_test):\n",
    "        # Definimos las listas vacias para los valores de error deseados\n",
    "        lista_error_train = []\n",
    "        lista_error_test = []\n",
    "\n",
    "        for k in k_vecinos:\n",
    "            # Definir el modelo con el valor de vecinos deseado\n",
    "            clf = KNeighborsRegressor(n_neighbors= k)\n",
    "\n",
    "            # Entrenar el modelo\n",
    "            clf.fit(X_train, y_train)\n",
    "\n",
    "            # Predecir y evaluar sobre el set de entrenamiento\n",
    "            y_train_pred = clf.predict(X_train)\n",
    "            train_err = np.sqrt(mean_squared_error(y_train, y_train_pred))\n",
    "\n",
    "            # Predecir y evaluar sobre el set de evaluación\n",
    "            y_test_pred = clf.predict(X_test)\n",
    "            test_err = np.sqrt(mean_squared_error(y_test, y_test_pred))\n",
    "\n",
    "            # Agregar la información a las listas\n",
    "            lista_error_train.append(train_err)\n",
    "            lista_error_test.append(test_err)\n",
    "\n",
    "        plt.plot(k_vecinos, lista_error_train,'o-',label='train' )\n",
    "        plt.plot(k_vecinos, lista_error_test, 'o-',label='test')\n",
    "        plt.legend()\n",
    "        plt.title(titulo)\n",
    "        plt.xlabel('k_vecinos')\n",
    "        plt.ylabel('error')\n",
    "        plt.ylabel('error')"
   ]
  },
  {
   "cell_type": "markdown",
   "metadata": {
    "id": "5gWE6fwUC4OY"
   },
   "source": [
    "2.3 Cargamos el Dataset. Si no se encuentra el dataset, descomprimir zip ubicado en /Datasets."
   ]
  },
  {
   "cell_type": "code",
   "execution_count": 6,
   "metadata": {
    "id": "YL2eAd_tC4Oa"
   },
   "outputs": [
    {
     "data": {
      "text/plain": [
       "(146660, 19)"
      ]
     },
     "execution_count": 6,
     "metadata": {},
     "output_type": "execute_result"
    }
   ],
   "source": [
    "# 2. Cargar dataset, informacion general.\n",
    "path = \"C:/Users/Usuario/source/repos/acamica-ds-spr2/Datasets/DS_Proyecto_01_Datos_Properati.csv\"\n",
    "dataset = pd.read_csv(path)\n",
    "dataset.head()\n",
    "dataset.shape"
   ]
  },
  {
   "cell_type": "markdown",
   "metadata": {},
   "source": [
    "2.4 Realizamos una aproximación al dataset, mostrando las primeros cinco instancias, la cantidad de propiedades."
   ]
  },
  {
   "cell_type": "code",
   "execution_count": 7,
   "metadata": {
    "id": "KvVxaqPlC4Oq"
   },
   "outputs": [
    {
     "name": "stdout",
     "output_type": "stream",
     "text": [
      "Cantidad de propiedades publicadas en el dataset: 19\n"
     ]
    }
   ],
   "source": [
    "# 3.Limpiar Dataset\n",
    "#¿Cuántos tipos de propiedad hay publicados según este dataset?\n",
    "print(\"Cantidad de propiedades publicadas en el dataset: \" + str(dataset.shape[1]))"
   ]
  },
  {
   "cell_type": "code",
   "execution_count": 8,
   "metadata": {},
   "outputs": [
    {
     "name": "stdout",
     "output_type": "stream",
     "text": [
      "Cantidad de instancias por cada tipo de propiedad:\n"
     ]
    },
    {
     "data": {
      "text/plain": [
       "start_date         146660\n",
       "end_date           146660\n",
       "created_on         146660\n",
       "lat                136735\n",
       "lon                136701\n",
       "l1                 146660\n",
       "l2                 146660\n",
       "l3                 146660\n",
       "rooms              146660\n",
       "bedrooms           146660\n",
       "bathrooms          140703\n",
       "surface_total      126133\n",
       "surface_covered    125046\n",
       "price              146660\n",
       "currency           146660\n",
       "title              146660\n",
       "description        146660\n",
       "property_type      146660\n",
       "operation_type     146660\n",
       "dtype: int64"
      ]
     },
     "execution_count": 8,
     "metadata": {},
     "output_type": "execute_result"
    }
   ],
   "source": [
    "#¿Cuántos instancias por cada tipo de propiedad hay en el dataset?\n",
    "print(\"Cantidad de instancias por cada tipo de propiedad:\")\n",
    "dataset.count()"
   ]
  },
  {
   "cell_type": "markdown",
   "metadata": {},
   "source": [
    "2.5 Descartamos propiedades que no son utiles para nuestro analisis y contamos la cantidad de datos faltantes por columna que tiene el dataset."
   ]
  },
  {
   "cell_type": "code",
   "execution_count": 9,
   "metadata": {},
   "outputs": [
    {
     "name": "stdout",
     "output_type": "stream",
     "text": [
      "Luego de limpiar el dataset la cantidad de propiedades son: 9\n"
     ]
    }
   ],
   "source": [
    "dataset.drop(['l1', 'start_date', 'end_date', 'created_on', 'lat', 'lon', 'title', 'currency','description','operation_type'], 'columns', inplace = True )\n",
    "print(\"Luego de limpiar el dataset la cantidad de propiedades son: \" + str(dataset.shape[1]))\n"
   ]
  },
  {
   "cell_type": "markdown",
   "metadata": {},
   "source": [
    "2.6 Vemos cuantos nulls hay en cada columna"
   ]
  },
  {
   "cell_type": "code",
   "execution_count": 10,
   "metadata": {},
   "outputs": [
    {
     "name": "stdout",
     "output_type": "stream",
     "text": [
      "Nulls en cada columna:\n"
     ]
    },
    {
     "data": {
      "text/plain": [
       "l2                     0\n",
       "l3                     0\n",
       "rooms                  0\n",
       "bedrooms               0\n",
       "bathrooms           5957\n",
       "surface_total      20527\n",
       "surface_covered    21614\n",
       "price                  0\n",
       "property_type          0\n",
       "dtype: int64"
      ]
     },
     "execution_count": 10,
     "metadata": {},
     "output_type": "execute_result"
    }
   ],
   "source": [
    "print(\"Nulls en cada columna:\")\n",
    "dataset.isna().sum()"
   ]
  },
  {
   "cell_type": "markdown",
   "metadata": {},
   "source": [
    "2.7 Reemplazamos los valores Nulos en bathrooms, surface_total y surface_covered. En todos los casos utilizamos la moda "
   ]
  },
  {
   "cell_type": "code",
   "execution_count": 11,
   "metadata": {
    "scrolled": false
   },
   "outputs": [
    {
     "name": "stdout",
     "output_type": "stream",
     "text": [
      "l2                 0\n",
      "l3                 0\n",
      "rooms              0\n",
      "bedrooms           0\n",
      "bathrooms          0\n",
      "surface_total      0\n",
      "surface_covered    0\n",
      "price              0\n",
      "property_type      0\n",
      "dtype: int64\n"
     ]
    }
   ],
   "source": [
    "# Para baños tomamos la moda\n",
    "bathroom_mode = dataset[\"bathrooms\"].mode()[0]\n",
    "dataset[\"bathrooms\"].fillna(bathroom_mode, inplace = True)\n",
    "\n",
    "# Para superficie Total, tomamos la cubierta, en caso de ser null tambien, asignamos la moda.\n",
    "surface_covered_mode = dataset[\"surface_covered\"].mode()[0]\n",
    "surface_total_mode = dataset[\"surface_total\"].mode()[0]\n",
    "\n",
    "dataset[\"surface_covered\"].fillna(surface_covered_mode, inplace = True)\n",
    "dataset[\"surface_total\"].fillna(surface_total_mode, inplace = True)\n",
    "\n",
    "print(dataset.isna().sum())"
   ]
  },
  {
   "cell_type": "markdown",
   "metadata": {},
   "source": [
    "2.8 Vemos cantidad de registros por tipo de propiedad "
   ]
  },
  {
   "cell_type": "markdown",
   "metadata": {
    "id": "XJCDt8ctC4O3"
   },
   "source": [
    "2.13 Seleccionamos las tres clases más abundantes de tipos de propiedad `Casa`,`PH`,`Departamento `y la región con más propiedades publicadas `Capital Federal`"
   ]
  },
  {
   "cell_type": "code",
   "execution_count": 12,
   "metadata": {
    "id": "vbmACahUC4O6"
   },
   "outputs": [
    {
     "data": {
      "text/plain": [
       "(91485, 9)"
      ]
     },
     "execution_count": 12,
     "metadata": {},
     "output_type": "execute_result"
    }
   ],
   "source": [
    "# Seleccionar las tres clases de propiedad mas frecuentes.\n",
    "\n",
    "#Conditions: \n",
    "dataset_region_mas_publicada = dataset[dataset[\"l2\"]==\"Capital Federal\"]\n",
    "\n",
    "a = dataset_region_mas_publicada[\"property_type\"].value_counts().index[0]\n",
    "b = dataset_region_mas_publicada[\"property_type\"].value_counts().index[1]\n",
    "c = dataset_region_mas_publicada[\"property_type\"].value_counts().index[2]\n",
    "\n",
    "\n",
    "dataset_filtered = dataset_region_mas_publicada[(dataset_region_mas_publicada[\"property_type\"] == a) |\n",
    "                                                (dataset_region_mas_publicada[\"property_type\"] == b) |\n",
    "                                                (dataset_region_mas_publicada[\"property_type\"] == c)\n",
    "                                               ]\n",
    "dataset_filtered.shape\n"
   ]
  },
  {
   "cell_type": "markdown",
   "metadata": {
    "id": "bXSMm-aOC4O-"
   },
   "source": [
    "**Checkpoint:** deberías tener un dataset con 91485 instacias, 19 columnas.\n",
    "\n",
    "6. **Distribuciones y relaciones de a pares:** Estudia la distribución y las relaciones de a pares de las variables `rooms`, `bedrooms`, `bathrooms`, `surface_total`, `surface_covered`, `price` para cada tipo de propiedad. Para ello, ten en cuenta:\n",
    "    1. Obtiene estadísticos que te sirvan para tener una primera idea de los valores que abarcan estas variables. ¿Cuáles crees que toman valores que tal vez no tengan mucho sentido?\n",
    "    1. Algunas instancias tienen valores de superficie (`surface_total`) muy grandes y dificultan la correcta visualización. Estudia la distribución de esa variable y filtra por un valor razonable que te permita obtener gráficos comprensibles. Puede ser útil un boxplot para determinar un rango razonable.\n",
    "    1. Lo mismo ocurre con valores de superficie total muy chico.\n",
    "    1. Las propiedades no pueden tener `surface_covered` mayor a `surface_total`. Si eso sucede, debes filtrar esas instancias.\n",
    "    1. El rango de precios que toman las propiedades es muy amplio. Estudia la distribución de esa variable y filtra por un valor razonable que te permita obtener gráficos comprensibles. Puede ser útil un boxplot para determinar un rango razonable.\n",
    "    1. Una vez filtrado el dataset, puedes utilizar la función `pairplot` de Seaborn."
   ]
  },
  {
   "cell_type": "markdown",
   "metadata": {},
   "source": [
    "2.14 Notamos que las Casas presentan mayor superficie que los PH y los departamentos.\n",
    "Esta relacion se da tanto tomando superficie total como superficie cubierta.\n",
    "Cuando evaluamos los precios, notamos que PH es el metro cuadrado mas economico para comprar. Los departamentos presentan el metro cuadrado mas caro, en relacion a la supercie construida."
   ]
  },
  {
   "cell_type": "markdown",
   "metadata": {
    "id": "B2EMvGFoC4PF"
   },
   "source": [
    "2.15 Debemos Estudiar la correlación entre las variables `rooms`, `bedrooms`, `bathrooms`, `surface_total`, `surface_covered`, `price`. ¿Cuáles son las mejores variables para predecir el precio?¿Qué diferencias encuentras según cada tipo de propiedad?\n",
    "Elegimos superficie total y precio y realizamos graficos de cajas."
   ]
  },
  {
   "cell_type": "markdown",
   "metadata": {},
   "source": [
    "2.16 Como notamos que hay valores atipocos, filtramos los datos nuevamente. Tanto para `surface_total` y para `price`, establecemos un maximo y un minimo."
   ]
  },
  {
   "cell_type": "markdown",
   "metadata": {},
   "source": [
    "`Departamentos` entre 15 y 150 metros cuadrados. Precio menor a 550.000 pesos.\n",
    "\n",
    "`PH` entre 50 y 350 metros cuadrados. Precio menor a 450.000 pesos.\n",
    "\n",
    "`Casa` entre 25 y 800 metros cuadrados. Precio menor a 800.000 pesos."
   ]
  },
  {
   "cell_type": "markdown",
   "metadata": {},
   "source": [
    "Viendo el Mapa de calor, vemos que podemos descartar una entre rooms y bathroom, porque el valor es muy cercano a 1.\n",
    "Si tomamos la variable a predecir y una de las otras propiedades, aquellas que se acercan a cero nos dicen que no existe una relacion lineal."
   ]
  },
  {
   "cell_type": "markdown",
   "metadata": {
    "id": "ULhoMAo_C4PP"
   },
   "source": [
    "### 3. Machine Learning\n",
    "\n",
    "En esta seccion debemos entrenar dos modelos de machine learning (arboles de decision y vecinos mas cercanos) con el objetivo de predecir el precio de propiedades de tipo `Departamento`, `PH` y `Casa`  en la Ciudad Autónoma de Buenos Aires (`Capital Federal`).\n",
    "\n",
    "Nota:\n",
    "* Elegir una métrica apropiada para evaluar los resultados de los modelos.\n",
    "* Seleccionar las variables predictoras (`X`) y la variable a predecir (`y`). \n",
    "* Realizar un Train/Test split de los datos.\n",
    "* Generar un modelo *benchmark* y evaluarlo.\n",
    "* Entrenar un modelo de vecinos más cercanos y un modelo de árbol de decisión con hiperparámetros iniciales de su elección.\n",
    "* Evaluar los modelos obtenidos. Para ello, evalúa la métrica elegida en el conjunto de Test y en el conjunto de Train. También, realiza gráficos de valores reales vs. valores predichos.\n",
    "* Mejorar el desempeño de sus modelos optimizando el número de vecinos y la profundidad del árbol, respectivamente.\n",
    "* Entre los modelos entrenados, ¿cuál elegirías para utilizar?¿Por qué? \n",
    "* Ser **crítico/a** con la metodología utilizada. Por ejemplo, responde las siguientes preguntas: ¿Qué información no estás usando que podría ayudar al modelo?¿Qué información puede estar demás o repetida?\n",
    "\n",
    "\n",
    "**Checkpoint:** deberías obtener un dataset con 81019 instacias y 6 columnas."
   ]
  },
  {
   "cell_type": "markdown",
   "metadata": {},
   "source": [
    "3.1 Utilizaremos el error RMSE ya que no queremos castigar casos atipicos. En este caso nos interesa obtener valores BAJOS."
   ]
  },
  {
   "cell_type": "markdown",
   "metadata": {},
   "source": [
    "3.2 Cargamos liberias necesarias para crear y entrenar nuestro modelo de Machine learning."
   ]
  },
  {
   "cell_type": "code",
   "execution_count": 13,
   "metadata": {},
   "outputs": [],
   "source": [
    "from sklearn.linear_model import LinearRegression\n",
    "from sklearn.tree import DecisionTreeRegressor\n",
    "from sklearn.neighbors import KNeighborsRegressor\n",
    "from sklearn.model_selection import train_test_split\n",
    "from sklearn.metrics import mean_squared_error"
   ]
  },
  {
   "cell_type": "markdown",
   "metadata": {},
   "source": [
    "3.3 Utilizamos el dataset que limpiamos durante el analisis exploratorio de datos y definimos las variables predictoras y variables a predecir."
   ]
  },
  {
   "cell_type": "code",
   "execution_count": 19,
   "metadata": {},
   "outputs": [],
   "source": [
    "ds=dataset_filtered\n",
    "\n",
    "X = ds.loc[:,['rooms', 'surface_covered','bathrooms', 'surface_total', 'bedrooms']]\n",
    "y = ds.loc[:,'price']\n"
   ]
  },
  {
   "cell_type": "markdown",
   "metadata": {},
   "source": [
    "3.4 La funcion utils_split toma una lista de fratures y la variable a predecir.Luego nos devuelve los valores que vamos a almacenar en las variables del Train Test Split."
   ]
  },
  {
   "cell_type": "code",
   "execution_count": 21,
   "metadata": {},
   "outputs": [],
   "source": [
    "X_train, X_test, Y_train, Y_test = utils.split(X, y, 0.30)"
   ]
  },
  {
   "cell_type": "markdown",
   "metadata": {},
   "source": [
    "### Regresion lineal"
   ]
  },
  {
   "cell_type": "markdown",
   "metadata": {},
   "source": [
    "3.4 Creamos modelos de regresion lineal y los entrenamos con la funcion Fit."
   ]
  },
  {
   "cell_type": "code",
   "execution_count": 22,
   "metadata": {},
   "outputs": [
    {
     "data": {
      "text/plain": [
       "LinearRegression()"
      ]
     },
     "execution_count": 22,
     "metadata": {},
     "output_type": "execute_result"
    }
   ],
   "source": [
    "#Lineal Regression\n",
    "regresor_linear = LinearRegression()\n",
    "regresor_linear.fit(X_train, Y_train)\n"
   ]
  },
  {
   "cell_type": "markdown",
   "metadata": {},
   "source": [
    "Con la funcion utils.rmse_graph corremos la funcion precict sobre train y test y finalmente mostramos un grafico RMSE para evaluar los valores predecidos."
   ]
  },
  {
   "cell_type": "code",
   "execution_count": 23,
   "metadata": {
    "scrolled": true
   },
   "outputs": [
    {
     "name": "stdout",
     "output_type": "stream",
     "text": [
      "Err Train: 265531.8788064749\n",
      "Err Test: 237405.23039615407\n"
     ]
    }
   ],
   "source": [
    "utils.calculate_rmse(regresor_linear, X_train, \n",
    "                         X_test, Y_train, Y_test)"
   ]
  },
  {
   "cell_type": "markdown",
   "metadata": {},
   "source": [
    "### Vecinos mas cercanos"
   ]
  },
  {
   "cell_type": "code",
   "execution_count": 30,
   "metadata": {},
   "outputs": [
    {
     "data": {
      "text/plain": [
       "KNeighborsRegressor(n_neighbors=10)"
      ]
     },
     "execution_count": 30,
     "metadata": {},
     "output_type": "execute_result"
    }
   ],
   "source": [
    "clf = KNeighborsRegressor(10)\n",
    "clf.fit(X_train, Y_train)\n"
   ]
  },
  {
   "cell_type": "code",
   "execution_count": 31,
   "metadata": {},
   "outputs": [
    {
     "name": "stdout",
     "output_type": "stream",
     "text": [
      "Err Train: 194085.94069895233\n",
      "Err Test: 176049.23683607008\n"
     ]
    }
   ],
   "source": [
    "utils.calculate_rmse(clf, X_train, \n",
    "                         X_test, Y_train, Y_test)"
   ]
  },
  {
   "cell_type": "code",
   "execution_count": 32,
   "metadata": {},
   "outputs": [
    {
     "data": {
      "image/png": "[encoded data removed]",
      "text/plain": [
       "<Figure size 432x288 with 1 Axes>"
      ]
     },
     "metadata": {
      "needs_background": "light"
     },
     "output_type": "display_data"
    }
   ],
   "source": [
    "knn_quantity = [1, 2, 3, 4, 5, 6, 7, 8, 9, 10, 15, 20, 30, 40]\n",
    "\n",
    "# Casa\n",
    "_knn = utils.knn('Knn Casa', knn_quantity, X_train, X_test, Y_train, Y_test)"
   ]
  },
  {
   "cell_type": "markdown",
   "metadata": {},
   "source": [
    "Para Knn en Casa la cantidad de vecinos que mejor funciona es 10"
   ]
  },
  {
   "cell_type": "markdown",
   "metadata": {},
   "source": [
    "Para Knn en Departamentos la cantidad de vecinos que mejor funciona es 12"
   ]
  },
  {
   "cell_type": "markdown",
   "metadata": {},
   "source": [
    "### Arboles de decision "
   ]
  },
  {
   "cell_type": "code",
   "execution_count": 36,
   "metadata": {},
   "outputs": [
    {
     "data": {
      "text/plain": [
       "DecisionTreeRegressor(max_depth=10, random_state=42)"
      ]
     },
     "execution_count": 36,
     "metadata": {},
     "output_type": "execute_result"
    }
   ],
   "source": [
    "#Arboles de desicion\n",
    "a = DecisionTreeRegressor(max_depth = 10, random_state = 42)\n",
    "a.fit(X_train, Y_train)\n"
   ]
  },
  {
   "cell_type": "code",
   "execution_count": 37,
   "metadata": {},
   "outputs": [
    {
     "name": "stdout",
     "output_type": "stream",
     "text": [
      "Err Train: 131342.04481899692\n",
      "Err Test: 167547.23542405185\n"
     ]
    }
   ],
   "source": [
    "utils.calculate_rmse(a, X_train, \n",
    "                         X_test, Y_train, Y_test)"
   ]
  },
  {
   "cell_type": "code",
   "execution_count": 38,
   "metadata": {},
   "outputs": [
    {
     "data": {
      "image/png": "[encoded data removed]",
      "text/plain": [
       "<Figure size 432x288 with 1 Axes>"
      ]
     },
     "metadata": {
      "needs_background": "light"
     },
     "output_type": "display_data"
    }
   ],
   "source": [
    "# PH\n",
    "depths = [1, 2, 3, 4, 5, 6, 7, 8, 9, 10, 15, 20]\n",
    "utils.decision_tree('Decision Tree PH', depths, X_train, X_test, Y_train, Y_test)"
   ]
  },
  {
   "cell_type": "markdown",
   "metadata": {},
   "source": [
    "Para PH, la mejor profundidad para predecir es 7."
   ]
  },
  {
   "cell_type": "code",
   "execution_count": null,
   "metadata": {},
   "outputs": [],
   "source": []
  }
 ],
 "metadata": {
  "colab": {
   "collapsed_sections": [],
   "name": "DS_Proyecto_01.ipynb",
   "provenance": []
  },
  "kernelspec": {
   "display_name": "Python 3",
   "language": "python",
   "name": "python3"
  },
  "language_info": {
   "codemirror_mode": {
    "name": "ipython",
    "version": 3
   },
   "file_extension": ".py",
   "mimetype": "text/x-python",
   "name": "python",
   "nbconvert_exporter": "python",
   "pygments_lexer": "ipython3",
   "version": "3.8.5"
  }
 },
 "nbformat": 4,
 "nbformat_minor": 1
}
