{
 "cells": [
  {
   "cell_type": "markdown",
   "metadata": {
    "id": "38tA-ErIC4OD"
   },
   "source": [
    "# Proyecto: Análisis de mercado inmobiliario + Ingenieria de features y modelos avanzados.\n",
    "\n",
    "Aplica transformación de datos y entrena Modelos Avanzados para desarrollar con mayor profundidad tu modelo de Machine Learning:\n",
    "* En la Parte 1, Transformacion de datos.\n",
    "* En la Parte 2, Modelos avanzados.\n",
    "* En la Parte 3, Interpretacion de modelos.\n",
    "\n",
    "\n",
    "En este proyecto vas a trabajar con un dataset de propiedades en venta publicado en el portal [Properati](www.properati.com.ar).\n",
    "\n"
   ]
  },
  {
   "cell_type": "markdown",
   "metadata": {},
   "source": [
    "## Pipeline\n",
    "\n",
    "### Parte 1, Transformacion de datos.\n",
    "\n",
    "1. Transformacion de los datos:\n",
    "    * Analisis de propiedades\n",
    "    * Deteccion de nulls.\n",
    "    * Imputacion de valores faltantes.\n",
    "    * Eliminacion de instancias con datos contradictorios o poca cantidad de datos.\n",
    "\n",
    "\n",
    "2. Detección y eliminación de Outliers:\n",
    "   * Determinar outliers para Bathrooms y rooms\n",
    "       * Regla de los 3 sigmas ( si no hay mucha varianza )\n",
    "   * Para superficie total determinamos outliers con reglas de diseño.\n",
    "   * Creamos un boxpolot con alguna propiedad\n",
    "       * 3 box-plots\n",
    "\n",
    "\n",
    "3. Encoding: transformamos las variables categoricas en numeros: barrio (l3) y tipo de propiedad.\n",
    "\n",
    "4. Train-test.\n",
    "\n",
    "5. Escalado de datos: todos los datos salvo el price.\n",
    "\n",
    "6. Reduccion de dimensionalidad\n",
    "\n",
    "\n",
    "### Parte 2, Modelos avanzados.\n",
    "\n",
    "7. Benchmark: Ver Arbol de decision proyecto 1 y compararlo con proyecto 2. Usar los mismos hiperparametros.\n",
    "\n",
    "8. Modelos de ensamble:\n",
    "    * \n",
    "\n"
   ]
  },
  {
   "cell_type": "markdown",
   "metadata": {
    "id": "LvPBQzg5C4OI"
   },
   "source": [
    "## 1. Transformacion de los datos.\n",
    "\n",
    "En esta sección, Continuamos con el Análisis Exploratorio de Datos realizados en el proyecto 1. Debemos elegir cual de las siguientes tareas es apropiada para este dataset e implementar la transformacion\n",
    "\n",
    "* Detección y eliminación de Outliers\n",
    "* Encoding\n",
    "* Imputación de valores faltantes\n",
    "* Escalado de datos\n",
    "* Generación de nuevas variables predictoras/reducción de dimensionalidad (SVD/PCA)."
   ]
  },
  {
   "cell_type": "markdown",
   "metadata": {},
   "source": [
    "Importamos librerias utiles para trabajar."
   ]
  },
  {
   "cell_type": "code",
   "execution_count": 1,
   "metadata": {},
   "outputs": [],
   "source": [
    "# 1 Importar liberias utilesimport numpy as np\n",
    "import pandas as pd\n",
    "import seaborn as sns\n",
    "import matplotlib.pyplot as plt\n",
    "from scipy import stats\n",
    "import numpy as np\n",
    "from sklearn.preprocessing import LabelEncoder\n",
    "from sklearn.preprocessing import MinMaxScaler\n",
    "from sklearn.decomposition import PCA\n",
    "from sklearn.model_selection import train_test_split\n",
    "from sklearn.linear_model import LinearRegression\n",
    "from sklearn.tree import DecisionTreeRegressor\n",
    "from sklearn.neighbors import KNeighborsRegressor\n",
    "from sklearn.metrics import mean_squared_error"
   ]
  },
  {
   "cell_type": "code",
   "execution_count": 2,
   "metadata": {},
   "outputs": [],
   "source": [
    "class utils:\n",
    "    @staticmethod\n",
    "    def open_csv(path):\n",
    "        return pd.read_csv(path)\n",
    "\n",
    "    @staticmethod\n",
    "    def graph_by_property_value(property_name, property_value, order_array, ax1,ax2):\n",
    "        a = sns.countplot(data = dataset[dataset.l2 == property_value],y=property_name, palette=\"Set3\",ax=ax[ax1,ax2], order=order_array)\n",
    "        a.set_title(property_value)\n",
    "    \n",
    "    @staticmethod\n",
    "    def split(features,obj,test_size):\n",
    "        X_train, X_test, Y_train, Y_test = train_test_split(features, obj, \n",
    "                                                            test_size=test_size, \n",
    "                                                            random_state=42)\n",
    "        return X_train, X_test, Y_train, Y_test\n",
    "    \n",
    "    \n",
    "    @staticmethod\n",
    "    def calculate_rmse(model, X_train, X_test, Y_train, Y_test):\n",
    "        Y_train_pred = model.predict(X_train)\n",
    "        Y_test_pred = model.predict(X_test)\n",
    "        \n",
    "        rmse_train = np.sqrt(mean_squared_error(Y_train, Y_train_pred))\n",
    "        rmse_test = np.sqrt(mean_squared_error(Y_test, Y_test_pred))\n",
    "        \n",
    "        print(f'Err Train: {rmse_train}')\n",
    "        print(f'Err Test: {rmse_test}')\n",
    "\n",
    "    @staticmethod\n",
    "    def rmse_graph(model, X_train, X_test, Y_train, Y_test):\n",
    "        Y_train_pred = model.predict(X_train)\n",
    "        Y_test_pred = model.predict(X_test)\n",
    "        \n",
    "        rmse_train = np.sqrt(mean_squared_error(Y_train, Y_train_pred))\n",
    "        rmse_test = np.sqrt(mean_squared_error(Y_test, Y_test_pred))\n",
    "        \n",
    "        print(f'Err Train: {rmse_train}')\n",
    "        print(f'Err Test: {rmse_test}')\n",
    "\n",
    "        plt.figure(figsize = (10,4))\n",
    "        \n",
    "        sns.distplot(Y_train - Y_train_pred, bins = 20, label = 'train')\n",
    "        sns.distplot(Y_test - Y_test_pred, bins = 20, label = 'test')\n",
    "        \n",
    "        plt.xlabel('Errores')\n",
    "        plt.legend()\n",
    "\n",
    "    \n",
    "    @staticmethod\n",
    "    def decision_tree(title, depths, X_train, X_test, Y_train, Y_test):\n",
    "        #Define error list\n",
    "        err_train = []\n",
    "        err_test = []\n",
    "        for depth in depths:\n",
    "            \n",
    "            #Define DesitionTreeRegresson and fit it\n",
    "            a = DecisionTreeRegressor(max_depth = depth, random_state = 42)\n",
    "            a.fit(X_train, Y_train)\n",
    "            \n",
    "            #try\n",
    "            Y_train_pred = a.predict(X_train)\n",
    "            train_err = np.sqrt(mean_squared_error(Y_train, Y_train_pred))\n",
    "            \n",
    "            Y_test_pred = a.predict(X_test)\n",
    "            test_err = np.sqrt(mean_squared_error(Y_test, Y_test_pred))\n",
    "\n",
    "            #save the error\n",
    "            err_train.append(train_err)\n",
    "            err_test.append(test_err)\n",
    "         \n",
    "        plt.plot(depths, err_train,'o-',label='train' )\n",
    "        plt.plot(depths, err_test, 'o-',label='test')\n",
    "        plt.legend()\n",
    "        plt.title(title)\n",
    "        plt.xlabel('depths')\n",
    "        plt.ylabel('error')\n",
    "    \n",
    "\n",
    "    @staticmethod\n",
    "    def knn(titulo, k_vecinos, X_train, X_test, y_train, y_test):\n",
    "        # Definimos las listas vacias para los valores de error deseados\n",
    "        lista_error_train = []\n",
    "        lista_error_test = []\n",
    "\n",
    "        for k in k_vecinos:\n",
    "            # Definir el modelo con el valor de vecinos deseado\n",
    "            clf = KNeighborsRegressor(n_neighbors= k)\n",
    "\n",
    "            # Entrenar el modelo\n",
    "            clf.fit(X_train, y_train)\n",
    "\n",
    "            # Predecir y evaluar sobre el set de entrenamiento\n",
    "            y_train_pred = clf.predict(X_train)\n",
    "            train_err = np.sqrt(mean_squared_error(y_train, y_train_pred))\n",
    "\n",
    "            # Predecir y evaluar sobre el set de evaluación\n",
    "            y_test_pred = clf.predict(X_test)\n",
    "            test_err = np.sqrt(mean_squared_error(y_test, y_test_pred))\n",
    "\n",
    "            # Agregar la información a las listas\n",
    "            lista_error_train.append(train_err)\n",
    "            lista_error_test.append(test_err)\n",
    "\n",
    "        plt.plot(k_vecinos, lista_error_train,'o-',label='train' )\n",
    "        plt.plot(k_vecinos, lista_error_test, 'o-',label='test')\n",
    "        plt.legend()\n",
    "        plt.title(titulo)\n",
    "        plt.xlabel('k_vecinos')\n",
    "        plt.ylabel('error')\n",
    "        plt.ylabel('error')"
   ]
  },
  {
   "cell_type": "markdown",
   "metadata": {
    "id": "5gWE6fwUC4OY"
   },
   "source": [
    "Cargamos el Dataset. Si no se encuentra el dataset, descomprimir zip ubicado en /Datasets. Realizamos una aproximación al dataset, mostrando las primeros cinco instancias."
   ]
  },
  {
   "cell_type": "code",
   "execution_count": 3,
   "metadata": {
    "id": "YL2eAd_tC4Oa"
   },
   "outputs": [
    {
     "data": {
      "text/plain": [
       "(146660, 19)"
      ]
     },
     "execution_count": 3,
     "metadata": {},
     "output_type": "execute_result"
    }
   ],
   "source": [
    "# 2. Cargar dataset, informacion general.\n",
    "path = \"Datasets/DS_Proyecto_01_Datos_Properati.csv\"\n",
    "dataset = pd.read_csv(path)\n",
    "dataset.head()\n",
    "dataset.shape"
   ]
  },
  {
   "cell_type": "markdown",
   "metadata": {},
   "source": [
    "### 1.1 Analisis de propiedades\n",
    "\n",
    "#### Rooms\n",
    "* En Argentina, cuando se habla de un departamento 3 ambientes, significa que le departamento tiene tres espacios de permanencia, es decir, no contamos los espacios de serivicio como cocina, baño, lavadero o cochera.\n",
    "\n",
    "* Descripcion obtenida del sitio web de properati:\n",
    "    * rooms - Cantidad de ambientes (útil en Argentina).\n",
    "    * bedrooms - Cantidad de dormitorios (útil en el resto de los países).\n",
    "    * bathrooms - Cantidad de baños.\n",
    "    \n",
    "* Asumo que bathrooms no esta incluido en rooms, pero que bedrooms si lo esta, dado que en algunos casos bedrooms + bathrooms es mayor que rooms.\n",
    "\n",
    "#### Reglas de diseño:  Estudiar anomalias referidas a la relacion entre algunas de las propiedades. \n",
    "* Que la superficie cubierta sea menor o igual a la superficie total.\n",
    "* Una de las propiedades que presenta nulls son los baños. Quisiera estudiar mas detenidamente como se cargaron algunos valores. Tiene sentido que una propiedad de dos ambientes ( living-comedor + 1 dormitorio) tenga mas de dos baños? diría que no. Es poco común. De la misma manera. Tiene sentido que una propiedad de mas de 60m2 tenga solo 1 baño? Puede ser, en ambos casos, si hablamos de viviendas probablemente quien las diseño deberia replantearse cuanta gente habita cada lugar.\n",
    "* Si un deposito presenta un dato null en baños o dormitorios. Debemos calcularlo o podemos inferirlo? sabemos que un deposito no tiene dormitorios, y dependiendo del diseño puede tener 1 o 2 baños. En que situacion un deposito podria tener mas de un baños?"
   ]
  },
  {
   "cell_type": "markdown",
   "metadata": {},
   "source": [
    "#### Descartamos propiedades poco utiles para nuestro analisis\n",
    "Primero descartamos aquellas propiedades que no son utiles para nuestro analisis y contamos la cantidad de datos faltantes por columna que tiene el dataset."
   ]
  },
  {
   "cell_type": "code",
   "execution_count": 4,
   "metadata": {},
   "outputs": [
    {
     "data": {
      "text/html": [
       "<div>\n",
       "<style scoped>\n",
       "    .dataframe tbody tr th:only-of-type {\n",
       "        vertical-align: middle;\n",
       "    }\n",
       "\n",
       "    .dataframe tbody tr th {\n",
       "        vertical-align: top;\n",
       "    }\n",
       "\n",
       "    .dataframe thead th {\n",
       "        text-align: right;\n",
       "    }\n",
       "</style>\n",
       "<table border=\"1\" class=\"dataframe\">\n",
       "  <thead>\n",
       "    <tr style=\"text-align: right;\">\n",
       "      <th></th>\n",
       "      <th>l2</th>\n",
       "      <th>l3</th>\n",
       "      <th>rooms</th>\n",
       "      <th>bedrooms</th>\n",
       "      <th>bathrooms</th>\n",
       "      <th>surface_total</th>\n",
       "      <th>surface_covered</th>\n",
       "      <th>price</th>\n",
       "      <th>property_type</th>\n",
       "    </tr>\n",
       "  </thead>\n",
       "  <tbody>\n",
       "    <tr>\n",
       "      <th>0</th>\n",
       "      <td>Capital Federal</td>\n",
       "      <td>San Cristobal</td>\n",
       "      <td>7.0</td>\n",
       "      <td>7.0</td>\n",
       "      <td>2.0</td>\n",
       "      <td>140.0</td>\n",
       "      <td>140.0</td>\n",
       "      <td>153000.0</td>\n",
       "      <td>Departamento</td>\n",
       "    </tr>\n",
       "    <tr>\n",
       "      <th>1</th>\n",
       "      <td>Capital Federal</td>\n",
       "      <td>Boedo</td>\n",
       "      <td>2.0</td>\n",
       "      <td>1.0</td>\n",
       "      <td>2.0</td>\n",
       "      <td>70.0</td>\n",
       "      <td>58.0</td>\n",
       "      <td>159000.0</td>\n",
       "      <td>PH</td>\n",
       "    </tr>\n",
       "    <tr>\n",
       "      <th>2</th>\n",
       "      <td>Capital Federal</td>\n",
       "      <td>Palermo</td>\n",
       "      <td>2.0</td>\n",
       "      <td>1.0</td>\n",
       "      <td>1.0</td>\n",
       "      <td>45.0</td>\n",
       "      <td>45.0</td>\n",
       "      <td>125000.0</td>\n",
       "      <td>PH</td>\n",
       "    </tr>\n",
       "    <tr>\n",
       "      <th>3</th>\n",
       "      <td>Capital Federal</td>\n",
       "      <td>Palermo</td>\n",
       "      <td>2.0</td>\n",
       "      <td>1.0</td>\n",
       "      <td>1.0</td>\n",
       "      <td>85.0</td>\n",
       "      <td>50.0</td>\n",
       "      <td>295000.0</td>\n",
       "      <td>PH</td>\n",
       "    </tr>\n",
       "    <tr>\n",
       "      <th>4</th>\n",
       "      <td>Bs.As. G.B.A. Zona Sur</td>\n",
       "      <td>La Plata</td>\n",
       "      <td>2.0</td>\n",
       "      <td>1.0</td>\n",
       "      <td>1.0</td>\n",
       "      <td>50.0</td>\n",
       "      <td>35.0</td>\n",
       "      <td>40000.0</td>\n",
       "      <td>PH</td>\n",
       "    </tr>\n",
       "    <tr>\n",
       "      <th>...</th>\n",
       "      <td>...</td>\n",
       "      <td>...</td>\n",
       "      <td>...</td>\n",
       "      <td>...</td>\n",
       "      <td>...</td>\n",
       "      <td>...</td>\n",
       "      <td>...</td>\n",
       "      <td>...</td>\n",
       "      <td>...</td>\n",
       "    </tr>\n",
       "    <tr>\n",
       "      <th>495</th>\n",
       "      <td>Bs.As. G.B.A. Zona Sur</td>\n",
       "      <td>Berazategui</td>\n",
       "      <td>5.0</td>\n",
       "      <td>3.0</td>\n",
       "      <td>2.0</td>\n",
       "      <td>236.0</td>\n",
       "      <td>192.0</td>\n",
       "      <td>200000.0</td>\n",
       "      <td>Casa</td>\n",
       "    </tr>\n",
       "    <tr>\n",
       "      <th>496</th>\n",
       "      <td>Bs.As. G.B.A. Zona Sur</td>\n",
       "      <td>San Vicente</td>\n",
       "      <td>7.0</td>\n",
       "      <td>3.0</td>\n",
       "      <td>3.0</td>\n",
       "      <td>814.0</td>\n",
       "      <td>236.0</td>\n",
       "      <td>370000.0</td>\n",
       "      <td>Casa</td>\n",
       "    </tr>\n",
       "    <tr>\n",
       "      <th>497</th>\n",
       "      <td>Bs.As. G.B.A. Zona Sur</td>\n",
       "      <td>Lomas de Zamora</td>\n",
       "      <td>6.0</td>\n",
       "      <td>3.0</td>\n",
       "      <td>2.0</td>\n",
       "      <td>266.0</td>\n",
       "      <td>170.0</td>\n",
       "      <td>225000.0</td>\n",
       "      <td>Casa</td>\n",
       "    </tr>\n",
       "    <tr>\n",
       "      <th>498</th>\n",
       "      <td>Bs.As. G.B.A. Zona Sur</td>\n",
       "      <td>Esteban Echeverría</td>\n",
       "      <td>5.0</td>\n",
       "      <td>3.0</td>\n",
       "      <td>2.0</td>\n",
       "      <td>938.0</td>\n",
       "      <td>180.0</td>\n",
       "      <td>280000.0</td>\n",
       "      <td>Casa</td>\n",
       "    </tr>\n",
       "    <tr>\n",
       "      <th>499</th>\n",
       "      <td>Bs.As. G.B.A. Zona Sur</td>\n",
       "      <td>Lanús</td>\n",
       "      <td>4.0</td>\n",
       "      <td>3.0</td>\n",
       "      <td>2.0</td>\n",
       "      <td>156.0</td>\n",
       "      <td>135.0</td>\n",
       "      <td>360000.0</td>\n",
       "      <td>Departamento</td>\n",
       "    </tr>\n",
       "  </tbody>\n",
       "</table>\n",
       "<p>500 rows × 9 columns</p>\n",
       "</div>"
      ],
      "text/plain": [
       "                         l2                  l3  rooms  bedrooms  bathrooms  \\\n",
       "0           Capital Federal       San Cristobal    7.0       7.0        2.0   \n",
       "1           Capital Federal               Boedo    2.0       1.0        2.0   \n",
       "2           Capital Federal             Palermo    2.0       1.0        1.0   \n",
       "3           Capital Federal             Palermo    2.0       1.0        1.0   \n",
       "4    Bs.As. G.B.A. Zona Sur            La Plata    2.0       1.0        1.0   \n",
       "..                      ...                 ...    ...       ...        ...   \n",
       "495  Bs.As. G.B.A. Zona Sur         Berazategui    5.0       3.0        2.0   \n",
       "496  Bs.As. G.B.A. Zona Sur         San Vicente    7.0       3.0        3.0   \n",
       "497  Bs.As. G.B.A. Zona Sur     Lomas de Zamora    6.0       3.0        2.0   \n",
       "498  Bs.As. G.B.A. Zona Sur  Esteban Echeverría    5.0       3.0        2.0   \n",
       "499  Bs.As. G.B.A. Zona Sur               Lanús    4.0       3.0        2.0   \n",
       "\n",
       "     surface_total  surface_covered     price property_type  \n",
       "0            140.0            140.0  153000.0  Departamento  \n",
       "1             70.0             58.0  159000.0            PH  \n",
       "2             45.0             45.0  125000.0            PH  \n",
       "3             85.0             50.0  295000.0            PH  \n",
       "4             50.0             35.0   40000.0            PH  \n",
       "..             ...              ...       ...           ...  \n",
       "495          236.0            192.0  200000.0          Casa  \n",
       "496          814.0            236.0  370000.0          Casa  \n",
       "497          266.0            170.0  225000.0          Casa  \n",
       "498          938.0            180.0  280000.0          Casa  \n",
       "499          156.0            135.0  360000.0  Departamento  \n",
       "\n",
       "[500 rows x 9 columns]"
      ]
     },
     "execution_count": 4,
     "metadata": {},
     "output_type": "execute_result"
    }
   ],
   "source": [
    "dataset.drop(['l1', 'lat','lon','start_date', 'end_date', 'created_on', 'title', 'currency','operation_type', 'description'], 'columns', inplace = True )\n",
    "dataset.head(500)"
   ]
  },
  {
   "cell_type": "markdown",
   "metadata": {},
   "source": [
    "### 1.2 Deteccion de nulls"
   ]
  },
  {
   "cell_type": "code",
   "execution_count": 5,
   "metadata": {},
   "outputs": [
    {
     "name": "stdout",
     "output_type": "stream",
     "text": [
      "Nulls en cada columna:\n"
     ]
    },
    {
     "data": {
      "text/plain": [
       "l2                     0\n",
       "l3                     0\n",
       "rooms                  0\n",
       "bedrooms               0\n",
       "bathrooms           5957\n",
       "surface_total      20527\n",
       "surface_covered    21614\n",
       "price                  0\n",
       "property_type          0\n",
       "dtype: int64"
      ]
     },
     "execution_count": 5,
     "metadata": {},
     "output_type": "execute_result"
    }
   ],
   "source": [
    "print(\"Nulls en cada columna:\")\n",
    "dataset.isna().sum()"
   ]
  },
  {
   "cell_type": "markdown",
   "metadata": {},
   "source": [
    "### 1.3 Imputacion de valores faltantes"
   ]
  },
  {
   "cell_type": "code",
   "execution_count": 6,
   "metadata": {},
   "outputs": [],
   "source": [
    "#imputacion bathroom: regla de diseño.\n",
    "def fill_bathroom(room_count):\n",
    "    if (room_count < 3):\n",
    "        return 1\n",
    "    elif (room_count >= 3 and room_count < 5):\n",
    "        return 2\n",
    "    elif (room_count >= 5 and room_count < 7):\n",
    "        return 3\n",
    "    elif (room_count >= 8 and room_count < 10):\n",
    "        return 4\n",
    "    else:\n",
    "        return 5\n",
    "\n",
    "\n",
    "#for row in dataset.index:\n",
    "#    if(np.isnan(dataset['bathrooms'][row])):\n",
    "#        dataset['bathrooms'][row] = fill_bathroom(dataset['rooms'][row])\n",
    "        \n",
    "ds2 = dataset.copy()\n",
    "#ds2.isna().sum()"
   ]
  },
  {
   "cell_type": "markdown",
   "metadata": {},
   "source": [
    "### 1.4 Eliminacion de instancias con datos contradictorios"
   ]
  },
  {
   "cell_type": "markdown",
   "metadata": {},
   "source": [
    "Eliminamos aquellas instancias que tienen:\n",
    "   * Mayor superficie cubierta que superficie total\n",
    "   * Mayor cantidad de baños que habitaciones\n",
    "    "
   ]
  },
  {
   "cell_type": "markdown",
   "metadata": {},
   "source": [
    "#Solo capital federal\n",
    "mask0 =(ds2[\"l2\"]==\"Capital Federal\")\n",
    "\n",
    "#sup cubierta mayor que sup total\n",
    "mask1 = (ds2['surface_total'] < ds2['surface_covered'])\n",
    "print(\"surface_total < surface_covered: \" + str(mask1.sum()) + \" Casos\")\n",
    "\n",
    "if not \"_rooms\" in ds2:\n",
    "    ds2[\"_rooms\"] = ds2[\"rooms\"]-ds2[\"bedrooms\"]\n",
    "    \n",
    "#mas baños que habitaciones\n",
    "mask2 = (ds2['rooms'] < ds2['bathrooms'])\n",
    "print(\"rooms < bathrooms: \" + str(mask2.sum()) + \" Casos\")\n",
    "\n",
    "ds3 = ds2[mask0 & ~mask1 & ~mask2]\n",
    "\n",
    "d1 = ds3.shape[0]\n",
    "d2 = ds2.shape[0] - ds3.shape[0]\n",
    "\n",
    "labels = ['Dataset', 'Deleted']\n",
    "sizes = [d1, d2]  # Add upto 100%\n",
    " \n",
    "# Plot the pie chart\n",
    "plt.pie(sizes, labels=labels, autopct='%1.1f%%', startangle=90)\n",
    " \n",
    "# Equal aspect ratio ensures that pie is drawn as a circle.\n",
    "plt.axis('equal')\n",
    " \n",
    "# Display the graph onto the screen\n",
    "plt.show()\n",
    "\n",
    "ds3.shape"
   ]
  },
  {
   "cell_type": "markdown",
   "metadata": {},
   "source": [
    "ds3.isna().sum()"
   ]
  },
  {
   "cell_type": "markdown",
   "metadata": {},
   "source": [
    "pd.unique(ds3.loc[:,'property_type'])"
   ]
  },
  {
   "cell_type": "markdown",
   "metadata": {},
   "source": [
    "#Propiedades que solo tienen bethrooms y bathrooms?\n",
    "\n",
    "#no rooms\n",
    "#mask3 = (ds3['_rooms'] < 1 | ds3['_rooms'].isna())\n",
    "print(\"zero rooms: \" + str(mask3.sum()) + \" Casos\")\n",
    "\n",
    "#No bedrooms\n",
    "mask4= (ds3['bedrooms'].isna())\n",
    "print(\"zero bedrooms: \" + str(mask4.sum()) + \" Casos\")\n",
    "\n",
    "#No bathrooms\n",
    "mask5= ds3['bathrooms'].isna()\n",
    "print(\"zero bathrooms: \" + str(mask5.sum()) + \" Casos\")\n",
    "\n",
    "mask6 = ((ds3['property_type'] == \"PH\") |\n",
    "         (ds3['property_type'] == \"Casa\") |\n",
    "         (ds3['property_type'] == \"Departamento\")\n",
    "        )\n",
    "\n",
    "\n",
    "ds4 = ds3[mask6]\n",
    "#ds4 = ds3[~mask5]\n",
    "\n",
    "ds4[\"bathrooms\"].isnull().sum()\n",
    "\n",
    "#ds4[\"bathrooms\"].isnull().groupby([ds4[\"property_type\"]]).sum().astype(int).reset_index(name='count')\n",
    "\n",
    "#d1 = ds4.shape[0]\n",
    "#d2 = ds3.shape[0] - ds4.shape[0]\n",
    "\n",
    "#labels = ['Dataset', 'Deleted']\n",
    "#sizes = [d1, d2]  # Add upto 100%\n",
    " \n",
    "# Plot the pie chart\n",
    "#plt.pie(sizes, labels=labels, autopct='%1.1f%%', startangle=90)\n",
    " \n",
    "# Equal aspect ratio ensures that pie is drawn as a circle.\n",
    "#plt.axis('equal')\n",
    " \n",
    "# Display the graph onto the screen\n",
    "#plt.show()\n",
    "\n",
    "#ds3.shape\n",
    "\n",
    "#d1"
   ]
  },
  {
   "cell_type": "markdown",
   "metadata": {},
   "source": [
    "ds4.isnull().sum()"
   ]
  },
  {
   "cell_type": "markdown",
   "metadata": {},
   "source": [
    "ds3.head(100)"
   ]
  },
  {
   "cell_type": "markdown",
   "metadata": {},
   "source": [
    "Podemos analizar la relacion que existe entre las variables surface_total y surface_covered."
   ]
  },
  {
   "cell_type": "markdown",
   "metadata": {},
   "source": [
    "mask7 = (ds4[\"surface_total\"].isnull()) & (ds4[\"surface_covered\"].isnull()) \n",
    "print(\"Propiedades que tienen null ambos valores: \" + str(ds4[mask7].shape[0]))\n",
    "\n",
    "mask8 = ds4[\"surface_total\"].isnull()\n",
    "mask9 = ds4[\"surface_covered\"].isnull()"
   ]
  },
  {
   "cell_type": "markdown",
   "metadata": {},
   "source": [
    "Sin tener estos valores es dificil explorar el precio. Alternativas que pensé pero que no estas implementadas:\n",
    "* Leer las descripciones y tratar de obtener los metros cuadrados de la construccion. Lo veo dificil ahora porque podrian existir muchas formas de escribir dicho valor.\n",
    "* Estimar la superficie en funcion de la cantidad de rooms. Creo que seria poco exacto."
   ]
  },
  {
   "cell_type": "code",
   "execution_count": 10,
   "metadata": {},
   "outputs": [
    {
     "data": {
      "text/plain": [
       "l2                 0\n",
       "l3                 0\n",
       "rooms              0\n",
       "bedrooms           0\n",
       "bathrooms          0\n",
       "surface_total      0\n",
       "surface_covered    0\n",
       "price              0\n",
       "property_type      0\n",
       "dtype: int64"
      ]
     },
     "execution_count": 10,
     "metadata": {},
     "output_type": "execute_result"
    }
   ],
   "source": [
    "#ds5 = ds4[~(mask8 | mask9)]\n",
    "ds5 = ds2.dropna()\n",
    "ds5.isnull().sum()"
   ]
  },
  {
   "cell_type": "markdown",
   "metadata": {},
   "source": [
    "Las eliminamos, no tiene mucho sentido mantenerlas o suponer algun valor."
   ]
  },
  {
   "cell_type": "code",
   "execution_count": 11,
   "metadata": {},
   "outputs": [
    {
     "data": {
      "text/plain": [
       "122818"
      ]
     },
     "execution_count": 11,
     "metadata": {},
     "output_type": "execute_result"
    }
   ],
   "source": [
    "ds5.head()\n",
    "ds5.shape[0]"
   ]
  },
  {
   "cell_type": "markdown",
   "metadata": {},
   "source": [
    "#### Correlacion entre las variables"
   ]
  },
  {
   "cell_type": "code",
   "execution_count": 12,
   "metadata": {},
   "outputs": [],
   "source": [
    "corr = ds5.corr()"
   ]
  },
  {
   "cell_type": "code",
   "execution_count": 13,
   "metadata": {},
   "outputs": [
    {
     "data": {
      "text/plain": [
       "<AxesSubplot:>"
      ]
     },
     "execution_count": 13,
     "metadata": {},
     "output_type": "execute_result"
    },
    {
     "data": {
      "image/png": "[encoded data removed]",
      "text/plain": [
       "<Figure size 432x288 with 2 Axes>"
      ]
     },
     "metadata": {
      "needs_background": "light"
     },
     "output_type": "display_data"
    }
   ],
   "source": [
    "sns.heatmap(corr, cbar = True, annot = True )"
   ]
  },
  {
   "cell_type": "markdown",
   "metadata": {},
   "source": [
    "#### Determinacion de Outliers"
   ]
  },
  {
   "cell_type": "code",
   "execution_count": 14,
   "metadata": {},
   "outputs": [
    {
     "data": {
      "text/plain": [
       "Departamento       92087\n",
       "Casa               16040\n",
       "PH                 13923\n",
       "Oficina              355\n",
       "Casa de campo        253\n",
       "Otro                 108\n",
       "Lote                  29\n",
       "Local comercial       15\n",
       "Depósito               6\n",
       "Cochera                2\n",
       "Name: property_type, dtype: int64"
      ]
     },
     "execution_count": 14,
     "metadata": {},
     "output_type": "execute_result"
    }
   ],
   "source": [
    "ds5.property_type.value_counts()"
   ]
  },
  {
   "cell_type": "code",
   "execution_count": 15,
   "metadata": {},
   "outputs": [],
   "source": [
    "def set_outliers(p):\n",
    "    ceil = p.mean()+3*(p.std())\n",
    "    floor = p.mean()-3*(p.std())\n",
    "    print(\"Max value: \", ceil)\n",
    "    print(\"Min value: \", floor)\n",
    "    print(\"The rest is not common\")"
   ]
  },
  {
   "cell_type": "code",
   "execution_count": 16,
   "metadata": {},
   "outputs": [
    {
     "name": "stdout",
     "output_type": "stream",
     "text": [
      "Max value:  3.961606177097761\n",
      "Min value:  -0.9314716304190764\n",
      "The rest is not common\n"
     ]
    },
    {
     "ename": "AttributeError",
     "evalue": "'DataFrame' object has no attribute '_rooms'",
     "output_type": "error",
     "traceback": [
      "\u001b[1;31m---------------------------------------------------------------------------\u001b[0m",
      "\u001b[1;31mAttributeError\u001b[0m                            Traceback (most recent call last)",
      "\u001b[1;32m<ipython-input-16-351cf8e4fb99>\u001b[0m in \u001b[0;36m<module>\u001b[1;34m\u001b[0m\n\u001b[0;32m      1\u001b[0m \u001b[0mdeptos\u001b[0m \u001b[1;33m=\u001b[0m \u001b[0mds5\u001b[0m\u001b[1;33m[\u001b[0m\u001b[0mds5\u001b[0m\u001b[1;33m.\u001b[0m\u001b[0mproperty_type\u001b[0m\u001b[1;33m==\u001b[0m\u001b[1;34m\"Departamento\"\u001b[0m\u001b[1;33m]\u001b[0m\u001b[1;33m\u001b[0m\u001b[1;33m\u001b[0m\u001b[0m\n\u001b[0;32m      2\u001b[0m \u001b[0mset_outliers\u001b[0m\u001b[1;33m(\u001b[0m\u001b[0mdeptos\u001b[0m\u001b[1;33m.\u001b[0m\u001b[0mbathrooms\u001b[0m\u001b[1;33m)\u001b[0m\u001b[1;33m\u001b[0m\u001b[1;33m\u001b[0m\u001b[0m\n\u001b[1;32m----> 3\u001b[1;33m \u001b[0mset_outliers\u001b[0m\u001b[1;33m(\u001b[0m\u001b[0mdeptos\u001b[0m\u001b[1;33m.\u001b[0m\u001b[0m_rooms\u001b[0m\u001b[1;33m)\u001b[0m\u001b[1;33m\u001b[0m\u001b[1;33m\u001b[0m\u001b[0m\n\u001b[0m\u001b[0;32m      4\u001b[0m \u001b[0mset_outliers\u001b[0m\u001b[1;33m(\u001b[0m\u001b[0mdeptos\u001b[0m\u001b[1;33m.\u001b[0m\u001b[0msurface_covered\u001b[0m\u001b[1;33m)\u001b[0m\u001b[1;33m\u001b[0m\u001b[1;33m\u001b[0m\u001b[0m\n\u001b[0;32m      5\u001b[0m \u001b[0mset_outliers\u001b[0m\u001b[1;33m(\u001b[0m\u001b[0mdeptos\u001b[0m\u001b[1;33m.\u001b[0m\u001b[0mprice\u001b[0m\u001b[1;33m)\u001b[0m\u001b[1;33m\u001b[0m\u001b[1;33m\u001b[0m\u001b[0m\n",
      "\u001b[1;32m~\\anaconda3\\lib\\site-packages\\pandas\\core\\generic.py\u001b[0m in \u001b[0;36m__getattr__\u001b[1;34m(self, name)\u001b[0m\n\u001b[0;32m   5137\u001b[0m             \u001b[1;32mif\u001b[0m \u001b[0mself\u001b[0m\u001b[1;33m.\u001b[0m\u001b[0m_info_axis\u001b[0m\u001b[1;33m.\u001b[0m\u001b[0m_can_hold_identifiers_and_holds_name\u001b[0m\u001b[1;33m(\u001b[0m\u001b[0mname\u001b[0m\u001b[1;33m)\u001b[0m\u001b[1;33m:\u001b[0m\u001b[1;33m\u001b[0m\u001b[1;33m\u001b[0m\u001b[0m\n\u001b[0;32m   5138\u001b[0m                 \u001b[1;32mreturn\u001b[0m \u001b[0mself\u001b[0m\u001b[1;33m[\u001b[0m\u001b[0mname\u001b[0m\u001b[1;33m]\u001b[0m\u001b[1;33m\u001b[0m\u001b[1;33m\u001b[0m\u001b[0m\n\u001b[1;32m-> 5139\u001b[1;33m             \u001b[1;32mreturn\u001b[0m \u001b[0mobject\u001b[0m\u001b[1;33m.\u001b[0m\u001b[0m__getattribute__\u001b[0m\u001b[1;33m(\u001b[0m\u001b[0mself\u001b[0m\u001b[1;33m,\u001b[0m \u001b[0mname\u001b[0m\u001b[1;33m)\u001b[0m\u001b[1;33m\u001b[0m\u001b[1;33m\u001b[0m\u001b[0m\n\u001b[0m\u001b[0;32m   5140\u001b[0m \u001b[1;33m\u001b[0m\u001b[0m\n\u001b[0;32m   5141\u001b[0m     \u001b[1;32mdef\u001b[0m \u001b[0m__setattr__\u001b[0m\u001b[1;33m(\u001b[0m\u001b[0mself\u001b[0m\u001b[1;33m,\u001b[0m \u001b[0mname\u001b[0m\u001b[1;33m:\u001b[0m \u001b[0mstr\u001b[0m\u001b[1;33m,\u001b[0m \u001b[0mvalue\u001b[0m\u001b[1;33m)\u001b[0m \u001b[1;33m->\u001b[0m \u001b[1;32mNone\u001b[0m\u001b[1;33m:\u001b[0m\u001b[1;33m\u001b[0m\u001b[1;33m\u001b[0m\u001b[0m\n",
      "\u001b[1;31mAttributeError\u001b[0m: 'DataFrame' object has no attribute '_rooms'"
     ]
    }
   ],
   "source": [
    "deptos = ds5[ds5.property_type==\"Departamento\"]\n",
    "set_outliers(deptos.bathrooms)\n",
    "set_outliers(deptos._rooms)\n",
    "set_outliers(deptos.surface_covered)\n",
    "set_outliers(deptos.price)"
   ]
  },
  {
   "cell_type": "markdown",
   "metadata": {},
   "source": [
    "En ninguno de estos casos tendremos valores negativos. Los limites inferiores se re definen de la siguiente manera:\n",
    "* Cantidad minima de baños : 1\n",
    "* Cantidad minima de rooms : 1\n",
    "* Superficie minima : 35m2\n",
    "* Precio minimo : 20 mil dolares\n",
    "\n",
    "Los valores arrojados para surface_covered no son aceptables. Se determina como valor maximo 300m2"
   ]
  },
  {
   "cell_type": "code",
   "execution_count": 17,
   "metadata": {},
   "outputs": [
    {
     "ename": "KeyError",
     "evalue": "'_rooms'",
     "output_type": "error",
     "traceback": [
      "\u001b[1;31m---------------------------------------------------------------------------\u001b[0m",
      "\u001b[1;31mKeyError\u001b[0m                                  Traceback (most recent call last)",
      "\u001b[1;32m~\\anaconda3\\lib\\site-packages\\pandas\\core\\indexes\\base.py\u001b[0m in \u001b[0;36mget_loc\u001b[1;34m(self, key, method, tolerance)\u001b[0m\n\u001b[0;32m   2894\u001b[0m             \u001b[1;32mtry\u001b[0m\u001b[1;33m:\u001b[0m\u001b[1;33m\u001b[0m\u001b[1;33m\u001b[0m\u001b[0m\n\u001b[1;32m-> 2895\u001b[1;33m                 \u001b[1;32mreturn\u001b[0m \u001b[0mself\u001b[0m\u001b[1;33m.\u001b[0m\u001b[0m_engine\u001b[0m\u001b[1;33m.\u001b[0m\u001b[0mget_loc\u001b[0m\u001b[1;33m(\u001b[0m\u001b[0mcasted_key\u001b[0m\u001b[1;33m)\u001b[0m\u001b[1;33m\u001b[0m\u001b[1;33m\u001b[0m\u001b[0m\n\u001b[0m\u001b[0;32m   2896\u001b[0m             \u001b[1;32mexcept\u001b[0m \u001b[0mKeyError\u001b[0m \u001b[1;32mas\u001b[0m \u001b[0merr\u001b[0m\u001b[1;33m:\u001b[0m\u001b[1;33m\u001b[0m\u001b[1;33m\u001b[0m\u001b[0m\n",
      "\u001b[1;32mpandas\\_libs\\index.pyx\u001b[0m in \u001b[0;36mpandas._libs.index.IndexEngine.get_loc\u001b[1;34m()\u001b[0m\n",
      "\u001b[1;32mpandas\\_libs\\index.pyx\u001b[0m in \u001b[0;36mpandas._libs.index.IndexEngine.get_loc\u001b[1;34m()\u001b[0m\n",
      "\u001b[1;32mpandas\\_libs\\hashtable_class_helper.pxi\u001b[0m in \u001b[0;36mpandas._libs.hashtable.PyObjectHashTable.get_item\u001b[1;34m()\u001b[0m\n",
      "\u001b[1;32mpandas\\_libs\\hashtable_class_helper.pxi\u001b[0m in \u001b[0;36mpandas._libs.hashtable.PyObjectHashTable.get_item\u001b[1;34m()\u001b[0m\n",
      "\u001b[1;31mKeyError\u001b[0m: '_rooms'",
      "\nThe above exception was the direct cause of the following exception:\n",
      "\u001b[1;31mKeyError\u001b[0m                                  Traceback (most recent call last)",
      "\u001b[1;32m<ipython-input-17-16ad0141f986>\u001b[0m in \u001b[0;36m<module>\u001b[1;34m\u001b[0m\n\u001b[0;32m      1\u001b[0m dptos_mask= ((ds5['property_type']=='Departamento')&\n\u001b[0;32m      2\u001b[0m             \u001b[1;33m(\u001b[0m\u001b[0mds5\u001b[0m\u001b[1;33m[\u001b[0m\u001b[1;34m'bathrooms'\u001b[0m\u001b[1;33m]\u001b[0m\u001b[1;33m<=\u001b[0m\u001b[1;36m4\u001b[0m\u001b[1;33m)\u001b[0m\u001b[1;33m&\u001b[0m\u001b[1;33m\u001b[0m\u001b[1;33m\u001b[0m\u001b[0m\n\u001b[1;32m----> 3\u001b[1;33m             \u001b[1;33m(\u001b[0m\u001b[0mds5\u001b[0m\u001b[1;33m[\u001b[0m\u001b[1;34m'_rooms'\u001b[0m\u001b[1;33m]\u001b[0m\u001b[1;33m<=\u001b[0m\u001b[1;36m3\u001b[0m\u001b[1;33m)\u001b[0m\u001b[1;33m&\u001b[0m\u001b[1;33m\u001b[0m\u001b[1;33m\u001b[0m\u001b[0m\n\u001b[0m\u001b[0;32m      4\u001b[0m             \u001b[1;33m(\u001b[0m\u001b[0mds5\u001b[0m\u001b[1;33m[\u001b[0m\u001b[1;34m'surface_total'\u001b[0m\u001b[1;33m]\u001b[0m\u001b[1;33m<=\u001b[0m\u001b[1;36m300\u001b[0m\u001b[1;33m)\u001b[0m\u001b[1;33m&\u001b[0m\u001b[1;33m\u001b[0m\u001b[1;33m\u001b[0m\u001b[0m\n\u001b[0;32m      5\u001b[0m             \u001b[1;33m(\u001b[0m\u001b[0mds5\u001b[0m\u001b[1;33m[\u001b[0m\u001b[1;34m'surface_total'\u001b[0m\u001b[1;33m]\u001b[0m\u001b[1;33m>=\u001b[0m\u001b[1;36m20\u001b[0m\u001b[1;33m)\u001b[0m\u001b[1;33m&\u001b[0m\u001b[1;33m\u001b[0m\u001b[1;33m\u001b[0m\u001b[0m\n",
      "\u001b[1;32m~\\anaconda3\\lib\\site-packages\\pandas\\core\\frame.py\u001b[0m in \u001b[0;36m__getitem__\u001b[1;34m(self, key)\u001b[0m\n\u001b[0;32m   2900\u001b[0m             \u001b[1;32mif\u001b[0m \u001b[0mself\u001b[0m\u001b[1;33m.\u001b[0m\u001b[0mcolumns\u001b[0m\u001b[1;33m.\u001b[0m\u001b[0mnlevels\u001b[0m \u001b[1;33m>\u001b[0m \u001b[1;36m1\u001b[0m\u001b[1;33m:\u001b[0m\u001b[1;33m\u001b[0m\u001b[1;33m\u001b[0m\u001b[0m\n\u001b[0;32m   2901\u001b[0m                 \u001b[1;32mreturn\u001b[0m \u001b[0mself\u001b[0m\u001b[1;33m.\u001b[0m\u001b[0m_getitem_multilevel\u001b[0m\u001b[1;33m(\u001b[0m\u001b[0mkey\u001b[0m\u001b[1;33m)\u001b[0m\u001b[1;33m\u001b[0m\u001b[1;33m\u001b[0m\u001b[0m\n\u001b[1;32m-> 2902\u001b[1;33m             \u001b[0mindexer\u001b[0m \u001b[1;33m=\u001b[0m \u001b[0mself\u001b[0m\u001b[1;33m.\u001b[0m\u001b[0mcolumns\u001b[0m\u001b[1;33m.\u001b[0m\u001b[0mget_loc\u001b[0m\u001b[1;33m(\u001b[0m\u001b[0mkey\u001b[0m\u001b[1;33m)\u001b[0m\u001b[1;33m\u001b[0m\u001b[1;33m\u001b[0m\u001b[0m\n\u001b[0m\u001b[0;32m   2903\u001b[0m             \u001b[1;32mif\u001b[0m \u001b[0mis_integer\u001b[0m\u001b[1;33m(\u001b[0m\u001b[0mindexer\u001b[0m\u001b[1;33m)\u001b[0m\u001b[1;33m:\u001b[0m\u001b[1;33m\u001b[0m\u001b[1;33m\u001b[0m\u001b[0m\n\u001b[0;32m   2904\u001b[0m                 \u001b[0mindexer\u001b[0m \u001b[1;33m=\u001b[0m \u001b[1;33m[\u001b[0m\u001b[0mindexer\u001b[0m\u001b[1;33m]\u001b[0m\u001b[1;33m\u001b[0m\u001b[1;33m\u001b[0m\u001b[0m\n",
      "\u001b[1;32m~\\anaconda3\\lib\\site-packages\\pandas\\core\\indexes\\base.py\u001b[0m in \u001b[0;36mget_loc\u001b[1;34m(self, key, method, tolerance)\u001b[0m\n\u001b[0;32m   2895\u001b[0m                 \u001b[1;32mreturn\u001b[0m \u001b[0mself\u001b[0m\u001b[1;33m.\u001b[0m\u001b[0m_engine\u001b[0m\u001b[1;33m.\u001b[0m\u001b[0mget_loc\u001b[0m\u001b[1;33m(\u001b[0m\u001b[0mcasted_key\u001b[0m\u001b[1;33m)\u001b[0m\u001b[1;33m\u001b[0m\u001b[1;33m\u001b[0m\u001b[0m\n\u001b[0;32m   2896\u001b[0m             \u001b[1;32mexcept\u001b[0m \u001b[0mKeyError\u001b[0m \u001b[1;32mas\u001b[0m \u001b[0merr\u001b[0m\u001b[1;33m:\u001b[0m\u001b[1;33m\u001b[0m\u001b[1;33m\u001b[0m\u001b[0m\n\u001b[1;32m-> 2897\u001b[1;33m                 \u001b[1;32mraise\u001b[0m \u001b[0mKeyError\u001b[0m\u001b[1;33m(\u001b[0m\u001b[0mkey\u001b[0m\u001b[1;33m)\u001b[0m \u001b[1;32mfrom\u001b[0m \u001b[0merr\u001b[0m\u001b[1;33m\u001b[0m\u001b[1;33m\u001b[0m\u001b[0m\n\u001b[0m\u001b[0;32m   2898\u001b[0m \u001b[1;33m\u001b[0m\u001b[0m\n\u001b[0;32m   2899\u001b[0m         \u001b[1;32mif\u001b[0m \u001b[0mtolerance\u001b[0m \u001b[1;32mis\u001b[0m \u001b[1;32mnot\u001b[0m \u001b[1;32mNone\u001b[0m\u001b[1;33m:\u001b[0m\u001b[1;33m\u001b[0m\u001b[1;33m\u001b[0m\u001b[0m\n",
      "\u001b[1;31mKeyError\u001b[0m: '_rooms'"
     ]
    }
   ],
   "source": [
    "dptos_mask= ((ds5['property_type']=='Departamento')&\n",
    "            (ds5['bathrooms']<=4)&\n",
    "            (ds5['_rooms']<=3)&\n",
    "            (ds5['surface_total']<=300)&\n",
    "            (ds5['surface_total']>=20)&\n",
    "            (ds5['price']<1000000))\n",
    "\n",
    "plt.figure(figsize=(20, 10))\n",
    "\n",
    "plt.subplot(3,1,1)\n",
    "sns.boxplot(data = ds5[dptos_mask], x = 'surface_total')\n",
    "plt.ylabel('Dpto', size = 30)\n",
    "\n",
    "plt.subplot(3,1,2)\n",
    "sns.boxplot(data = ds5[dptos_mask], x = 'price')\n",
    "plt.ylabel('Dpto', size = 30)\n",
    "\n",
    "plt.subplot(3,1,3)\n",
    "sns.boxplot(data = ds5[dptos_mask], x = 'rooms')\n",
    "plt.ylabel('Dpto', size = 30)\n",
    "\n",
    "corr_dpto=ds5[dptos_mask].corr()"
   ]
  },
  {
   "cell_type": "code",
   "execution_count": 19,
   "metadata": {},
   "outputs": [
    {
     "name": "stdout",
     "output_type": "stream",
     "text": [
      "Bathrooms\n",
      "Max value:  5.45441970255803\n",
      "Min value:  -1.2239957624084044\n",
      "The rest is not common\n",
      "--------\n",
      "Rooms\n",
      "Max value:  9.402690925735739\n",
      "Min value:  -0.14097022748137356\n",
      "The rest is not common\n",
      "--------\n",
      "Surface covered\n",
      "Max value:  4111.253948363539\n",
      "Min value:  -3620.520407216407\n",
      "The rest is not common\n",
      "--------\n",
      "Price\n",
      "Max value:  1183310.7219987195\n",
      "Min value:  -630568.9829712881\n",
      "The rest is not common\n"
     ]
    }
   ],
   "source": [
    "casas = ds5[ds5.property_type==\"Casa\"]\n",
    "print(\"Bathrooms\")\n",
    "set_outliers(casas.bathrooms)\n",
    "print(\"--------\")\n",
    "print(\"Rooms\")\n",
    "set_outliers(casas.rooms)\n",
    "print(\"--------\")\n",
    "print(\"Surface covered\")\n",
    "set_outliers(casas.surface_covered)\n",
    "print(\"--------\")\n",
    "print(\"Price\")\n",
    "set_outliers(casas.price)"
   ]
  },
  {
   "cell_type": "code",
   "execution_count": 21,
   "metadata": {},
   "outputs": [
    {
     "data": {
      "image/png": "[encoded data removed]",
      "text/plain": [
       "<Figure size 1440x720 with 3 Axes>"
      ]
     },
     "metadata": {
      "needs_background": "light"
     },
     "output_type": "display_data"
    }
   ],
   "source": [
    "casa_mask= ((ds5['property_type']=='Casa')&\n",
    "            (ds5['bathrooms']<=6)&\n",
    "            (ds5['rooms']<=4)&\n",
    "            (ds5['surface_total']<=600)&\n",
    "            (ds5['surface_total']>=50)&\n",
    "            (ds5['price']<1200000))\n",
    "\n",
    "plt.figure(figsize=(20, 10))\n",
    "\n",
    "plt.subplot(3,1,1)\n",
    "sns.boxplot(data = ds5[casa_mask], x = 'surface_total')\n",
    "plt.ylabel('Casa', size = 30)\n",
    "\n",
    "plt.subplot(3,1,2)\n",
    "sns.boxplot(data = ds5[casa_mask], x = 'price')\n",
    "plt.ylabel('Casa', size = 30)\n",
    "\n",
    "plt.subplot(3,1,3)\n",
    "sns.boxplot(data = ds5[casa_mask], x = 'rooms')\n",
    "plt.ylabel('Casa', size = 30)\n",
    "\n",
    "corr_dpto=ds5[casa_mask].corr()"
   ]
  },
  {
   "cell_type": "code",
   "execution_count": 22,
   "metadata": {},
   "outputs": [
    {
     "name": "stdout",
     "output_type": "stream",
     "text": [
      "Bathrooms\n",
      "Max value:  3.7249342455408465\n",
      "Min value:  -0.7577576313054086\n",
      "The rest is not common\n",
      "--------\n",
      "Rooms\n"
     ]
    },
    {
     "ename": "AttributeError",
     "evalue": "'DataFrame' object has no attribute '_rooms'",
     "output_type": "error",
     "traceback": [
      "\u001b[1;31m---------------------------------------------------------------------------\u001b[0m",
      "\u001b[1;31mAttributeError\u001b[0m                            Traceback (most recent call last)",
      "\u001b[1;32m<ipython-input-22-b4b705c733e4>\u001b[0m in \u001b[0;36m<module>\u001b[1;34m\u001b[0m\n\u001b[0;32m      4\u001b[0m \u001b[0mprint\u001b[0m\u001b[1;33m(\u001b[0m\u001b[1;34m\"--------\"\u001b[0m\u001b[1;33m)\u001b[0m\u001b[1;33m\u001b[0m\u001b[1;33m\u001b[0m\u001b[0m\n\u001b[0;32m      5\u001b[0m \u001b[0mprint\u001b[0m\u001b[1;33m(\u001b[0m\u001b[1;34m\"Rooms\"\u001b[0m\u001b[1;33m)\u001b[0m\u001b[1;33m\u001b[0m\u001b[1;33m\u001b[0m\u001b[0m\n\u001b[1;32m----> 6\u001b[1;33m \u001b[0mset_outliers\u001b[0m\u001b[1;33m(\u001b[0m\u001b[0mphs\u001b[0m\u001b[1;33m.\u001b[0m\u001b[0m_rooms\u001b[0m\u001b[1;33m)\u001b[0m\u001b[1;33m\u001b[0m\u001b[1;33m\u001b[0m\u001b[0m\n\u001b[0m\u001b[0;32m      7\u001b[0m \u001b[0mprint\u001b[0m\u001b[1;33m(\u001b[0m\u001b[1;34m\"--------\"\u001b[0m\u001b[1;33m)\u001b[0m\u001b[1;33m\u001b[0m\u001b[1;33m\u001b[0m\u001b[0m\n\u001b[0;32m      8\u001b[0m \u001b[0mprint\u001b[0m\u001b[1;33m(\u001b[0m\u001b[1;34m\"Surface covered\"\u001b[0m\u001b[1;33m)\u001b[0m\u001b[1;33m\u001b[0m\u001b[1;33m\u001b[0m\u001b[0m\n",
      "\u001b[1;32m~\\anaconda3\\lib\\site-packages\\pandas\\core\\generic.py\u001b[0m in \u001b[0;36m__getattr__\u001b[1;34m(self, name)\u001b[0m\n\u001b[0;32m   5137\u001b[0m             \u001b[1;32mif\u001b[0m \u001b[0mself\u001b[0m\u001b[1;33m.\u001b[0m\u001b[0m_info_axis\u001b[0m\u001b[1;33m.\u001b[0m\u001b[0m_can_hold_identifiers_and_holds_name\u001b[0m\u001b[1;33m(\u001b[0m\u001b[0mname\u001b[0m\u001b[1;33m)\u001b[0m\u001b[1;33m:\u001b[0m\u001b[1;33m\u001b[0m\u001b[1;33m\u001b[0m\u001b[0m\n\u001b[0;32m   5138\u001b[0m                 \u001b[1;32mreturn\u001b[0m \u001b[0mself\u001b[0m\u001b[1;33m[\u001b[0m\u001b[0mname\u001b[0m\u001b[1;33m]\u001b[0m\u001b[1;33m\u001b[0m\u001b[1;33m\u001b[0m\u001b[0m\n\u001b[1;32m-> 5139\u001b[1;33m             \u001b[1;32mreturn\u001b[0m \u001b[0mobject\u001b[0m\u001b[1;33m.\u001b[0m\u001b[0m__getattribute__\u001b[0m\u001b[1;33m(\u001b[0m\u001b[0mself\u001b[0m\u001b[1;33m,\u001b[0m \u001b[0mname\u001b[0m\u001b[1;33m)\u001b[0m\u001b[1;33m\u001b[0m\u001b[1;33m\u001b[0m\u001b[0m\n\u001b[0m\u001b[0;32m   5140\u001b[0m \u001b[1;33m\u001b[0m\u001b[0m\n\u001b[0;32m   5141\u001b[0m     \u001b[1;32mdef\u001b[0m \u001b[0m__setattr__\u001b[0m\u001b[1;33m(\u001b[0m\u001b[0mself\u001b[0m\u001b[1;33m,\u001b[0m \u001b[0mname\u001b[0m\u001b[1;33m:\u001b[0m \u001b[0mstr\u001b[0m\u001b[1;33m,\u001b[0m \u001b[0mvalue\u001b[0m\u001b[1;33m)\u001b[0m \u001b[1;33m->\u001b[0m \u001b[1;32mNone\u001b[0m\u001b[1;33m:\u001b[0m\u001b[1;33m\u001b[0m\u001b[1;33m\u001b[0m\u001b[0m\n",
      "\u001b[1;31mAttributeError\u001b[0m: 'DataFrame' object has no attribute '_rooms'"
     ]
    }
   ],
   "source": [
    "phs = ds5[ds5.property_type==\"PH\"]\n",
    "print(\"Bathrooms\")\n",
    "set_outliers(phs.bathrooms)\n",
    "print(\"--------\")\n",
    "print(\"Rooms\")\n",
    "set_outliers(phs._rooms)\n",
    "print(\"--------\")\n",
    "print(\"Surface covered\")\n",
    "set_outliers(phs.surface_covered)\n",
    "print(\"--------\")\n",
    "print(\"Price\")\n",
    "set_outliers(phs.price)"
   ]
  },
  {
   "cell_type": "code",
   "execution_count": 24,
   "metadata": {},
   "outputs": [
    {
     "data": {
      "image/png": "[encoded data removed]",
      "text/plain": [
       "<Figure size 1440x720 with 3 Axes>"
      ]
     },
     "metadata": {
      "needs_background": "light"
     },
     "output_type": "display_data"
    }
   ],
   "source": [
    "phs_mask= ((ds5['property_type']=='Casa')&\n",
    "            (ds5['bathrooms']<=4)&\n",
    "            (ds5['rooms']<=3)&\n",
    "            (ds5['surface_total']<=450)&\n",
    "            (ds5['surface_total']>=50)&\n",
    "            (ds5['price']<600000))\n",
    "\n",
    "plt.figure(figsize=(20, 10))\n",
    "\n",
    "plt.subplot(3,1,1)\n",
    "sns.boxplot(data = ds5[phs_mask], x = 'surface_total')\n",
    "plt.ylabel('Ph', size = 30)\n",
    "\n",
    "plt.subplot(3,1,2)\n",
    "sns.boxplot(data = ds5[phs_mask], x = 'price')\n",
    "plt.ylabel('Ph', size = 30)\n",
    "\n",
    "plt.subplot(3,1,3)\n",
    "sns.boxplot(data = ds5[phs_mask], x = 'rooms')\n",
    "plt.ylabel('Ph', size = 30)\n",
    "\n",
    "corr_dpto=ds5[phs_mask].corr()"
   ]
  },
  {
   "cell_type": "markdown",
   "metadata": {},
   "source": [
    "### Encoding"
   ]
  },
  {
   "cell_type": "code",
   "execution_count": 25,
   "metadata": {},
   "outputs": [
    {
     "data": {
      "text/html": [
       "<div>\n",
       "<style scoped>\n",
       "    .dataframe tbody tr th:only-of-type {\n",
       "        vertical-align: middle;\n",
       "    }\n",
       "\n",
       "    .dataframe tbody tr th {\n",
       "        vertical-align: top;\n",
       "    }\n",
       "\n",
       "    .dataframe thead th {\n",
       "        text-align: right;\n",
       "    }\n",
       "</style>\n",
       "<table border=\"1\" class=\"dataframe\">\n",
       "  <thead>\n",
       "    <tr style=\"text-align: right;\">\n",
       "      <th></th>\n",
       "      <th>l2</th>\n",
       "      <th>l3</th>\n",
       "      <th>rooms</th>\n",
       "      <th>bedrooms</th>\n",
       "      <th>bathrooms</th>\n",
       "      <th>surface_total</th>\n",
       "      <th>surface_covered</th>\n",
       "      <th>price</th>\n",
       "      <th>property_type</th>\n",
       "    </tr>\n",
       "  </thead>\n",
       "  <tbody>\n",
       "    <tr>\n",
       "      <th>0</th>\n",
       "      <td>Capital Federal</td>\n",
       "      <td>San Cristobal</td>\n",
       "      <td>7.0</td>\n",
       "      <td>7.0</td>\n",
       "      <td>2.0</td>\n",
       "      <td>140.0</td>\n",
       "      <td>140.0</td>\n",
       "      <td>153000.0</td>\n",
       "      <td>Departamento</td>\n",
       "    </tr>\n",
       "    <tr>\n",
       "      <th>1</th>\n",
       "      <td>Capital Federal</td>\n",
       "      <td>Boedo</td>\n",
       "      <td>2.0</td>\n",
       "      <td>1.0</td>\n",
       "      <td>2.0</td>\n",
       "      <td>70.0</td>\n",
       "      <td>58.0</td>\n",
       "      <td>159000.0</td>\n",
       "      <td>PH</td>\n",
       "    </tr>\n",
       "    <tr>\n",
       "      <th>2</th>\n",
       "      <td>Capital Federal</td>\n",
       "      <td>Palermo</td>\n",
       "      <td>2.0</td>\n",
       "      <td>1.0</td>\n",
       "      <td>1.0</td>\n",
       "      <td>45.0</td>\n",
       "      <td>45.0</td>\n",
       "      <td>125000.0</td>\n",
       "      <td>PH</td>\n",
       "    </tr>\n",
       "    <tr>\n",
       "      <th>3</th>\n",
       "      <td>Capital Federal</td>\n",
       "      <td>Palermo</td>\n",
       "      <td>2.0</td>\n",
       "      <td>1.0</td>\n",
       "      <td>1.0</td>\n",
       "      <td>85.0</td>\n",
       "      <td>50.0</td>\n",
       "      <td>295000.0</td>\n",
       "      <td>PH</td>\n",
       "    </tr>\n",
       "    <tr>\n",
       "      <th>4</th>\n",
       "      <td>Bs.As. G.B.A. Zona Sur</td>\n",
       "      <td>La Plata</td>\n",
       "      <td>2.0</td>\n",
       "      <td>1.0</td>\n",
       "      <td>1.0</td>\n",
       "      <td>50.0</td>\n",
       "      <td>35.0</td>\n",
       "      <td>40000.0</td>\n",
       "      <td>PH</td>\n",
       "    </tr>\n",
       "  </tbody>\n",
       "</table>\n",
       "</div>"
      ],
      "text/plain": [
       "                       l2             l3  rooms  bedrooms  bathrooms  \\\n",
       "0         Capital Federal  San Cristobal    7.0       7.0        2.0   \n",
       "1         Capital Federal          Boedo    2.0       1.0        2.0   \n",
       "2         Capital Federal        Palermo    2.0       1.0        1.0   \n",
       "3         Capital Federal        Palermo    2.0       1.0        1.0   \n",
       "4  Bs.As. G.B.A. Zona Sur       La Plata    2.0       1.0        1.0   \n",
       "\n",
       "   surface_total  surface_covered     price property_type  \n",
       "0          140.0            140.0  153000.0  Departamento  \n",
       "1           70.0             58.0  159000.0            PH  \n",
       "2           45.0             45.0  125000.0            PH  \n",
       "3           85.0             50.0  295000.0            PH  \n",
       "4           50.0             35.0   40000.0            PH  "
      ]
     },
     "execution_count": 25,
     "metadata": {},
     "output_type": "execute_result"
    }
   ],
   "source": [
    "enc = LabelEncoder()\n",
    "l3_labels = enc.fit_transform(ds5[\"l3\"])\n",
    "#ds5.insert(7,\"Enc_Barrio\",l3_labels)\n",
    "ds5.head()"
   ]
  },
  {
   "cell_type": "code",
   "execution_count": null,
   "metadata": {},
   "outputs": [],
   "source": []
  },
  {
   "cell_type": "code",
   "execution_count": 26,
   "metadata": {},
   "outputs": [],
   "source": [
    "enc_property_type = pd.get_dummies(ds5.property_type, drop_first= True)\n",
    "enc_property_type.index = ds5.index"
   ]
  },
  {
   "cell_type": "code",
   "execution_count": 27,
   "metadata": {},
   "outputs": [
    {
     "data": {
      "text/html": [
       "<div>\n",
       "<style scoped>\n",
       "    .dataframe tbody tr th:only-of-type {\n",
       "        vertical-align: middle;\n",
       "    }\n",
       "\n",
       "    .dataframe tbody tr th {\n",
       "        vertical-align: top;\n",
       "    }\n",
       "\n",
       "    .dataframe thead th {\n",
       "        text-align: right;\n",
       "    }\n",
       "</style>\n",
       "<table border=\"1\" class=\"dataframe\">\n",
       "  <thead>\n",
       "    <tr style=\"text-align: right;\">\n",
       "      <th></th>\n",
       "      <th>l2</th>\n",
       "      <th>l3</th>\n",
       "      <th>rooms</th>\n",
       "      <th>bedrooms</th>\n",
       "      <th>bathrooms</th>\n",
       "      <th>surface_total</th>\n",
       "      <th>surface_covered</th>\n",
       "      <th>price</th>\n",
       "      <th>property_type</th>\n",
       "    </tr>\n",
       "  </thead>\n",
       "  <tbody>\n",
       "    <tr>\n",
       "      <th>0</th>\n",
       "      <td>Capital Federal</td>\n",
       "      <td>San Cristobal</td>\n",
       "      <td>7.0</td>\n",
       "      <td>7.0</td>\n",
       "      <td>2.0</td>\n",
       "      <td>140.0</td>\n",
       "      <td>140.0</td>\n",
       "      <td>153000.0</td>\n",
       "      <td>Departamento</td>\n",
       "    </tr>\n",
       "    <tr>\n",
       "      <th>1</th>\n",
       "      <td>Capital Federal</td>\n",
       "      <td>Boedo</td>\n",
       "      <td>2.0</td>\n",
       "      <td>1.0</td>\n",
       "      <td>2.0</td>\n",
       "      <td>70.0</td>\n",
       "      <td>58.0</td>\n",
       "      <td>159000.0</td>\n",
       "      <td>PH</td>\n",
       "    </tr>\n",
       "    <tr>\n",
       "      <th>2</th>\n",
       "      <td>Capital Federal</td>\n",
       "      <td>Palermo</td>\n",
       "      <td>2.0</td>\n",
       "      <td>1.0</td>\n",
       "      <td>1.0</td>\n",
       "      <td>45.0</td>\n",
       "      <td>45.0</td>\n",
       "      <td>125000.0</td>\n",
       "      <td>PH</td>\n",
       "    </tr>\n",
       "    <tr>\n",
       "      <th>3</th>\n",
       "      <td>Capital Federal</td>\n",
       "      <td>Palermo</td>\n",
       "      <td>2.0</td>\n",
       "      <td>1.0</td>\n",
       "      <td>1.0</td>\n",
       "      <td>85.0</td>\n",
       "      <td>50.0</td>\n",
       "      <td>295000.0</td>\n",
       "      <td>PH</td>\n",
       "    </tr>\n",
       "    <tr>\n",
       "      <th>4</th>\n",
       "      <td>Bs.As. G.B.A. Zona Sur</td>\n",
       "      <td>La Plata</td>\n",
       "      <td>2.0</td>\n",
       "      <td>1.0</td>\n",
       "      <td>1.0</td>\n",
       "      <td>50.0</td>\n",
       "      <td>35.0</td>\n",
       "      <td>40000.0</td>\n",
       "      <td>PH</td>\n",
       "    </tr>\n",
       "  </tbody>\n",
       "</table>\n",
       "</div>"
      ],
      "text/plain": [
       "                       l2             l3  rooms  bedrooms  bathrooms  \\\n",
       "0         Capital Federal  San Cristobal    7.0       7.0        2.0   \n",
       "1         Capital Federal          Boedo    2.0       1.0        2.0   \n",
       "2         Capital Federal        Palermo    2.0       1.0        1.0   \n",
       "3         Capital Federal        Palermo    2.0       1.0        1.0   \n",
       "4  Bs.As. G.B.A. Zona Sur       La Plata    2.0       1.0        1.0   \n",
       "\n",
       "   surface_total  surface_covered     price property_type  \n",
       "0          140.0            140.0  153000.0  Departamento  \n",
       "1           70.0             58.0  159000.0            PH  \n",
       "2           45.0             45.0  125000.0            PH  \n",
       "3           85.0             50.0  295000.0            PH  \n",
       "4           50.0             35.0   40000.0            PH  "
      ]
     },
     "execution_count": 27,
     "metadata": {},
     "output_type": "execute_result"
    }
   ],
   "source": [
    "ds5.head()"
   ]
  },
  {
   "cell_type": "code",
   "execution_count": 28,
   "metadata": {},
   "outputs": [
    {
     "name": "stderr",
     "output_type": "stream",
     "text": [
      "C:\\Users\\Usuario\\anaconda3\\lib\\site-packages\\pandas\\core\\frame.py:4163: SettingWithCopyWarning: \n",
      "A value is trying to be set on a copy of a slice from a DataFrame\n",
      "\n",
      "See the caveats in the documentation: https://pandas.pydata.org/pandas-docs/stable/user_guide/indexing.html#returning-a-view-versus-a-copy\n",
      "  return super().drop(\n"
     ]
    },
    {
     "data": {
      "text/html": [
       "<div>\n",
       "<style scoped>\n",
       "    .dataframe tbody tr th:only-of-type {\n",
       "        vertical-align: middle;\n",
       "    }\n",
       "\n",
       "    .dataframe tbody tr th {\n",
       "        vertical-align: top;\n",
       "    }\n",
       "\n",
       "    .dataframe thead th {\n",
       "        text-align: right;\n",
       "    }\n",
       "</style>\n",
       "<table border=\"1\" class=\"dataframe\">\n",
       "  <thead>\n",
       "    <tr style=\"text-align: right;\">\n",
       "      <th></th>\n",
       "      <th>rooms</th>\n",
       "      <th>bedrooms</th>\n",
       "      <th>bathrooms</th>\n",
       "      <th>surface_total</th>\n",
       "      <th>surface_covered</th>\n",
       "      <th>price</th>\n",
       "      <th>Casa de campo</th>\n",
       "      <th>Cochera</th>\n",
       "      <th>Departamento</th>\n",
       "      <th>Depósito</th>\n",
       "      <th>Local comercial</th>\n",
       "      <th>Lote</th>\n",
       "      <th>Oficina</th>\n",
       "      <th>Otro</th>\n",
       "      <th>PH</th>\n",
       "    </tr>\n",
       "  </thead>\n",
       "  <tbody>\n",
       "    <tr>\n",
       "      <th>0</th>\n",
       "      <td>7.0</td>\n",
       "      <td>7.0</td>\n",
       "      <td>2.0</td>\n",
       "      <td>140.0</td>\n",
       "      <td>140.0</td>\n",
       "      <td>153000.0</td>\n",
       "      <td>0</td>\n",
       "      <td>0</td>\n",
       "      <td>1</td>\n",
       "      <td>0</td>\n",
       "      <td>0</td>\n",
       "      <td>0</td>\n",
       "      <td>0</td>\n",
       "      <td>0</td>\n",
       "      <td>0</td>\n",
       "    </tr>\n",
       "    <tr>\n",
       "      <th>1</th>\n",
       "      <td>2.0</td>\n",
       "      <td>1.0</td>\n",
       "      <td>2.0</td>\n",
       "      <td>70.0</td>\n",
       "      <td>58.0</td>\n",
       "      <td>159000.0</td>\n",
       "      <td>0</td>\n",
       "      <td>0</td>\n",
       "      <td>0</td>\n",
       "      <td>0</td>\n",
       "      <td>0</td>\n",
       "      <td>0</td>\n",
       "      <td>0</td>\n",
       "      <td>0</td>\n",
       "      <td>1</td>\n",
       "    </tr>\n",
       "    <tr>\n",
       "      <th>2</th>\n",
       "      <td>2.0</td>\n",
       "      <td>1.0</td>\n",
       "      <td>1.0</td>\n",
       "      <td>45.0</td>\n",
       "      <td>45.0</td>\n",
       "      <td>125000.0</td>\n",
       "      <td>0</td>\n",
       "      <td>0</td>\n",
       "      <td>0</td>\n",
       "      <td>0</td>\n",
       "      <td>0</td>\n",
       "      <td>0</td>\n",
       "      <td>0</td>\n",
       "      <td>0</td>\n",
       "      <td>1</td>\n",
       "    </tr>\n",
       "    <tr>\n",
       "      <th>3</th>\n",
       "      <td>2.0</td>\n",
       "      <td>1.0</td>\n",
       "      <td>1.0</td>\n",
       "      <td>85.0</td>\n",
       "      <td>50.0</td>\n",
       "      <td>295000.0</td>\n",
       "      <td>0</td>\n",
       "      <td>0</td>\n",
       "      <td>0</td>\n",
       "      <td>0</td>\n",
       "      <td>0</td>\n",
       "      <td>0</td>\n",
       "      <td>0</td>\n",
       "      <td>0</td>\n",
       "      <td>1</td>\n",
       "    </tr>\n",
       "    <tr>\n",
       "      <th>4</th>\n",
       "      <td>2.0</td>\n",
       "      <td>1.0</td>\n",
       "      <td>1.0</td>\n",
       "      <td>50.0</td>\n",
       "      <td>35.0</td>\n",
       "      <td>40000.0</td>\n",
       "      <td>0</td>\n",
       "      <td>0</td>\n",
       "      <td>0</td>\n",
       "      <td>0</td>\n",
       "      <td>0</td>\n",
       "      <td>0</td>\n",
       "      <td>0</td>\n",
       "      <td>0</td>\n",
       "      <td>1</td>\n",
       "    </tr>\n",
       "  </tbody>\n",
       "</table>\n",
       "</div>"
      ],
      "text/plain": [
       "   rooms  bedrooms  bathrooms  surface_total  surface_covered     price  \\\n",
       "0    7.0       7.0        2.0          140.0            140.0  153000.0   \n",
       "1    2.0       1.0        2.0           70.0             58.0  159000.0   \n",
       "2    2.0       1.0        1.0           45.0             45.0  125000.0   \n",
       "3    2.0       1.0        1.0           85.0             50.0  295000.0   \n",
       "4    2.0       1.0        1.0           50.0             35.0   40000.0   \n",
       "\n",
       "   Casa de campo  Cochera  Departamento  Depósito  Local comercial  Lote  \\\n",
       "0              0        0             1         0                0     0   \n",
       "1              0        0             0         0                0     0   \n",
       "2              0        0             0         0                0     0   \n",
       "3              0        0             0         0                0     0   \n",
       "4              0        0             0         0                0     0   \n",
       "\n",
       "   Oficina  Otro  PH  \n",
       "0        0     0   0  \n",
       "1        0     0   1  \n",
       "2        0     0   1  \n",
       "3        0     0   1  \n",
       "4        0     0   1  "
      ]
     },
     "execution_count": 28,
     "metadata": {},
     "output_type": "execute_result"
    }
   ],
   "source": [
    "ds5.drop(\"l2\", axis = 1, inplace = True)\n",
    "ds5.drop(\"l3\", axis = 1, inplace = True)\n",
    "ds5.drop(\"property_type\", axis = 1, inplace = True)\n",
    "ds5 = pd.concat([ds5, enc_property_type], axis=1)\n",
    "ds5.head()"
   ]
  },
  {
   "cell_type": "markdown",
   "metadata": {},
   "source": [
    "#### Separacion de los datos"
   ]
  },
  {
   "cell_type": "code",
   "execution_count": 29,
   "metadata": {},
   "outputs": [],
   "source": [
    "X=ds5.drop((\"price\"), axis=1)\n",
    "y=ds5.price\n",
    "\n",
    "X_Train, X_Test, y_train, y_test = train_test_split(X,y,test_size=0.33, random_state=42)"
   ]
  },
  {
   "cell_type": "markdown",
   "metadata": {},
   "source": [
    "#### Escalado de los datos"
   ]
  },
  {
   "cell_type": "code",
   "execution_count": 32,
   "metadata": {},
   "outputs": [],
   "source": [
    "#Separamos aquellos datos no numericos.\n",
    "train_features = X_Train.loc[:,[ \"bedrooms\", \"bathrooms\", \"surface_total\", \"surface_covered\",\"rooms\"]]\n",
    "test_features = X_Test.loc[:,[\"bedrooms\", \"bathrooms\", \"surface_total\", \"surface_covered\",\"rooms\"]]"
   ]
  },
  {
   "cell_type": "code",
   "execution_count": 33,
   "metadata": {},
   "outputs": [],
   "source": [
    "Scaler = MinMaxScaler()"
   ]
  },
  {
   "cell_type": "code",
   "execution_count": 34,
   "metadata": {},
   "outputs": [],
   "source": [
    "train_features_scaled = Scaler.fit_transform(train_features)\n",
    "test_features_scaled = Scaler.transform(test_features)"
   ]
  },
  {
   "cell_type": "code",
   "execution_count": 35,
   "metadata": {},
   "outputs": [
    {
     "name": "stderr",
     "output_type": "stream",
     "text": [
      "C:\\Users\\Usuario\\anaconda3\\lib\\site-packages\\pandas\\core\\indexing.py:1736: SettingWithCopyWarning: \n",
      "A value is trying to be set on a copy of a slice from a DataFrame.\n",
      "Try using .loc[row_indexer,col_indexer] = value instead\n",
      "\n",
      "See the caveats in the documentation: https://pandas.pydata.org/pandas-docs/stable/user_guide/indexing.html#returning-a-view-versus-a-copy\n",
      "  isetter(loc, value[:, i].tolist())\n"
     ]
    }
   ],
   "source": [
    "X_Train.loc[:,train_features.columns] = train_features_scaled\n",
    "X_Test.loc[:,test_features.columns] = test_features_scaled"
   ]
  },
  {
   "cell_type": "code",
   "execution_count": 36,
   "metadata": {},
   "outputs": [
    {
     "data": {
      "text/html": [
       "<div>\n",
       "<style scoped>\n",
       "    .dataframe tbody tr th:only-of-type {\n",
       "        vertical-align: middle;\n",
       "    }\n",
       "\n",
       "    .dataframe tbody tr th {\n",
       "        vertical-align: top;\n",
       "    }\n",
       "\n",
       "    .dataframe thead th {\n",
       "        text-align: right;\n",
       "    }\n",
       "</style>\n",
       "<table border=\"1\" class=\"dataframe\">\n",
       "  <thead>\n",
       "    <tr style=\"text-align: right;\">\n",
       "      <th></th>\n",
       "      <th>rooms</th>\n",
       "      <th>bedrooms</th>\n",
       "      <th>bathrooms</th>\n",
       "      <th>surface_total</th>\n",
       "      <th>surface_covered</th>\n",
       "      <th>Casa de campo</th>\n",
       "      <th>Cochera</th>\n",
       "      <th>Departamento</th>\n",
       "      <th>Depósito</th>\n",
       "      <th>Local comercial</th>\n",
       "      <th>Lote</th>\n",
       "      <th>Oficina</th>\n",
       "      <th>Otro</th>\n",
       "      <th>PH</th>\n",
       "    </tr>\n",
       "  </thead>\n",
       "  <tbody>\n",
       "    <tr>\n",
       "      <th>108494</th>\n",
       "      <td>0.088235</td>\n",
       "      <td>0.200000</td>\n",
       "      <td>0.000000</td>\n",
       "      <td>0.000740</td>\n",
       "      <td>0.000833</td>\n",
       "      <td>0</td>\n",
       "      <td>0</td>\n",
       "      <td>0</td>\n",
       "      <td>0</td>\n",
       "      <td>0</td>\n",
       "      <td>0</td>\n",
       "      <td>0</td>\n",
       "      <td>0</td>\n",
       "      <td>1</td>\n",
       "    </tr>\n",
       "    <tr>\n",
       "      <th>51377</th>\n",
       "      <td>0.029412</td>\n",
       "      <td>0.066667</td>\n",
       "      <td>0.000000</td>\n",
       "      <td>0.000349</td>\n",
       "      <td>0.000492</td>\n",
       "      <td>0</td>\n",
       "      <td>0</td>\n",
       "      <td>1</td>\n",
       "      <td>0</td>\n",
       "      <td>0</td>\n",
       "      <td>0</td>\n",
       "      <td>0</td>\n",
       "      <td>0</td>\n",
       "      <td>0</td>\n",
       "    </tr>\n",
       "    <tr>\n",
       "      <th>140986</th>\n",
       "      <td>0.088235</td>\n",
       "      <td>0.133333</td>\n",
       "      <td>0.076923</td>\n",
       "      <td>0.000681</td>\n",
       "      <td>0.000944</td>\n",
       "      <td>0</td>\n",
       "      <td>0</td>\n",
       "      <td>1</td>\n",
       "      <td>0</td>\n",
       "      <td>0</td>\n",
       "      <td>0</td>\n",
       "      <td>0</td>\n",
       "      <td>0</td>\n",
       "      <td>0</td>\n",
       "    </tr>\n",
       "    <tr>\n",
       "      <th>135215</th>\n",
       "      <td>0.000000</td>\n",
       "      <td>0.066667</td>\n",
       "      <td>0.000000</td>\n",
       "      <td>0.000059</td>\n",
       "      <td>0.000151</td>\n",
       "      <td>0</td>\n",
       "      <td>0</td>\n",
       "      <td>0</td>\n",
       "      <td>0</td>\n",
       "      <td>0</td>\n",
       "      <td>0</td>\n",
       "      <td>1</td>\n",
       "      <td>0</td>\n",
       "      <td>0</td>\n",
       "    </tr>\n",
       "    <tr>\n",
       "      <th>102308</th>\n",
       "      <td>0.058824</td>\n",
       "      <td>0.133333</td>\n",
       "      <td>0.000000</td>\n",
       "      <td>0.000325</td>\n",
       "      <td>0.000508</td>\n",
       "      <td>0</td>\n",
       "      <td>0</td>\n",
       "      <td>1</td>\n",
       "      <td>0</td>\n",
       "      <td>0</td>\n",
       "      <td>0</td>\n",
       "      <td>0</td>\n",
       "      <td>0</td>\n",
       "      <td>0</td>\n",
       "    </tr>\n",
       "  </tbody>\n",
       "</table>\n",
       "</div>"
      ],
      "text/plain": [
       "           rooms  bedrooms  bathrooms  surface_total  surface_covered  \\\n",
       "108494  0.088235  0.200000   0.000000       0.000740         0.000833   \n",
       "51377   0.029412  0.066667   0.000000       0.000349         0.000492   \n",
       "140986  0.088235  0.133333   0.076923       0.000681         0.000944   \n",
       "135215  0.000000  0.066667   0.000000       0.000059         0.000151   \n",
       "102308  0.058824  0.133333   0.000000       0.000325         0.000508   \n",
       "\n",
       "        Casa de campo  Cochera  Departamento  Depósito  Local comercial  Lote  \\\n",
       "108494              0        0             0         0                0     0   \n",
       "51377               0        0             1         0                0     0   \n",
       "140986              0        0             1         0                0     0   \n",
       "135215              0        0             0         0                0     0   \n",
       "102308              0        0             1         0                0     0   \n",
       "\n",
       "        Oficina  Otro  PH  \n",
       "108494        0     0   1  \n",
       "51377         0     0   0  \n",
       "140986        0     0   0  \n",
       "135215        1     0   0  \n",
       "102308        0     0   0  "
      ]
     },
     "execution_count": 36,
     "metadata": {},
     "output_type": "execute_result"
    }
   ],
   "source": [
    "X_Train.head()"
   ]
  },
  {
   "cell_type": "markdown",
   "metadata": {},
   "source": [
    "#### Reduccion de dimensionalidad"
   ]
  },
  {
   "cell_type": "code",
   "execution_count": 38,
   "metadata": {},
   "outputs": [],
   "source": [
    "pca=PCA(n_components = 3)\n",
    "x_train_pca = pca.fit_transform(X_Train.loc[:,[\"rooms\",\"bathrooms\", \"bedrooms\"]])\n",
    "x_test_pca = pca.fit_transform(X_Test.loc[:,[\"rooms\",\"bathrooms\", \"bedrooms\"]])\n",
    "x_train_pca = pd.DataFrame(x_train_pca)\n",
    "x_test_pca=  pd.DataFrame(x_test_pca)"
   ]
  },
  {
   "cell_type": "code",
   "execution_count": 39,
   "metadata": {},
   "outputs": [],
   "source": [
    "x_train_pca.index=X_Train.index\n",
    "x_test_pca.index=X_Test.index"
   ]
  },
  {
   "cell_type": "code",
   "execution_count": 40,
   "metadata": {},
   "outputs": [
    {
     "data": {
      "text/plain": [
       "array([0.80562474, 0.1757817 , 0.01859356])"
      ]
     },
     "execution_count": 40,
     "metadata": {},
     "output_type": "execute_result"
    }
   ],
   "source": [
    "pca.explained_variance_ratio_"
   ]
  },
  {
   "cell_type": "code",
   "execution_count": 41,
   "metadata": {},
   "outputs": [
    {
     "data": {
      "image/png": "[encoded data removed]",
      "text/plain": [
       "<Figure size 432x288 with 1 Axes>"
      ]
     },
     "metadata": {
      "needs_background": "light"
     },
     "output_type": "display_data"
    }
   ],
   "source": [
    "plt.plot(np.cumsum(pca.explained_variance_ratio_))\n",
    "plt.xlabel('number of components')\n",
    "plt.ylabel('cumulative explained variance')\n",
    "plt.show()"
   ]
  },
  {
   "cell_type": "code",
   "execution_count": 42,
   "metadata": {},
   "outputs": [
    {
     "data": {
      "text/plain": [
       "<matplotlib.legend.Legend at 0x1894dc77850>"
      ]
     },
     "execution_count": 42,
     "metadata": {},
     "output_type": "execute_result"
    },
    {
     "data": {
      "image/png": "[encoded data removed]",
      "text/plain": [
       "<Figure size 432x288 with 1 Axes>"
      ]
     },
     "metadata": {
      "needs_background": "light"
     },
     "output_type": "display_data"
    }
   ],
   "source": [
    "plt.bar(range(1,len(pca.explained_variance_ )+1),pca.explained_variance_ )\n",
    "plt.ylabel('Explained Variance')\n",
    "plt.xlabel('Components')\n",
    "plt.plot(range(1,len(pca.explained_variance_ )+1),\n",
    "         np.cumsum(pca.explained_variance_),\n",
    "         c='red',\n",
    "         label=\"Cumulative Explained Variance\")\n",
    "plt.legend(loc='upper left')"
   ]
  },
  {
   "cell_type": "markdown",
   "metadata": {},
   "source": [
    "Por medio del grafico vemos que es conveniente reducir la cantidad de features a 2. Con dos componentes estamos explicando el 99% de la varianza de los datos."
   ]
  },
  {
   "cell_type": "code",
   "execution_count": 43,
   "metadata": {},
   "outputs": [],
   "source": [
    "pca2 = PCA(n_components=2)\n",
    "x_train_pca2 = pca2.fit_transform(X_Train.loc[:,[\"rooms\",\"bathrooms\", \"bedrooms\"]])\n",
    "x_test_pca2 = pca2.fit_transform(X_Test.loc[:,[\"rooms\",\"bathrooms\", \"bedrooms\"]])\n",
    "x_train_pca2 = pd.DataFrame(x_train_pca2)\n",
    "x_test_pca2 =  pd.DataFrame(x_test_pca2)"
   ]
  },
  {
   "cell_type": "code",
   "execution_count": 44,
   "metadata": {},
   "outputs": [],
   "source": [
    "x_train_pca2.index=X_Train.index\n",
    "x_test_pca2.index=X_Test.index"
   ]
  },
  {
   "cell_type": "code",
   "execution_count": 45,
   "metadata": {},
   "outputs": [
    {
     "data": {
      "text/plain": [
       "array([0.80562474, 0.1757817 ])"
      ]
     },
     "execution_count": 45,
     "metadata": {},
     "output_type": "execute_result"
    }
   ],
   "source": [
    "pca2.explained_variance_ratio_"
   ]
  },
  {
   "cell_type": "code",
   "execution_count": 839,
   "metadata": {},
   "outputs": [],
   "source": [
    "X_Train = pd.concat([X_Train, x_train_pca2],axis=1)\n",
    "X_Train.drop([\"_rooms\",\"rooms\",\"bathrooms\", \"bedrooms\"],axis=1,inplace=True)\n",
    "\n",
    "X_Test = pd.concat([X_Test, x_test_pca2],axis=1)\n",
    "X_Test.drop([\"_rooms\",\"rooms\",\"bathrooms\", \"bedrooms\"],axis=1,inplace=True)"
   ]
  },
  {
   "cell_type": "code",
   "execution_count": 840,
   "metadata": {},
   "outputs": [
    {
     "data": {
      "text/html": [
       "<div>\n",
       "<style scoped>\n",
       "    .dataframe tbody tr th:only-of-type {\n",
       "        vertical-align: middle;\n",
       "    }\n",
       "\n",
       "    .dataframe tbody tr th {\n",
       "        vertical-align: top;\n",
       "    }\n",
       "\n",
       "    .dataframe thead th {\n",
       "        text-align: right;\n",
       "    }\n",
       "</style>\n",
       "<table border=\"1\" class=\"dataframe\">\n",
       "  <thead>\n",
       "    <tr style=\"text-align: right;\">\n",
       "      <th></th>\n",
       "      <th>surface_total</th>\n",
       "      <th>surface_covered</th>\n",
       "      <th>Departamento</th>\n",
       "      <th>PH</th>\n",
       "      <th>0</th>\n",
       "      <th>1</th>\n",
       "    </tr>\n",
       "  </thead>\n",
       "  <tbody>\n",
       "    <tr>\n",
       "      <th>134041</th>\n",
       "      <td>0.000500</td>\n",
       "      <td>0.000571</td>\n",
       "      <td>1</td>\n",
       "      <td>0</td>\n",
       "      <td>-0.043311</td>\n",
       "      <td>0.040427</td>\n",
       "    </tr>\n",
       "    <tr>\n",
       "      <th>23785</th>\n",
       "      <td>0.000167</td>\n",
       "      <td>0.000262</td>\n",
       "      <td>1</td>\n",
       "      <td>0</td>\n",
       "      <td>-0.095802</td>\n",
       "      <td>-0.015971</td>\n",
       "    </tr>\n",
       "    <tr>\n",
       "      <th>95584</th>\n",
       "      <td>0.000754</td>\n",
       "      <td>0.000849</td>\n",
       "      <td>1</td>\n",
       "      <td>0</td>\n",
       "      <td>0.090311</td>\n",
       "      <td>0.020934</td>\n",
       "    </tr>\n",
       "    <tr>\n",
       "      <th>76279</th>\n",
       "      <td>0.000746</td>\n",
       "      <td>0.000508</td>\n",
       "      <td>0</td>\n",
       "      <td>1</td>\n",
       "      <td>-0.043311</td>\n",
       "      <td>0.040427</td>\n",
       "    </tr>\n",
       "    <tr>\n",
       "      <th>68778</th>\n",
       "      <td>0.000294</td>\n",
       "      <td>0.000341</td>\n",
       "      <td>1</td>\n",
       "      <td>0</td>\n",
       "      <td>-0.095802</td>\n",
       "      <td>-0.015971</td>\n",
       "    </tr>\n",
       "    <tr>\n",
       "      <th>...</th>\n",
       "      <td>...</td>\n",
       "      <td>...</td>\n",
       "      <td>...</td>\n",
       "      <td>...</td>\n",
       "      <td>...</td>\n",
       "      <td>...</td>\n",
       "    </tr>\n",
       "    <tr>\n",
       "      <th>10125</th>\n",
       "      <td>0.000690</td>\n",
       "      <td>0.000714</td>\n",
       "      <td>1</td>\n",
       "      <td>0</td>\n",
       "      <td>0.037820</td>\n",
       "      <td>-0.035463</td>\n",
       "    </tr>\n",
       "    <tr>\n",
       "      <th>93613</th>\n",
       "      <td>0.000278</td>\n",
       "      <td>0.000349</td>\n",
       "      <td>1</td>\n",
       "      <td>0</td>\n",
       "      <td>-0.095802</td>\n",
       "      <td>-0.015971</td>\n",
       "    </tr>\n",
       "    <tr>\n",
       "      <th>139383</th>\n",
       "      <td>0.000492</td>\n",
       "      <td>0.000587</td>\n",
       "      <td>1</td>\n",
       "      <td>0</td>\n",
       "      <td>-0.014671</td>\n",
       "      <td>-0.091861</td>\n",
       "    </tr>\n",
       "    <tr>\n",
       "      <th>1338</th>\n",
       "      <td>0.000420</td>\n",
       "      <td>0.000420</td>\n",
       "      <td>1</td>\n",
       "      <td>0</td>\n",
       "      <td>-0.095802</td>\n",
       "      <td>-0.015971</td>\n",
       "    </tr>\n",
       "    <tr>\n",
       "      <th>26251</th>\n",
       "      <td>0.000658</td>\n",
       "      <td>0.000635</td>\n",
       "      <td>1</td>\n",
       "      <td>0</td>\n",
       "      <td>-0.043311</td>\n",
       "      <td>0.040427</td>\n",
       "    </tr>\n",
       "  </tbody>\n",
       "</table>\n",
       "<p>53539 rows × 6 columns</p>\n",
       "</div>"
      ],
      "text/plain": [
       "        surface_total  surface_covered  Departamento  PH         0         1\n",
       "134041       0.000500         0.000571             1   0 -0.043311  0.040427\n",
       "23785        0.000167         0.000262             1   0 -0.095802 -0.015971\n",
       "95584        0.000754         0.000849             1   0  0.090311  0.020934\n",
       "76279        0.000746         0.000508             0   1 -0.043311  0.040427\n",
       "68778        0.000294         0.000341             1   0 -0.095802 -0.015971\n",
       "...               ...              ...           ...  ..       ...       ...\n",
       "10125        0.000690         0.000714             1   0  0.037820 -0.035463\n",
       "93613        0.000278         0.000349             1   0 -0.095802 -0.015971\n",
       "139383       0.000492         0.000587             1   0 -0.014671 -0.091861\n",
       "1338         0.000420         0.000420             1   0 -0.095802 -0.015971\n",
       "26251        0.000658         0.000635             1   0 -0.043311  0.040427\n",
       "\n",
       "[53539 rows x 6 columns]"
      ]
     },
     "execution_count": 840,
     "metadata": {},
     "output_type": "execute_result"
    }
   ],
   "source": [
    "X_Train"
   ]
  },
  {
   "cell_type": "markdown",
   "metadata": {},
   "source": [
    "#### Benchmark, comparacion con modelo anterior"
   ]
  },
  {
   "cell_type": "markdown",
   "metadata": {},
   "source": [
    "Proyecto 1:\n",
    "* Err Arbol de decision Train para casa: 101399.73314919401\n",
    "* Err Arbol de decision Test para casa: 105946.97077583065"
   ]
  },
  {
   "cell_type": "markdown",
   "metadata": {},
   "source": [
    "#### Ahora vamos a ver que error obtenemos luego de procesar los datos de otra manera"
   ]
  },
  {
   "cell_type": "code",
   "execution_count": 841,
   "metadata": {},
   "outputs": [],
   "source": [
    "d_tree= DecisionTreeRegressor(max_depth = 7, random_state = 42)\n",
    "d_tree.fit(X_Train,y_train)\n",
    "train_predict=d_tree.predict(X_Train)\n",
    "test_predict=d_tree.predict(X_Test)"
   ]
  },
  {
   "cell_type": "code",
   "execution_count": 842,
   "metadata": {},
   "outputs": [
    {
     "name": "stdout",
     "output_type": "stream",
     "text": [
      "El error del train prop es 141132.03025034885\n",
      "El error del test prop es 147965.95069785079\n"
     ]
    }
   ],
   "source": [
    "train_rmse2= np.sqrt(mean_squared_error(train_predict, y_train))\n",
    "test_rmse2= np.sqrt(mean_squared_error(test_predict, y_test))\n",
    "print('El error del train prop es',train_rmse2)\n",
    "print('El error del test prop es',test_rmse2)"
   ]
  },
  {
   "cell_type": "markdown",
   "metadata": {},
   "source": [
    "En el trabajo anterior habia creado un arbol para cada tipo de propiedad. Veamos que resultado obtenemos luego de separar aquells propiedades que son Casas"
   ]
  },
  {
   "cell_type": "code",
   "execution_count": 845,
   "metadata": {},
   "outputs": [
    {
     "data": {
      "text/plain": [
       "134041     True\n",
       "23785      True\n",
       "95584      True\n",
       "76279     False\n",
       "68778      True\n",
       "          ...  \n",
       "10125      True\n",
       "93613      True\n",
       "139383     True\n",
       "1338       True\n",
       "26251      True\n",
       "Length: 53539, dtype: bool"
      ]
     },
     "execution_count": 845,
     "metadata": {},
     "output_type": "execute_result"
    }
   ],
   "source": [
    "d_tree= DecisionTreeRegressor(max_depth = 7, random_state = 42)\n",
    "d_tree.fit(X_Train,y_train)\n",
    "mk2 = ((X_Train.PH==0) & (X_Train.Departamento==1))\n",
    "mk3 = ((X_Test.PH==0) & (X_Test.Departamento==1))\n",
    "\n",
    "train_predict=d_tree.predict(X_Train[mk2])\n",
    "test_predict=d_tree.predict(X_Test[mk3])\n",
    "\n",
    "mk2"
   ]
  },
  {
   "cell_type": "code",
   "execution_count": 846,
   "metadata": {},
   "outputs": [
    {
     "name": "stdout",
     "output_type": "stream",
     "text": [
      "El error del train prop es 148317.2221536126\n",
      "El error del test prop es 154163.93685834258\n"
     ]
    }
   ],
   "source": [
    "train_rmse2= np.sqrt(mean_squared_error(train_predict, y_train[mk2]))\n",
    "test_rmse2= np.sqrt(mean_squared_error(test_predict, y_test[mk3]))\n",
    "print('El error del train prop es',train_rmse2)\n",
    "print('El error del test prop es',test_rmse2)"
   ]
  },
  {
   "cell_type": "code",
   "execution_count": null,
   "metadata": {},
   "outputs": [],
   "source": []
  },
  {
   "cell_type": "code",
   "execution_count": null,
   "metadata": {},
   "outputs": [],
   "source": []
  },
  {
   "cell_type": "code",
   "execution_count": null,
   "metadata": {},
   "outputs": [],
   "source": []
  }
 ],
 "metadata": {
  "colab": {
   "collapsed_sections": [],
   "name": "DS_Proyecto_01.ipynb",
   "provenance": []
  },
  "kernelspec": {
   "display_name": "Python 3",
   "language": "python",
   "name": "python3"
  },
  "language_info": {
   "codemirror_mode": {
    "name": "ipython",
    "version": 3
   },
   "file_extension": ".py",
   "mimetype": "text/x-python",
   "name": "python",
   "nbconvert_exporter": "python",
   "pygments_lexer": "ipython3",
   "version": "3.8.5"
  }
 },
 "nbformat": 4,
 "nbformat_minor": 1
}
