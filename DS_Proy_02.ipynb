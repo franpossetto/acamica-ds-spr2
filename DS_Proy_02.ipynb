{
 "cells": [
  {
   "cell_type": "markdown",
   "metadata": {
    "id": "38tA-ErIC4OD"
   },
   "source": [
    "# Proyecto: Análisis de mercado inmobiliario + Ingenieria de features y modelos avanzados.\n",
    "\n",
    "Aplica transformación de datos y entrena Modelos Avanzados para desarrollar con mayor profundidad tu modelo de Machine Learning:\n",
    "* En la Parte 1, Transformacion de datos.\n",
    "* En la Parte 2, Modelos avanzados.\n",
    "* En la Parte 3, Interpretacion de modelos.\n",
    "\n",
    "\n",
    "En este proyecto vas a trabajar con un dataset de propiedades en venta publicado en el portal [Properati](www.properati.com.ar).\n",
    "\n"
   ]
  },
  {
   "cell_type": "markdown",
   "metadata": {},
   "source": [
    "## Pipeline\n",
    "\n",
    "### Parte 1, Transformacion de datos.\n",
    "\n",
    "1. Transformacion de los datos:\n",
    "    * Analisis de propiedades\n",
    "    * Deteccion de nulls.\n",
    "    * Imputacion de valores faltantes.\n",
    "    * Eliminacion de instancias con datos contradictorios o poca cantidad de datos.\n",
    "\n",
    "\n",
    "2. Detección y eliminación de Outliers:\n",
    "   * Determinar outliers para Bathrooms y rooms\n",
    "       * Regla de los 3 sigmas ( si no hay mucha varianza )\n",
    "   * Para superficie total determinamos outliers con reglas de diseño.\n",
    "   * Creamos un boxpolot con alguna propiedad\n",
    "       * 3 box-plots\n",
    "\n",
    "\n",
    "3. Encoding: transformamos las variables categoricas en numeros: barrio (l3) y tipo de propiedad.\n",
    "\n",
    "4. Train-test.\n",
    "\n",
    "5. Escalado de datos: todos los datos salvo el price.\n",
    "\n",
    "6. Reduccion de dimensionalidad\n",
    "\n",
    "\n",
    "### Parte 2, Modelos avanzados.\n",
    "\n",
    "7. Benchmark: Ver Arbol de decision proyecto 1 y compararlo con proyecto 2. Usar los mismos hiperparametros.\n",
    "\n",
    "8. Modelos de ensamble:\n",
    "    * \n",
    "\n"
   ]
  },
  {
   "cell_type": "markdown",
   "metadata": {
    "id": "LvPBQzg5C4OI"
   },
   "source": [
    "## 1. Transformacion de los datos.\n",
    "\n",
    "En esta sección, Continuamos con el Análisis Exploratorio de Datos realizados en el proyecto 1. Debemos elegir cual de las siguientes tareas es apropiada para este dataset e implementar la transformacion\n",
    "\n",
    "* Detección y eliminación de Outliers\n",
    "* Encoding\n",
    "* Imputación de valores faltantes\n",
    "* Escalado de datos\n",
    "* Generación de nuevas variables predictoras/reducción de dimensionalidad (SVD/PCA)."
   ]
  },
  {
   "cell_type": "markdown",
   "metadata": {},
   "source": [
    "Importamos librerias utiles para trabajar."
   ]
  },
  {
   "cell_type": "code",
   "execution_count": 1,
   "metadata": {},
   "outputs": [],
   "source": [
    "# 1 Importar liberias utilesimport numpy as np\n",
    "import pandas as pd\n",
    "import seaborn as sns\n",
    "import matplotlib.pyplot as plt\n",
    "from scipy import stats\n",
    "import numpy as np\n",
    "from sklearn.preprocessing import LabelEncoder\n",
    "from sklearn.preprocessing import MinMaxScaler\n",
    "from sklearn.decomposition import PCA\n",
    "from sklearn.model_selection import train_test_split\n",
    "from sklearn.linear_model import LinearRegression\n",
    "from sklearn.tree import DecisionTreeRegressor\n",
    "from sklearn.neighbors import KNeighborsRegressor\n",
    "from sklearn.metrics import mean_squared_error\n",
    "from sklearn.ensemble import RandomForestRegressor\n",
    "from sklearn.ensemble import RandomForestClassifier\n",
    "from sklearn.model_selection import RandomizedSearchCV\n",
    "from sklearn.ensemble import AdaBoostClassifier\n",
    "import xgboost as xgb\n",
    "from scipy.stats import uniform, randint\n",
    "import scipy as sp"
   ]
  },
  {
   "cell_type": "markdown",
   "metadata": {
    "id": "5gWE6fwUC4OY"
   },
   "source": [
    "Cargamos el Dataset. Si no se encuentra el dataset, descomprimir zip ubicado en /Datasets. Realizamos una aproximación al dataset, mostrando las primeros cinco instancias."
   ]
  },
  {
   "cell_type": "code",
   "execution_count": 2,
   "metadata": {
    "id": "YL2eAd_tC4Oa"
   },
   "outputs": [
    {
     "data": {
      "text/plain": [
       "(146660, 19)"
      ]
     },
     "execution_count": 2,
     "metadata": {},
     "output_type": "execute_result"
    }
   ],
   "source": [
    "# 2. Cargar dataset, informacion general.\n",
    "path = \"Datasets/DS_Proyecto_01_Datos_Properati.csv\"\n",
    "dataset = pd.read_csv(path)\n",
    "dataset.head()\n",
    "dataset.shape"
   ]
  },
  {
   "cell_type": "markdown",
   "metadata": {},
   "source": [
    "### 1.1 Analisis de propiedades\n",
    "\n",
    "#### Rooms\n",
    "* En Argentina, cuando se habla de un departamento 3 ambientes, significa que le departamento tiene tres espacios de permanencia, es decir, no contamos los espacios de serivicio como cocina, baño, lavadero o cochera.\n",
    "\n",
    "* Descripcion obtenida del sitio web de properati:\n",
    "    * rooms - Cantidad de ambientes (útil en Argentina).\n",
    "    * bedrooms - Cantidad de dormitorios (útil en el resto de los países).\n",
    "    * bathrooms - Cantidad de baños.\n",
    "    \n",
    "* Asumo que bathrooms no esta incluido en rooms, pero que bedrooms si lo esta, dado que en algunos casos bedrooms + bathrooms es mayor que rooms.\n",
    "\n",
    "#### Reglas de diseño:  Estudiar anomalias referidas a la relacion entre algunas de las propiedades. \n",
    "* Que la superficie cubierta sea menor o igual a la superficie total.\n",
    "* Una de las propiedades que presenta nulls son los baños. Quisiera estudiar mas detenidamente como se cargaron algunos valores. Tiene sentido que una propiedad de dos ambientes ( living-comedor + 1 dormitorio) tenga mas de dos baños? diría que no. Es poco común. De la misma manera. Tiene sentido que una propiedad de mas de 60m2 tenga solo 1 baño? Puede ser, en ambos casos, si hablamos de viviendas probablemente quien las diseño deberia replantearse cuanta gente habita cada lugar.\n",
    "* Si un deposito presenta un dato null en baños o dormitorios. Debemos calcularlo o podemos inferirlo? sabemos que un deposito no tiene dormitorios, y dependiendo del diseño puede tener 1 o 2 baños. En que situacion un deposito podria tener mas de un baños?"
   ]
  },
  {
   "cell_type": "markdown",
   "metadata": {},
   "source": [
    "#### Descartamos propiedades poco utiles para nuestro analisis\n",
    "Primero descartamos aquellas propiedades que no son utiles para nuestro analisis y contamos la cantidad de datos faltantes por columna que tiene el dataset."
   ]
  },
  {
   "cell_type": "code",
   "execution_count": 3,
   "metadata": {},
   "outputs": [
    {
     "data": {
      "text/html": [
       "<div>\n",
       "<style scoped>\n",
       "    .dataframe tbody tr th:only-of-type {\n",
       "        vertical-align: middle;\n",
       "    }\n",
       "\n",
       "    .dataframe tbody tr th {\n",
       "        vertical-align: top;\n",
       "    }\n",
       "\n",
       "    .dataframe thead th {\n",
       "        text-align: right;\n",
       "    }\n",
       "</style>\n",
       "<table border=\"1\" class=\"dataframe\">\n",
       "  <thead>\n",
       "    <tr style=\"text-align: right;\">\n",
       "      <th></th>\n",
       "      <th>l2</th>\n",
       "      <th>l3</th>\n",
       "      <th>rooms</th>\n",
       "      <th>bedrooms</th>\n",
       "      <th>bathrooms</th>\n",
       "      <th>surface_total</th>\n",
       "      <th>surface_covered</th>\n",
       "      <th>price</th>\n",
       "      <th>property_type</th>\n",
       "    </tr>\n",
       "  </thead>\n",
       "  <tbody>\n",
       "    <tr>\n",
       "      <th>0</th>\n",
       "      <td>Capital Federal</td>\n",
       "      <td>San Cristobal</td>\n",
       "      <td>7.0</td>\n",
       "      <td>7.0</td>\n",
       "      <td>2.0</td>\n",
       "      <td>140.0</td>\n",
       "      <td>140.0</td>\n",
       "      <td>153000.0</td>\n",
       "      <td>Departamento</td>\n",
       "    </tr>\n",
       "    <tr>\n",
       "      <th>1</th>\n",
       "      <td>Capital Federal</td>\n",
       "      <td>Boedo</td>\n",
       "      <td>2.0</td>\n",
       "      <td>1.0</td>\n",
       "      <td>2.0</td>\n",
       "      <td>70.0</td>\n",
       "      <td>58.0</td>\n",
       "      <td>159000.0</td>\n",
       "      <td>PH</td>\n",
       "    </tr>\n",
       "    <tr>\n",
       "      <th>2</th>\n",
       "      <td>Capital Federal</td>\n",
       "      <td>Palermo</td>\n",
       "      <td>2.0</td>\n",
       "      <td>1.0</td>\n",
       "      <td>1.0</td>\n",
       "      <td>45.0</td>\n",
       "      <td>45.0</td>\n",
       "      <td>125000.0</td>\n",
       "      <td>PH</td>\n",
       "    </tr>\n",
       "    <tr>\n",
       "      <th>3</th>\n",
       "      <td>Capital Federal</td>\n",
       "      <td>Palermo</td>\n",
       "      <td>2.0</td>\n",
       "      <td>1.0</td>\n",
       "      <td>1.0</td>\n",
       "      <td>85.0</td>\n",
       "      <td>50.0</td>\n",
       "      <td>295000.0</td>\n",
       "      <td>PH</td>\n",
       "    </tr>\n",
       "    <tr>\n",
       "      <th>4</th>\n",
       "      <td>Bs.As. G.B.A. Zona Sur</td>\n",
       "      <td>La Plata</td>\n",
       "      <td>2.0</td>\n",
       "      <td>1.0</td>\n",
       "      <td>1.0</td>\n",
       "      <td>50.0</td>\n",
       "      <td>35.0</td>\n",
       "      <td>40000.0</td>\n",
       "      <td>PH</td>\n",
       "    </tr>\n",
       "    <tr>\n",
       "      <th>...</th>\n",
       "      <td>...</td>\n",
       "      <td>...</td>\n",
       "      <td>...</td>\n",
       "      <td>...</td>\n",
       "      <td>...</td>\n",
       "      <td>...</td>\n",
       "      <td>...</td>\n",
       "      <td>...</td>\n",
       "      <td>...</td>\n",
       "    </tr>\n",
       "    <tr>\n",
       "      <th>495</th>\n",
       "      <td>Bs.As. G.B.A. Zona Sur</td>\n",
       "      <td>Berazategui</td>\n",
       "      <td>5.0</td>\n",
       "      <td>3.0</td>\n",
       "      <td>2.0</td>\n",
       "      <td>236.0</td>\n",
       "      <td>192.0</td>\n",
       "      <td>200000.0</td>\n",
       "      <td>Casa</td>\n",
       "    </tr>\n",
       "    <tr>\n",
       "      <th>496</th>\n",
       "      <td>Bs.As. G.B.A. Zona Sur</td>\n",
       "      <td>San Vicente</td>\n",
       "      <td>7.0</td>\n",
       "      <td>3.0</td>\n",
       "      <td>3.0</td>\n",
       "      <td>814.0</td>\n",
       "      <td>236.0</td>\n",
       "      <td>370000.0</td>\n",
       "      <td>Casa</td>\n",
       "    </tr>\n",
       "    <tr>\n",
       "      <th>497</th>\n",
       "      <td>Bs.As. G.B.A. Zona Sur</td>\n",
       "      <td>Lomas de Zamora</td>\n",
       "      <td>6.0</td>\n",
       "      <td>3.0</td>\n",
       "      <td>2.0</td>\n",
       "      <td>266.0</td>\n",
       "      <td>170.0</td>\n",
       "      <td>225000.0</td>\n",
       "      <td>Casa</td>\n",
       "    </tr>\n",
       "    <tr>\n",
       "      <th>498</th>\n",
       "      <td>Bs.As. G.B.A. Zona Sur</td>\n",
       "      <td>Esteban Echeverría</td>\n",
       "      <td>5.0</td>\n",
       "      <td>3.0</td>\n",
       "      <td>2.0</td>\n",
       "      <td>938.0</td>\n",
       "      <td>180.0</td>\n",
       "      <td>280000.0</td>\n",
       "      <td>Casa</td>\n",
       "    </tr>\n",
       "    <tr>\n",
       "      <th>499</th>\n",
       "      <td>Bs.As. G.B.A. Zona Sur</td>\n",
       "      <td>Lanús</td>\n",
       "      <td>4.0</td>\n",
       "      <td>3.0</td>\n",
       "      <td>2.0</td>\n",
       "      <td>156.0</td>\n",
       "      <td>135.0</td>\n",
       "      <td>360000.0</td>\n",
       "      <td>Departamento</td>\n",
       "    </tr>\n",
       "  </tbody>\n",
       "</table>\n",
       "<p>500 rows × 9 columns</p>\n",
       "</div>"
      ],
      "text/plain": [
       "                         l2                  l3  rooms  bedrooms  bathrooms  \\\n",
       "0           Capital Federal       San Cristobal    7.0       7.0        2.0   \n",
       "1           Capital Federal               Boedo    2.0       1.0        2.0   \n",
       "2           Capital Federal             Palermo    2.0       1.0        1.0   \n",
       "3           Capital Federal             Palermo    2.0       1.0        1.0   \n",
       "4    Bs.As. G.B.A. Zona Sur            La Plata    2.0       1.0        1.0   \n",
       "..                      ...                 ...    ...       ...        ...   \n",
       "495  Bs.As. G.B.A. Zona Sur         Berazategui    5.0       3.0        2.0   \n",
       "496  Bs.As. G.B.A. Zona Sur         San Vicente    7.0       3.0        3.0   \n",
       "497  Bs.As. G.B.A. Zona Sur     Lomas de Zamora    6.0       3.0        2.0   \n",
       "498  Bs.As. G.B.A. Zona Sur  Esteban Echeverría    5.0       3.0        2.0   \n",
       "499  Bs.As. G.B.A. Zona Sur               Lanús    4.0       3.0        2.0   \n",
       "\n",
       "     surface_total  surface_covered     price property_type  \n",
       "0            140.0            140.0  153000.0  Departamento  \n",
       "1             70.0             58.0  159000.0            PH  \n",
       "2             45.0             45.0  125000.0            PH  \n",
       "3             85.0             50.0  295000.0            PH  \n",
       "4             50.0             35.0   40000.0            PH  \n",
       "..             ...              ...       ...           ...  \n",
       "495          236.0            192.0  200000.0          Casa  \n",
       "496          814.0            236.0  370000.0          Casa  \n",
       "497          266.0            170.0  225000.0          Casa  \n",
       "498          938.0            180.0  280000.0          Casa  \n",
       "499          156.0            135.0  360000.0  Departamento  \n",
       "\n",
       "[500 rows x 9 columns]"
      ]
     },
     "execution_count": 3,
     "metadata": {},
     "output_type": "execute_result"
    }
   ],
   "source": [
    "dataset.drop(['l1', 'lat','lon','start_date', 'end_date', 'created_on', 'title', 'currency','operation_type', 'description'], 'columns', inplace = True )\n",
    "dataset.head(500)"
   ]
  },
  {
   "cell_type": "markdown",
   "metadata": {},
   "source": [
    "### 1.2 Deteccion de nulls"
   ]
  },
  {
   "cell_type": "code",
   "execution_count": 4,
   "metadata": {},
   "outputs": [
    {
     "name": "stdout",
     "output_type": "stream",
     "text": [
      "Nulls en cada columna:\n"
     ]
    },
    {
     "data": {
      "text/plain": [
       "l2                     0\n",
       "l3                     0\n",
       "rooms                  0\n",
       "bedrooms               0\n",
       "bathrooms           5957\n",
       "surface_total      20527\n",
       "surface_covered    21614\n",
       "price                  0\n",
       "property_type          0\n",
       "dtype: int64"
      ]
     },
     "execution_count": 4,
     "metadata": {},
     "output_type": "execute_result"
    }
   ],
   "source": [
    "print(\"Nulls en cada columna:\")\n",
    "dataset.isna().sum()"
   ]
  },
  {
   "cell_type": "markdown",
   "metadata": {},
   "source": [
    "### 1.3 Imputacion de valores faltantes"
   ]
  },
  {
   "cell_type": "code",
   "execution_count": 5,
   "metadata": {},
   "outputs": [
    {
     "name": "stderr",
     "output_type": "stream",
     "text": [
      "<ipython-input-5-cff293fb3bf1>:17: SettingWithCopyWarning: \n",
      "A value is trying to be set on a copy of a slice from a DataFrame\n",
      "\n",
      "See the caveats in the documentation: https://pandas.pydata.org/pandas-docs/stable/user_guide/indexing.html#returning-a-view-versus-a-copy\n",
      "  dataset['bathrooms'][row] = fill_bathroom(dataset['rooms'][row])\n"
     ]
    },
    {
     "data": {
      "text/plain": [
       "l2                     0\n",
       "l3                     0\n",
       "rooms                  0\n",
       "bedrooms               0\n",
       "bathrooms              0\n",
       "surface_total      20527\n",
       "surface_covered    21614\n",
       "price                  0\n",
       "property_type          0\n",
       "dtype: int64"
      ]
     },
     "execution_count": 5,
     "metadata": {},
     "output_type": "execute_result"
    }
   ],
   "source": [
    "#imputacion bathroom: regla de diseño.\n",
    "def fill_bathroom(room_count):\n",
    "    if (room_count < 3):\n",
    "        return 1\n",
    "    elif (room_count >= 3 and room_count < 5):\n",
    "        return 2\n",
    "    elif (room_count >= 5 and room_count < 7):\n",
    "        return 3\n",
    "    elif (room_count >= 8 and room_count < 10):\n",
    "        return 4\n",
    "    else:\n",
    "        return 5\n",
    "\n",
    "a = 0\n",
    "for row in dataset.index:\n",
    "    if(np.isnan(dataset['bathrooms'][row])):\n",
    "        dataset['bathrooms'][row] = fill_bathroom(dataset['rooms'][row])\n",
    "        a=a+1\n",
    "\n",
    "ds2 = dataset.copy()\n",
    "ds2.isna().sum()\n",
    "#print(a)"
   ]
  },
  {
   "cell_type": "markdown",
   "metadata": {},
   "source": [
    "### 1.4 Eliminacion de instancias con datos contradictorios"
   ]
  },
  {
   "cell_type": "markdown",
   "metadata": {},
   "source": [
    "Eliminamos aquellas instancias que tienen:\n",
    "   * Mayor superficie cubierta que superficie total\n",
    "   * Mayor cantidad de baños que habitaciones\n",
    "    "
   ]
  },
  {
   "cell_type": "code",
   "execution_count": 6,
   "metadata": {},
   "outputs": [],
   "source": [
    "if not \"_rooms\" in ds2:\n",
    "    ds2[\"_rooms\"] = ds2[\"rooms\"]-ds2[\"bedrooms\"]"
   ]
  },
  {
   "cell_type": "markdown",
   "metadata": {},
   "source": [
    "Checkpoint mas adelante si solo trabajamos con capital federal:\n",
    "\n",
    "* Departamento    62723\n",
    "* PH               9408\n",
    "* Casa             1979\n",
    "\n",
    "Muy pocas casas."
   ]
  },
  {
   "cell_type": "code",
   "execution_count": 7,
   "metadata": {},
   "outputs": [
    {
     "data": {
      "image/png": "[encoded data removed]",
      "text/plain": [
       "<Figure size 432x288 with 1 Axes>"
      ]
     },
     "metadata": {},
     "output_type": "display_data"
    },
    {
     "data": {
      "text/plain": [
       "(122426, 10)"
      ]
     },
     "execution_count": 7,
     "metadata": {},
     "output_type": "execute_result"
    }
   ],
   "source": [
    "#Solo capital federal\n",
    "#mask0 =(ds2[\"l2\"]==\"Capital Federal\")\n",
    "\n",
    "#sup cubierta mayor que sup total\n",
    "mask1 = (ds2['surface_total'] >= ds2['surface_covered'])\n",
    "  \n",
    "#mas baños que habitaciones\n",
    "mask2 = (ds2['rooms'] >= ds2['bathrooms'])\n",
    "\n",
    "#ds3 = ds2[mask0 & mask1 & mask2]\n",
    "ds3 = ds2[mask1 & mask2]\n",
    "\n",
    "d1 = ds3.shape[0]\n",
    "d2 = ds2.shape[0] - ds3.shape[0]\n",
    "\n",
    "labels = ['Dataset', 'Deleted']\n",
    "sizes = [d1, d2]  # Add upto 100%\n",
    " \n",
    "# Plot the pie chart\n",
    "plt.pie(sizes, labels=labels, autopct='%1.1f%%', startangle=90)\n",
    " \n",
    "# Equal aspect ratio ensures that pie is drawn as a circle.\n",
    "plt.axis('equal')\n",
    " \n",
    "# Display the graph onto the screen\n",
    "plt.show()\n",
    "\n",
    "ds3.shape"
   ]
  },
  {
   "cell_type": "code",
   "execution_count": 8,
   "metadata": {},
   "outputs": [
    {
     "data": {
      "text/plain": [
       "l2                 0\n",
       "l3                 0\n",
       "rooms              0\n",
       "bedrooms           0\n",
       "bathrooms          0\n",
       "surface_total      0\n",
       "surface_covered    0\n",
       "price              0\n",
       "property_type      0\n",
       "_rooms             0\n",
       "dtype: int64"
      ]
     },
     "execution_count": 8,
     "metadata": {},
     "output_type": "execute_result"
    }
   ],
   "source": [
    "ds2.isna().sum()\n",
    "ds3.isna().sum()\n"
   ]
  },
  {
   "cell_type": "code",
   "execution_count": 9,
   "metadata": {},
   "outputs": [
    {
     "data": {
      "text/plain": [
       "array(['Departamento', 'PH', 'Casa', 'Casa de campo', 'Oficina', 'Lote',\n",
       "       'Otro', 'Local comercial', 'Cochera', 'Depósito'], dtype=object)"
      ]
     },
     "execution_count": 9,
     "metadata": {},
     "output_type": "execute_result"
    }
   ],
   "source": [
    "pd.unique(ds3.loc[:,'property_type'])"
   ]
  },
  {
   "cell_type": "code",
   "execution_count": 10,
   "metadata": {},
   "outputs": [
    {
     "name": "stdout",
     "output_type": "stream",
     "text": [
      "Monoambientes: 0 Casos\n"
     ]
    }
   ],
   "source": [
    "#Propiedades que solo tienen bethrooms y bathrooms?\n",
    "mask4 = (ds3['_rooms'] > 0 | ds3['_rooms'].isna())\n",
    "\n",
    "#Propiedades que no tienen bedrooms? -> Monoambientes\n",
    "monoambientes= (ds3['bedrooms'].isna())\n",
    "print(\"Monoambientes: \" + str(monoambientes.sum()) + \" Casos\")\n",
    "\n",
    "mask5 = ((ds3['property_type'] == \"PH\") | (ds3['property_type'] == \"Departamento\") | (ds3['property_type'] == \"Casa\"))\n",
    "\n",
    "ds4 = ds3[mask4 & mask5]"
   ]
  },
  {
   "cell_type": "code",
   "execution_count": 11,
   "metadata": {},
   "outputs": [
    {
     "data": {
      "text/plain": [
       "113233"
      ]
     },
     "execution_count": 11,
     "metadata": {},
     "output_type": "execute_result"
    }
   ],
   "source": [
    "ds4.isnull().sum()\n",
    "ds4.head()\n",
    "ds4.shape[0]"
   ]
  },
  {
   "cell_type": "markdown",
   "metadata": {},
   "source": [
    "Podemos analizar la relacion que existe entre las variables surface_total y surface_covered."
   ]
  },
  {
   "cell_type": "markdown",
   "metadata": {},
   "source": [
    "Las eliminamos, no tiene mucho sentido mantenerlas o suponer algun valor."
   ]
  },
  {
   "cell_type": "markdown",
   "metadata": {},
   "source": [
    "#### Correlacion entre las variables"
   ]
  },
  {
   "cell_type": "code",
   "execution_count": 12,
   "metadata": {},
   "outputs": [],
   "source": [
    "corr = ds4.corr()"
   ]
  },
  {
   "cell_type": "code",
   "execution_count": 13,
   "metadata": {},
   "outputs": [
    {
     "data": {
      "text/plain": [
       "<AxesSubplot:>"
      ]
     },
     "execution_count": 13,
     "metadata": {},
     "output_type": "execute_result"
    },
    {
     "data": {
      "image/png": "[encoded data removed]",
      "text/plain": [
       "<Figure size 432x288 with 2 Axes>"
      ]
     },
     "metadata": {
      "needs_background": "light"
     },
     "output_type": "display_data"
    }
   ],
   "source": [
    "sns.heatmap(corr, cbar = True, annot = True )"
   ]
  },
  {
   "cell_type": "markdown",
   "metadata": {},
   "source": [
    "#### Determinacion de Outliers"
   ]
  },
  {
   "cell_type": "code",
   "execution_count": 14,
   "metadata": {},
   "outputs": [
    {
     "data": {
      "text/plain": [
       "Departamento    83950\n",
       "Casa            15617\n",
       "PH              13666\n",
       "Name: property_type, dtype: int64"
      ]
     },
     "execution_count": 14,
     "metadata": {},
     "output_type": "execute_result"
    }
   ],
   "source": [
    "ds4.property_type.value_counts()"
   ]
  },
  {
   "cell_type": "code",
   "execution_count": 15,
   "metadata": {},
   "outputs": [],
   "source": [
    "def set_outliers(p):\n",
    "    ceil = p.mean()+3*(p.std())\n",
    "    floor = p.mean()-3*(p.std())\n",
    "    print(\"Max value: \", ceil)\n",
    "    print(\"Min value: \", floor)\n",
    "    print(\"The rest is not common\")"
   ]
  },
  {
   "cell_type": "code",
   "execution_count": 16,
   "metadata": {},
   "outputs": [
    {
     "name": "stdout",
     "output_type": "stream",
     "text": [
      "Max value:  3.8703190499756097\n",
      "Min value:  -0.7977758695110471\n",
      "The rest is not common\n",
      "Max value:  6.124998434394097\n",
      "Min value:  -0.22196091205937352\n",
      "The rest is not common\n",
      "Max value:  1431.3684017838773\n",
      "Min value:  -1263.1104387106193\n",
      "The rest is not common\n",
      "Max value:  1109073.4488752396\n",
      "Min value:  -607339.7834076993\n",
      "The rest is not common\n"
     ]
    }
   ],
   "source": [
    "deptos = ds4[ds4.property_type==\"Departamento\"]\n",
    "set_outliers(deptos.bathrooms)\n",
    "set_outliers(deptos.rooms)\n",
    "set_outliers(deptos.surface_covered)\n",
    "set_outliers(deptos.price)"
   ]
  },
  {
   "cell_type": "markdown",
   "metadata": {},
   "source": [
    "En ninguno de estos casos tendremos valores negativos. Los limites inferiores se re definen de la siguiente manera:\n",
    "* Cantidad minima de baños : 1\n",
    "* Cantidad minima de rooms : 1\n",
    "* Superficie minima : 35m2\n",
    "* Precio minimo : 20 mil dolares\n",
    "\n",
    "Los valores arrojados para surface_covered no son aceptables. Se determina como valor maximo 300m2"
   ]
  },
  {
   "cell_type": "code",
   "execution_count": 17,
   "metadata": {},
   "outputs": [
    {
     "data": {
      "image/png": "[encoded data removed]",
      "text/plain": [
       "<Figure size 1440x720 with 3 Axes>"
      ]
     },
     "metadata": {
      "needs_background": "light"
     },
     "output_type": "display_data"
    }
   ],
   "source": [
    "dptos_mask= ((ds4['property_type']=='Departamento')&\n",
    "            (ds4['bathrooms']<=4)&\n",
    "            (ds4['rooms'] <=6)&\n",
    "            (ds4['surface_total']<=300)&\n",
    "            (ds4['surface_total']>=20)&\n",
    "            (ds4['price']<1000000))\n",
    "\n",
    "plt.figure(figsize=(20, 10))\n",
    "\n",
    "plt.subplot(3,1,1)\n",
    "sns.boxplot(data = ds4[dptos_mask], x = 'surface_total')\n",
    "plt.ylabel('Dpto', size = 30)\n",
    "\n",
    "plt.subplot(3,1,2)\n",
    "sns.boxplot(data = ds4[dptos_mask], x = 'price')\n",
    "plt.ylabel('Dpto', size = 30)\n",
    "\n",
    "plt.subplot(3,1,3)\n",
    "sns.boxplot(data = ds4[dptos_mask], x = 'rooms')\n",
    "plt.ylabel('Dpto', size = 30)\n",
    "\n",
    "corr_dpto=ds4[dptos_mask].corr()"
   ]
  },
  {
   "cell_type": "code",
   "execution_count": 18,
   "metadata": {},
   "outputs": [
    {
     "name": "stdout",
     "output_type": "stream",
     "text": [
      "Bathrooms\n",
      "Max value:  5.3365610006226\n",
      "Min value:  -1.1338332039907253\n",
      "The rest is not common\n",
      "--------\n",
      "Rooms\n",
      "Max value:  9.17837199368896\n",
      "Min value:  0.04106835977201051\n",
      "The rest is not common\n",
      "--------\n",
      "Surface covered\n",
      "Max value:  3280.043025487179\n",
      "Min value:  -2845.964393227462\n",
      "The rest is not common\n",
      "--------\n",
      "Price\n",
      "Max value:  1101338.277953481\n",
      "Min value:  -555694.1816481727\n",
      "The rest is not common\n"
     ]
    }
   ],
   "source": [
    "casas = ds4[ds4.property_type==\"Casa\"]\n",
    "print(\"Bathrooms\")\n",
    "set_outliers(casas.bathrooms)\n",
    "print(\"--------\")\n",
    "print(\"Rooms\")\n",
    "set_outliers(casas.rooms)\n",
    "print(\"--------\")\n",
    "print(\"Surface covered\")\n",
    "set_outliers(casas.surface_covered)\n",
    "print(\"--------\")\n",
    "print(\"Price\")\n",
    "set_outliers(casas.price)"
   ]
  },
  {
   "cell_type": "code",
   "execution_count": 19,
   "metadata": {},
   "outputs": [
    {
     "data": {
      "image/png": "[encoded data removed]",
      "text/plain": [
       "<Figure size 1440x720 with 3 Axes>"
      ]
     },
     "metadata": {
      "needs_background": "light"
     },
     "output_type": "display_data"
    }
   ],
   "source": [
    "casa_mask= ((ds4['property_type']=='Casa')&\n",
    "            (ds4['bathrooms']<=6)&\n",
    "            (ds4['rooms']<=10)&\n",
    "            (ds4['surface_total']<=1000)&\n",
    "            (ds4['surface_total']>=60)&\n",
    "            (ds4['price']<1200000))\n",
    "\n",
    "plt.figure(figsize=(20, 10))\n",
    "\n",
    "plt.subplot(3,1,1)\n",
    "sns.boxplot(data = ds4[casa_mask], x = 'surface_total')\n",
    "plt.ylabel('Casa', size = 30)\n",
    "\n",
    "plt.subplot(3,1,2)\n",
    "sns.boxplot(data = ds4[casa_mask], x = 'price')\n",
    "plt.ylabel('Casa', size = 30)\n",
    "\n",
    "plt.subplot(3,1,3)\n",
    "sns.boxplot(data = ds4[casa_mask], x = 'rooms')\n",
    "plt.ylabel('Casa', size = 30)\n",
    "\n",
    "corr_dpto=ds4[casa_mask].corr()"
   ]
  },
  {
   "cell_type": "code",
   "execution_count": 20,
   "metadata": {},
   "outputs": [
    {
     "name": "stdout",
     "output_type": "stream",
     "text": [
      "Bathrooms\n",
      "Max value:  3.6853264809502875\n",
      "Min value:  -0.7109374863651858\n",
      "The rest is not common\n",
      "--------\n",
      "Rooms\n",
      "Max value:  2.7877003295583567\n",
      "Min value:  -0.5059792699944758\n",
      "The rest is not common\n",
      "--------\n",
      "Surface covered\n",
      "Max value:  4734.6854143216815\n",
      "Min value:  -4498.409547206212\n",
      "The rest is not common\n",
      "--------\n",
      "Price\n",
      "Max value:  528922.8386300481\n",
      "Min value:  -148598.12035110762\n",
      "The rest is not common\n"
     ]
    }
   ],
   "source": [
    "phs = ds4[ds4.property_type==\"PH\"]\n",
    "print(\"Bathrooms\")\n",
    "set_outliers(phs.bathrooms)\n",
    "print(\"--------\")\n",
    "print(\"Rooms\")\n",
    "set_outliers(phs._rooms)\n",
    "print(\"--------\")\n",
    "print(\"Surface covered\")\n",
    "set_outliers(phs.surface_covered)\n",
    "print(\"--------\")\n",
    "print(\"Price\")\n",
    "set_outliers(phs.price)"
   ]
  },
  {
   "cell_type": "code",
   "execution_count": 21,
   "metadata": {},
   "outputs": [
    {
     "data": {
      "image/png": "[encoded data removed]",
      "text/plain": [
       "<Figure size 1440x720 with 3 Axes>"
      ]
     },
     "metadata": {
      "needs_background": "light"
     },
     "output_type": "display_data"
    }
   ],
   "source": [
    "phs_mask= ((ds4['property_type']=='Casa')&\n",
    "            (ds4['bathrooms']<=4)&\n",
    "            (ds4['rooms']<=9)&\n",
    "            (ds4['surface_total']<=650)&\n",
    "            (ds4['surface_total']>=50)&\n",
    "            (ds4['price']<600000))\n",
    "\n",
    "plt.figure(figsize=(20, 10))\n",
    "\n",
    "plt.subplot(3,1,1)\n",
    "sns.boxplot(data = ds4[phs_mask], x = 'surface_total')\n",
    "plt.ylabel('Ph', size = 30)\n",
    "\n",
    "plt.subplot(3,1,2)\n",
    "sns.boxplot(data = ds4[phs_mask], x = 'price')\n",
    "plt.ylabel('Ph', size = 30)\n",
    "\n",
    "plt.subplot(3,1,3)\n",
    "sns.boxplot(data = ds4[phs_mask], x = 'rooms')\n",
    "plt.ylabel('Ph', size = 30)\n",
    "\n",
    "corr_dpto=ds4[phs_mask].corr()"
   ]
  },
  {
   "cell_type": "markdown",
   "metadata": {},
   "source": [
    "### Encoding"
   ]
  },
  {
   "cell_type": "code",
   "execution_count": 22,
   "metadata": {},
   "outputs": [
    {
     "data": {
      "text/html": [
       "<div>\n",
       "<style scoped>\n",
       "    .dataframe tbody tr th:only-of-type {\n",
       "        vertical-align: middle;\n",
       "    }\n",
       "\n",
       "    .dataframe tbody tr th {\n",
       "        vertical-align: top;\n",
       "    }\n",
       "\n",
       "    .dataframe thead th {\n",
       "        text-align: right;\n",
       "    }\n",
       "</style>\n",
       "<table border=\"1\" class=\"dataframe\">\n",
       "  <thead>\n",
       "    <tr style=\"text-align: right;\">\n",
       "      <th></th>\n",
       "      <th>l2</th>\n",
       "      <th>l3</th>\n",
       "      <th>rooms</th>\n",
       "      <th>bedrooms</th>\n",
       "      <th>bathrooms</th>\n",
       "      <th>surface_total</th>\n",
       "      <th>surface_covered</th>\n",
       "      <th>price</th>\n",
       "      <th>property_type</th>\n",
       "      <th>_rooms</th>\n",
       "      <th>...</th>\n",
       "      <th>15</th>\n",
       "      <th>16</th>\n",
       "      <th>17</th>\n",
       "      <th>18</th>\n",
       "      <th>19</th>\n",
       "      <th>20</th>\n",
       "      <th>21</th>\n",
       "      <th>22</th>\n",
       "      <th>23</th>\n",
       "      <th>24</th>\n",
       "    </tr>\n",
       "  </thead>\n",
       "  <tbody>\n",
       "    <tr>\n",
       "      <th>1</th>\n",
       "      <td>Capital Federal</td>\n",
       "      <td>Boedo</td>\n",
       "      <td>2.0</td>\n",
       "      <td>1.0</td>\n",
       "      <td>2.0</td>\n",
       "      <td>70.0</td>\n",
       "      <td>58.0</td>\n",
       "      <td>159000.0</td>\n",
       "      <td>PH</td>\n",
       "      <td>1.0</td>\n",
       "      <td>...</td>\n",
       "      <td>0.019089</td>\n",
       "      <td>-0.046341</td>\n",
       "      <td>-0.022847</td>\n",
       "      <td>0.010408</td>\n",
       "      <td>-0.027693</td>\n",
       "      <td>0.010672</td>\n",
       "      <td>-0.001647</td>\n",
       "      <td>-0.039302</td>\n",
       "      <td>-0.056498</td>\n",
       "      <td>0.020405</td>\n",
       "    </tr>\n",
       "    <tr>\n",
       "      <th>2</th>\n",
       "      <td>Capital Federal</td>\n",
       "      <td>Palermo</td>\n",
       "      <td>2.0</td>\n",
       "      <td>1.0</td>\n",
       "      <td>1.0</td>\n",
       "      <td>45.0</td>\n",
       "      <td>45.0</td>\n",
       "      <td>125000.0</td>\n",
       "      <td>PH</td>\n",
       "      <td>1.0</td>\n",
       "      <td>...</td>\n",
       "      <td>-0.002162</td>\n",
       "      <td>0.007877</td>\n",
       "      <td>0.002887</td>\n",
       "      <td>0.000757</td>\n",
       "      <td>0.000819</td>\n",
       "      <td>-0.000738</td>\n",
       "      <td>-0.002175</td>\n",
       "      <td>0.001795</td>\n",
       "      <td>0.001181</td>\n",
       "      <td>0.000117</td>\n",
       "    </tr>\n",
       "    <tr>\n",
       "      <th>3</th>\n",
       "      <td>Capital Federal</td>\n",
       "      <td>Palermo</td>\n",
       "      <td>2.0</td>\n",
       "      <td>1.0</td>\n",
       "      <td>1.0</td>\n",
       "      <td>85.0</td>\n",
       "      <td>50.0</td>\n",
       "      <td>295000.0</td>\n",
       "      <td>PH</td>\n",
       "      <td>1.0</td>\n",
       "      <td>...</td>\n",
       "      <td>-0.002162</td>\n",
       "      <td>0.007877</td>\n",
       "      <td>0.002887</td>\n",
       "      <td>0.000757</td>\n",
       "      <td>0.000819</td>\n",
       "      <td>-0.000738</td>\n",
       "      <td>-0.002175</td>\n",
       "      <td>0.001795</td>\n",
       "      <td>0.001181</td>\n",
       "      <td>0.000117</td>\n",
       "    </tr>\n",
       "    <tr>\n",
       "      <th>4</th>\n",
       "      <td>Bs.As. G.B.A. Zona Sur</td>\n",
       "      <td>La Plata</td>\n",
       "      <td>2.0</td>\n",
       "      <td>1.0</td>\n",
       "      <td>1.0</td>\n",
       "      <td>50.0</td>\n",
       "      <td>35.0</td>\n",
       "      <td>40000.0</td>\n",
       "      <td>PH</td>\n",
       "      <td>1.0</td>\n",
       "      <td>...</td>\n",
       "      <td>-0.014293</td>\n",
       "      <td>0.046946</td>\n",
       "      <td>0.015529</td>\n",
       "      <td>0.003876</td>\n",
       "      <td>0.004126</td>\n",
       "      <td>-0.003710</td>\n",
       "      <td>-0.010634</td>\n",
       "      <td>0.008529</td>\n",
       "      <td>0.005509</td>\n",
       "      <td>0.000546</td>\n",
       "    </tr>\n",
       "    <tr>\n",
       "      <th>5</th>\n",
       "      <td>Capital Federal</td>\n",
       "      <td>Villa Crespo</td>\n",
       "      <td>2.0</td>\n",
       "      <td>1.0</td>\n",
       "      <td>1.0</td>\n",
       "      <td>56.0</td>\n",
       "      <td>56.0</td>\n",
       "      <td>150000.0</td>\n",
       "      <td>PH</td>\n",
       "      <td>1.0</td>\n",
       "      <td>...</td>\n",
       "      <td>-0.005684</td>\n",
       "      <td>0.020084</td>\n",
       "      <td>0.007119</td>\n",
       "      <td>0.001835</td>\n",
       "      <td>0.001974</td>\n",
       "      <td>-0.001778</td>\n",
       "      <td>-0.005191</td>\n",
       "      <td>0.004238</td>\n",
       "      <td>0.002772</td>\n",
       "      <td>0.000273</td>\n",
       "    </tr>\n",
       "  </tbody>\n",
       "</table>\n",
       "<p>5 rows × 35 columns</p>\n",
       "</div>"
      ],
      "text/plain": [
       "                       l2            l3  rooms  bedrooms  bathrooms  \\\n",
       "1         Capital Federal         Boedo    2.0       1.0        2.0   \n",
       "2         Capital Federal       Palermo    2.0       1.0        1.0   \n",
       "3         Capital Federal       Palermo    2.0       1.0        1.0   \n",
       "4  Bs.As. G.B.A. Zona Sur      La Plata    2.0       1.0        1.0   \n",
       "5         Capital Federal  Villa Crespo    2.0       1.0        1.0   \n",
       "\n",
       "   surface_total  surface_covered     price property_type  _rooms  ...  \\\n",
       "1           70.0             58.0  159000.0            PH     1.0  ...   \n",
       "2           45.0             45.0  125000.0            PH     1.0  ...   \n",
       "3           85.0             50.0  295000.0            PH     1.0  ...   \n",
       "4           50.0             35.0   40000.0            PH     1.0  ...   \n",
       "5           56.0             56.0  150000.0            PH     1.0  ...   \n",
       "\n",
       "         15        16        17        18        19        20        21  \\\n",
       "1  0.019089 -0.046341 -0.022847  0.010408 -0.027693  0.010672 -0.001647   \n",
       "2 -0.002162  0.007877  0.002887  0.000757  0.000819 -0.000738 -0.002175   \n",
       "3 -0.002162  0.007877  0.002887  0.000757  0.000819 -0.000738 -0.002175   \n",
       "4 -0.014293  0.046946  0.015529  0.003876  0.004126 -0.003710 -0.010634   \n",
       "5 -0.005684  0.020084  0.007119  0.001835  0.001974 -0.001778 -0.005191   \n",
       "\n",
       "         22        23        24  \n",
       "1 -0.039302 -0.056498  0.020405  \n",
       "2  0.001795  0.001181  0.000117  \n",
       "3  0.001795  0.001181  0.000117  \n",
       "4  0.008529  0.005509  0.000546  \n",
       "5  0.004238  0.002772  0.000273  \n",
       "\n",
       "[5 rows x 35 columns]"
      ]
     },
     "execution_count": 22,
     "metadata": {},
     "output_type": "execute_result"
    }
   ],
   "source": [
    "#enc = LabelEncoder()\n",
    "#l3_labels = enc.fit_transform(ds4[\"l3\"])\n",
    "#ds4.insert(7,\"Enc_Barrio\",l3_labels)\n",
    "#ds4.head()\n",
    "\n",
    "enc_l3 = pd.get_dummies(ds4.l3, drop_first=True)\n",
    "\n",
    "pca3=PCA(n_components=25)\n",
    "_pca3 = pca3.fit_transform(enc_l3.loc[:])\n",
    "a = pd.DataFrame(_pca3)\n",
    "a.index = ds4.index\n",
    "ds4 = pd.concat([ds4, a], axis=1)\n",
    "ds4.head()"
   ]
  },
  {
   "cell_type": "code",
   "execution_count": 23,
   "metadata": {},
   "outputs": [
    {
     "data": {
      "text/plain": [
       "array([0.0978219 , 0.06985314, 0.05767654, 0.05062518, 0.0489998 ,\n",
       "       0.04675228, 0.03949072, 0.0303944 , 0.02747846, 0.02594232,\n",
       "       0.02496879, 0.02338357, 0.02151235, 0.01972353, 0.01886741,\n",
       "       0.01814076, 0.01644051, 0.01446074, 0.01334994, 0.01314398,\n",
       "       0.01289894, 0.01236105, 0.01181094, 0.01132019, 0.01101902])"
      ]
     },
     "execution_count": 23,
     "metadata": {},
     "output_type": "execute_result"
    }
   ],
   "source": [
    "pca3.explained_variance_ratio_"
   ]
  },
  {
   "cell_type": "code",
   "execution_count": 24,
   "metadata": {},
   "outputs": [
    {
     "data": {
      "image/png": "[encoded data removed]",
      "text/plain": [
       "<Figure size 432x288 with 1 Axes>"
      ]
     },
     "metadata": {
      "needs_background": "light"
     },
     "output_type": "display_data"
    }
   ],
   "source": [
    "plt.plot(np.cumsum(pca3.explained_variance_ratio_))\n",
    "plt.xlabel('number of components')\n",
    "plt.ylabel('cumulative explained variance')\n",
    "plt.show()"
   ]
  },
  {
   "cell_type": "code",
   "execution_count": 40,
   "metadata": {},
   "outputs": [
    {
     "data": {
      "text/html": [
       "<div>\n",
       "<style scoped>\n",
       "    .dataframe tbody tr th:only-of-type {\n",
       "        vertical-align: middle;\n",
       "    }\n",
       "\n",
       "    .dataframe tbody tr th {\n",
       "        vertical-align: top;\n",
       "    }\n",
       "\n",
       "    .dataframe thead th {\n",
       "        text-align: right;\n",
       "    }\n",
       "</style>\n",
       "<table border=\"1\" class=\"dataframe\">\n",
       "  <thead>\n",
       "    <tr style=\"text-align: right;\">\n",
       "      <th></th>\n",
       "      <th>Departamento</th>\n",
       "      <th>PH</th>\n",
       "    </tr>\n",
       "  </thead>\n",
       "  <tbody>\n",
       "    <tr>\n",
       "      <th>1</th>\n",
       "      <td>0</td>\n",
       "      <td>1</td>\n",
       "    </tr>\n",
       "    <tr>\n",
       "      <th>2</th>\n",
       "      <td>0</td>\n",
       "      <td>1</td>\n",
       "    </tr>\n",
       "    <tr>\n",
       "      <th>3</th>\n",
       "      <td>0</td>\n",
       "      <td>1</td>\n",
       "    </tr>\n",
       "    <tr>\n",
       "      <th>4</th>\n",
       "      <td>0</td>\n",
       "      <td>1</td>\n",
       "    </tr>\n",
       "    <tr>\n",
       "      <th>5</th>\n",
       "      <td>0</td>\n",
       "      <td>1</td>\n",
       "    </tr>\n",
       "  </tbody>\n",
       "</table>\n",
       "</div>"
      ],
      "text/plain": [
       "   Departamento  PH\n",
       "1             0   1\n",
       "2             0   1\n",
       "3             0   1\n",
       "4             0   1\n",
       "5             0   1"
      ]
     },
     "execution_count": 40,
     "metadata": {},
     "output_type": "execute_result"
    }
   ],
   "source": [
    "enc_property_type = pd.get_dummies(ds4.property_type, drop_first= True)\n",
    "enc_property_type.index = ds4.index\n",
    "enc_property_type.head()"
   ]
  },
  {
   "cell_type": "code",
   "execution_count": 41,
   "metadata": {},
   "outputs": [
    {
     "data": {
      "text/html": [
       "<div>\n",
       "<style scoped>\n",
       "    .dataframe tbody tr th:only-of-type {\n",
       "        vertical-align: middle;\n",
       "    }\n",
       "\n",
       "    .dataframe tbody tr th {\n",
       "        vertical-align: top;\n",
       "    }\n",
       "\n",
       "    .dataframe thead th {\n",
       "        text-align: right;\n",
       "    }\n",
       "</style>\n",
       "<table border=\"1\" class=\"dataframe\">\n",
       "  <thead>\n",
       "    <tr style=\"text-align: right;\">\n",
       "      <th></th>\n",
       "      <th>l2</th>\n",
       "      <th>l3</th>\n",
       "      <th>rooms</th>\n",
       "      <th>bedrooms</th>\n",
       "      <th>bathrooms</th>\n",
       "      <th>surface_total</th>\n",
       "      <th>surface_covered</th>\n",
       "      <th>price</th>\n",
       "      <th>property_type</th>\n",
       "      <th>_rooms</th>\n",
       "      <th>...</th>\n",
       "      <th>15</th>\n",
       "      <th>16</th>\n",
       "      <th>17</th>\n",
       "      <th>18</th>\n",
       "      <th>19</th>\n",
       "      <th>20</th>\n",
       "      <th>21</th>\n",
       "      <th>22</th>\n",
       "      <th>23</th>\n",
       "      <th>24</th>\n",
       "    </tr>\n",
       "  </thead>\n",
       "  <tbody>\n",
       "    <tr>\n",
       "      <th>1</th>\n",
       "      <td>Capital Federal</td>\n",
       "      <td>Boedo</td>\n",
       "      <td>2.0</td>\n",
       "      <td>1.0</td>\n",
       "      <td>2.0</td>\n",
       "      <td>70.0</td>\n",
       "      <td>58.0</td>\n",
       "      <td>159000.0</td>\n",
       "      <td>PH</td>\n",
       "      <td>1.0</td>\n",
       "      <td>...</td>\n",
       "      <td>0.019089</td>\n",
       "      <td>-0.046341</td>\n",
       "      <td>-0.022847</td>\n",
       "      <td>0.010408</td>\n",
       "      <td>-0.027693</td>\n",
       "      <td>0.010672</td>\n",
       "      <td>-0.001647</td>\n",
       "      <td>-0.039302</td>\n",
       "      <td>-0.056498</td>\n",
       "      <td>0.020405</td>\n",
       "    </tr>\n",
       "    <tr>\n",
       "      <th>2</th>\n",
       "      <td>Capital Federal</td>\n",
       "      <td>Palermo</td>\n",
       "      <td>2.0</td>\n",
       "      <td>1.0</td>\n",
       "      <td>1.0</td>\n",
       "      <td>45.0</td>\n",
       "      <td>45.0</td>\n",
       "      <td>125000.0</td>\n",
       "      <td>PH</td>\n",
       "      <td>1.0</td>\n",
       "      <td>...</td>\n",
       "      <td>-0.002162</td>\n",
       "      <td>0.007877</td>\n",
       "      <td>0.002887</td>\n",
       "      <td>0.000757</td>\n",
       "      <td>0.000819</td>\n",
       "      <td>-0.000738</td>\n",
       "      <td>-0.002175</td>\n",
       "      <td>0.001795</td>\n",
       "      <td>0.001181</td>\n",
       "      <td>0.000117</td>\n",
       "    </tr>\n",
       "    <tr>\n",
       "      <th>3</th>\n",
       "      <td>Capital Federal</td>\n",
       "      <td>Palermo</td>\n",
       "      <td>2.0</td>\n",
       "      <td>1.0</td>\n",
       "      <td>1.0</td>\n",
       "      <td>85.0</td>\n",
       "      <td>50.0</td>\n",
       "      <td>295000.0</td>\n",
       "      <td>PH</td>\n",
       "      <td>1.0</td>\n",
       "      <td>...</td>\n",
       "      <td>-0.002162</td>\n",
       "      <td>0.007877</td>\n",
       "      <td>0.002887</td>\n",
       "      <td>0.000757</td>\n",
       "      <td>0.000819</td>\n",
       "      <td>-0.000738</td>\n",
       "      <td>-0.002175</td>\n",
       "      <td>0.001795</td>\n",
       "      <td>0.001181</td>\n",
       "      <td>0.000117</td>\n",
       "    </tr>\n",
       "    <tr>\n",
       "      <th>4</th>\n",
       "      <td>Bs.As. G.B.A. Zona Sur</td>\n",
       "      <td>La Plata</td>\n",
       "      <td>2.0</td>\n",
       "      <td>1.0</td>\n",
       "      <td>1.0</td>\n",
       "      <td>50.0</td>\n",
       "      <td>35.0</td>\n",
       "      <td>40000.0</td>\n",
       "      <td>PH</td>\n",
       "      <td>1.0</td>\n",
       "      <td>...</td>\n",
       "      <td>-0.014293</td>\n",
       "      <td>0.046946</td>\n",
       "      <td>0.015529</td>\n",
       "      <td>0.003876</td>\n",
       "      <td>0.004126</td>\n",
       "      <td>-0.003710</td>\n",
       "      <td>-0.010634</td>\n",
       "      <td>0.008529</td>\n",
       "      <td>0.005509</td>\n",
       "      <td>0.000546</td>\n",
       "    </tr>\n",
       "    <tr>\n",
       "      <th>5</th>\n",
       "      <td>Capital Federal</td>\n",
       "      <td>Villa Crespo</td>\n",
       "      <td>2.0</td>\n",
       "      <td>1.0</td>\n",
       "      <td>1.0</td>\n",
       "      <td>56.0</td>\n",
       "      <td>56.0</td>\n",
       "      <td>150000.0</td>\n",
       "      <td>PH</td>\n",
       "      <td>1.0</td>\n",
       "      <td>...</td>\n",
       "      <td>-0.005684</td>\n",
       "      <td>0.020084</td>\n",
       "      <td>0.007119</td>\n",
       "      <td>0.001835</td>\n",
       "      <td>0.001974</td>\n",
       "      <td>-0.001778</td>\n",
       "      <td>-0.005191</td>\n",
       "      <td>0.004238</td>\n",
       "      <td>0.002772</td>\n",
       "      <td>0.000273</td>\n",
       "    </tr>\n",
       "  </tbody>\n",
       "</table>\n",
       "<p>5 rows × 35 columns</p>\n",
       "</div>"
      ],
      "text/plain": [
       "                       l2            l3  rooms  bedrooms  bathrooms  \\\n",
       "1         Capital Federal         Boedo    2.0       1.0        2.0   \n",
       "2         Capital Federal       Palermo    2.0       1.0        1.0   \n",
       "3         Capital Federal       Palermo    2.0       1.0        1.0   \n",
       "4  Bs.As. G.B.A. Zona Sur      La Plata    2.0       1.0        1.0   \n",
       "5         Capital Federal  Villa Crespo    2.0       1.0        1.0   \n",
       "\n",
       "   surface_total  surface_covered     price property_type  _rooms  ...  \\\n",
       "1           70.0             58.0  159000.0            PH     1.0  ...   \n",
       "2           45.0             45.0  125000.0            PH     1.0  ...   \n",
       "3           85.0             50.0  295000.0            PH     1.0  ...   \n",
       "4           50.0             35.0   40000.0            PH     1.0  ...   \n",
       "5           56.0             56.0  150000.0            PH     1.0  ...   \n",
       "\n",
       "         15        16        17        18        19        20        21  \\\n",
       "1  0.019089 -0.046341 -0.022847  0.010408 -0.027693  0.010672 -0.001647   \n",
       "2 -0.002162  0.007877  0.002887  0.000757  0.000819 -0.000738 -0.002175   \n",
       "3 -0.002162  0.007877  0.002887  0.000757  0.000819 -0.000738 -0.002175   \n",
       "4 -0.014293  0.046946  0.015529  0.003876  0.004126 -0.003710 -0.010634   \n",
       "5 -0.005684  0.020084  0.007119  0.001835  0.001974 -0.001778 -0.005191   \n",
       "\n",
       "         22        23        24  \n",
       "1 -0.039302 -0.056498  0.020405  \n",
       "2  0.001795  0.001181  0.000117  \n",
       "3  0.001795  0.001181  0.000117  \n",
       "4  0.008529  0.005509  0.000546  \n",
       "5  0.004238  0.002772  0.000273  \n",
       "\n",
       "[5 rows x 35 columns]"
      ]
     },
     "execution_count": 41,
     "metadata": {},
     "output_type": "execute_result"
    }
   ],
   "source": [
    "ds4.head()"
   ]
  },
  {
   "cell_type": "code",
   "execution_count": 42,
   "metadata": {},
   "outputs": [
    {
     "data": {
      "text/html": [
       "<div>\n",
       "<style scoped>\n",
       "    .dataframe tbody tr th:only-of-type {\n",
       "        vertical-align: middle;\n",
       "    }\n",
       "\n",
       "    .dataframe tbody tr th {\n",
       "        vertical-align: top;\n",
       "    }\n",
       "\n",
       "    .dataframe thead th {\n",
       "        text-align: right;\n",
       "    }\n",
       "</style>\n",
       "<table border=\"1\" class=\"dataframe\">\n",
       "  <thead>\n",
       "    <tr style=\"text-align: right;\">\n",
       "      <th></th>\n",
       "      <th>rooms</th>\n",
       "      <th>bedrooms</th>\n",
       "      <th>bathrooms</th>\n",
       "      <th>surface_total</th>\n",
       "      <th>surface_covered</th>\n",
       "      <th>price</th>\n",
       "      <th>_rooms</th>\n",
       "      <th>0</th>\n",
       "      <th>1</th>\n",
       "      <th>2</th>\n",
       "      <th>...</th>\n",
       "      <th>17</th>\n",
       "      <th>18</th>\n",
       "      <th>19</th>\n",
       "      <th>20</th>\n",
       "      <th>21</th>\n",
       "      <th>22</th>\n",
       "      <th>23</th>\n",
       "      <th>24</th>\n",
       "      <th>Departamento</th>\n",
       "      <th>PH</th>\n",
       "    </tr>\n",
       "  </thead>\n",
       "  <tbody>\n",
       "    <tr>\n",
       "      <th>1</th>\n",
       "      <td>2.0</td>\n",
       "      <td>1.0</td>\n",
       "      <td>2.0</td>\n",
       "      <td>70.0</td>\n",
       "      <td>58.0</td>\n",
       "      <td>159000.0</td>\n",
       "      <td>1.0</td>\n",
       "      <td>-0.065357</td>\n",
       "      <td>-0.044255</td>\n",
       "      <td>-0.033373</td>\n",
       "      <td>...</td>\n",
       "      <td>-0.022847</td>\n",
       "      <td>0.010408</td>\n",
       "      <td>-0.027693</td>\n",
       "      <td>0.010672</td>\n",
       "      <td>-0.001647</td>\n",
       "      <td>-0.039302</td>\n",
       "      <td>-0.056498</td>\n",
       "      <td>0.020405</td>\n",
       "      <td>0</td>\n",
       "      <td>1</td>\n",
       "    </tr>\n",
       "    <tr>\n",
       "      <th>2</th>\n",
       "      <td>2.0</td>\n",
       "      <td>1.0</td>\n",
       "      <td>1.0</td>\n",
       "      <td>45.0</td>\n",
       "      <td>45.0</td>\n",
       "      <td>125000.0</td>\n",
       "      <td>1.0</td>\n",
       "      <td>0.907441</td>\n",
       "      <td>0.081461</td>\n",
       "      <td>0.036813</td>\n",
       "      <td>...</td>\n",
       "      <td>0.002887</td>\n",
       "      <td>0.000757</td>\n",
       "      <td>0.000819</td>\n",
       "      <td>-0.000738</td>\n",
       "      <td>-0.002175</td>\n",
       "      <td>0.001795</td>\n",
       "      <td>0.001181</td>\n",
       "      <td>0.000117</td>\n",
       "      <td>0</td>\n",
       "      <td>1</td>\n",
       "    </tr>\n",
       "    <tr>\n",
       "      <th>3</th>\n",
       "      <td>2.0</td>\n",
       "      <td>1.0</td>\n",
       "      <td>1.0</td>\n",
       "      <td>85.0</td>\n",
       "      <td>50.0</td>\n",
       "      <td>295000.0</td>\n",
       "      <td>1.0</td>\n",
       "      <td>0.907441</td>\n",
       "      <td>0.081461</td>\n",
       "      <td>0.036813</td>\n",
       "      <td>...</td>\n",
       "      <td>0.002887</td>\n",
       "      <td>0.000757</td>\n",
       "      <td>0.000819</td>\n",
       "      <td>-0.000738</td>\n",
       "      <td>-0.002175</td>\n",
       "      <td>0.001795</td>\n",
       "      <td>0.001181</td>\n",
       "      <td>0.000117</td>\n",
       "      <td>0</td>\n",
       "      <td>1</td>\n",
       "    </tr>\n",
       "    <tr>\n",
       "      <th>4</th>\n",
       "      <td>2.0</td>\n",
       "      <td>1.0</td>\n",
       "      <td>1.0</td>\n",
       "      <td>50.0</td>\n",
       "      <td>35.0</td>\n",
       "      <td>40000.0</td>\n",
       "      <td>1.0</td>\n",
       "      <td>-0.089832</td>\n",
       "      <td>-0.072863</td>\n",
       "      <td>-0.065017</td>\n",
       "      <td>...</td>\n",
       "      <td>0.015529</td>\n",
       "      <td>0.003876</td>\n",
       "      <td>0.004126</td>\n",
       "      <td>-0.003710</td>\n",
       "      <td>-0.010634</td>\n",
       "      <td>0.008529</td>\n",
       "      <td>0.005509</td>\n",
       "      <td>0.000546</td>\n",
       "      <td>0</td>\n",
       "      <td>1</td>\n",
       "    </tr>\n",
       "    <tr>\n",
       "      <th>5</th>\n",
       "      <td>2.0</td>\n",
       "      <td>1.0</td>\n",
       "      <td>1.0</td>\n",
       "      <td>56.0</td>\n",
       "      <td>56.0</td>\n",
       "      <td>150000.0</td>\n",
       "      <td>1.0</td>\n",
       "      <td>-0.127674</td>\n",
       "      <td>-0.148980</td>\n",
       "      <td>-0.255971</td>\n",
       "      <td>...</td>\n",
       "      <td>0.007119</td>\n",
       "      <td>0.001835</td>\n",
       "      <td>0.001974</td>\n",
       "      <td>-0.001778</td>\n",
       "      <td>-0.005191</td>\n",
       "      <td>0.004238</td>\n",
       "      <td>0.002772</td>\n",
       "      <td>0.000273</td>\n",
       "      <td>0</td>\n",
       "      <td>1</td>\n",
       "    </tr>\n",
       "  </tbody>\n",
       "</table>\n",
       "<p>5 rows × 34 columns</p>\n",
       "</div>"
      ],
      "text/plain": [
       "   rooms  bedrooms  bathrooms  surface_total  surface_covered     price  \\\n",
       "1    2.0       1.0        2.0           70.0             58.0  159000.0   \n",
       "2    2.0       1.0        1.0           45.0             45.0  125000.0   \n",
       "3    2.0       1.0        1.0           85.0             50.0  295000.0   \n",
       "4    2.0       1.0        1.0           50.0             35.0   40000.0   \n",
       "5    2.0       1.0        1.0           56.0             56.0  150000.0   \n",
       "\n",
       "   _rooms         0         1         2  ...        17        18        19  \\\n",
       "1     1.0 -0.065357 -0.044255 -0.033373  ... -0.022847  0.010408 -0.027693   \n",
       "2     1.0  0.907441  0.081461  0.036813  ...  0.002887  0.000757  0.000819   \n",
       "3     1.0  0.907441  0.081461  0.036813  ...  0.002887  0.000757  0.000819   \n",
       "4     1.0 -0.089832 -0.072863 -0.065017  ...  0.015529  0.003876  0.004126   \n",
       "5     1.0 -0.127674 -0.148980 -0.255971  ...  0.007119  0.001835  0.001974   \n",
       "\n",
       "         20        21        22        23        24  Departamento  PH  \n",
       "1  0.010672 -0.001647 -0.039302 -0.056498  0.020405             0   1  \n",
       "2 -0.000738 -0.002175  0.001795  0.001181  0.000117             0   1  \n",
       "3 -0.000738 -0.002175  0.001795  0.001181  0.000117             0   1  \n",
       "4 -0.003710 -0.010634  0.008529  0.005509  0.000546             0   1  \n",
       "5 -0.001778 -0.005191  0.004238  0.002772  0.000273             0   1  \n",
       "\n",
       "[5 rows x 34 columns]"
      ]
     },
     "execution_count": 42,
     "metadata": {},
     "output_type": "execute_result"
    }
   ],
   "source": [
    "ds4.drop(\"l2\", axis = 1, inplace = True)\n",
    "ds4.drop(\"l3\", axis = 1, inplace = True)\n",
    "ds4.drop(\"property_type\", axis = 1, inplace = True)\n",
    "ds4 = pd.concat([ds4, enc_property_type], axis=1)\n",
    "ds4.head()"
   ]
  },
  {
   "cell_type": "markdown",
   "metadata": {},
   "source": [
    "#### Separacion de los datos"
   ]
  },
  {
   "cell_type": "code",
   "execution_count": 43,
   "metadata": {},
   "outputs": [],
   "source": [
    "X=ds4.drop((\"price\"), axis=1)\n",
    "y=ds4.price\n",
    "\n",
    "X_Train, X_Test, y_train, y_test = train_test_split(X,y,test_size=0.33, random_state=42)"
   ]
  },
  {
   "cell_type": "markdown",
   "metadata": {},
   "source": [
    "#### Escalado de los datos"
   ]
  },
  {
   "cell_type": "code",
   "execution_count": 44,
   "metadata": {},
   "outputs": [],
   "source": [
    "#Separamos aquellos datos no numericos.\n",
    "train_features = X_Train.loc[:,[ \"bedrooms\", \"bathrooms\", \"surface_total\", \"surface_covered\",\"rooms\"]]\n",
    "test_features = X_Test.loc[:,[\"bedrooms\", \"bathrooms\", \"surface_total\", \"surface_covered\",\"rooms\"]]"
   ]
  },
  {
   "cell_type": "code",
   "execution_count": 45,
   "metadata": {},
   "outputs": [],
   "source": [
    "Scaler = MinMaxScaler()"
   ]
  },
  {
   "cell_type": "code",
   "execution_count": 46,
   "metadata": {},
   "outputs": [],
   "source": [
    "train_features_scaled = Scaler.fit_transform(train_features)\n",
    "test_features_scaled = Scaler.transform(test_features)"
   ]
  },
  {
   "cell_type": "code",
   "execution_count": 47,
   "metadata": {},
   "outputs": [
    {
     "name": "stderr",
     "output_type": "stream",
     "text": [
      "C:\\Users\\Usuario\\anaconda3\\lib\\site-packages\\pandas\\core\\indexing.py:1736: SettingWithCopyWarning: \n",
      "A value is trying to be set on a copy of a slice from a DataFrame.\n",
      "Try using .loc[row_indexer,col_indexer] = value instead\n",
      "\n",
      "See the caveats in the documentation: https://pandas.pydata.org/pandas-docs/stable/user_guide/indexing.html#returning-a-view-versus-a-copy\n",
      "  isetter(loc, value[:, i].tolist())\n"
     ]
    }
   ],
   "source": [
    "X_Train.loc[:,train_features.columns] = train_features_scaled\n",
    "X_Test.loc[:,test_features.columns] = test_features_scaled"
   ]
  },
  {
   "cell_type": "code",
   "execution_count": 48,
   "metadata": {},
   "outputs": [
    {
     "data": {
      "text/html": [
       "<div>\n",
       "<style scoped>\n",
       "    .dataframe tbody tr th:only-of-type {\n",
       "        vertical-align: middle;\n",
       "    }\n",
       "\n",
       "    .dataframe tbody tr th {\n",
       "        vertical-align: top;\n",
       "    }\n",
       "\n",
       "    .dataframe thead th {\n",
       "        text-align: right;\n",
       "    }\n",
       "</style>\n",
       "<table border=\"1\" class=\"dataframe\">\n",
       "  <thead>\n",
       "    <tr style=\"text-align: right;\">\n",
       "      <th></th>\n",
       "      <th>rooms</th>\n",
       "      <th>bedrooms</th>\n",
       "      <th>bathrooms</th>\n",
       "      <th>surface_total</th>\n",
       "      <th>surface_covered</th>\n",
       "      <th>_rooms</th>\n",
       "      <th>0</th>\n",
       "      <th>1</th>\n",
       "      <th>2</th>\n",
       "      <th>3</th>\n",
       "      <th>...</th>\n",
       "      <th>17</th>\n",
       "      <th>18</th>\n",
       "      <th>19</th>\n",
       "      <th>20</th>\n",
       "      <th>21</th>\n",
       "      <th>22</th>\n",
       "      <th>23</th>\n",
       "      <th>24</th>\n",
       "      <th>Departamento</th>\n",
       "      <th>PH</th>\n",
       "    </tr>\n",
       "  </thead>\n",
       "  <tbody>\n",
       "    <tr>\n",
       "      <th>131535</th>\n",
       "      <td>0.088235</td>\n",
       "      <td>0.200000</td>\n",
       "      <td>0.000000</td>\n",
       "      <td>0.012059</td>\n",
       "      <td>0.000785</td>\n",
       "      <td>1.0</td>\n",
       "      <td>-0.066206</td>\n",
       "      <td>-0.045090</td>\n",
       "      <td>-0.034276</td>\n",
       "      <td>-0.005896</td>\n",
       "      <td>...</td>\n",
       "      <td>-0.025878</td>\n",
       "      <td>0.007176</td>\n",
       "      <td>-0.006285</td>\n",
       "      <td>0.003685</td>\n",
       "      <td>0.039931</td>\n",
       "      <td>-0.019657</td>\n",
       "      <td>-0.057086</td>\n",
       "      <td>0.038746</td>\n",
       "      <td>0</td>\n",
       "      <td>0</td>\n",
       "    </tr>\n",
       "    <tr>\n",
       "      <th>3163</th>\n",
       "      <td>0.088235</td>\n",
       "      <td>0.200000</td>\n",
       "      <td>0.083333</td>\n",
       "      <td>0.001253</td>\n",
       "      <td>0.001237</td>\n",
       "      <td>1.0</td>\n",
       "      <td>-0.125679</td>\n",
       "      <td>-0.143338</td>\n",
       "      <td>-0.230470</td>\n",
       "      <td>-0.617850</td>\n",
       "      <td>...</td>\n",
       "      <td>0.007266</td>\n",
       "      <td>0.001871</td>\n",
       "      <td>0.002014</td>\n",
       "      <td>-0.001814</td>\n",
       "      <td>-0.005294</td>\n",
       "      <td>0.004320</td>\n",
       "      <td>0.002824</td>\n",
       "      <td>0.000278</td>\n",
       "      <td>1</td>\n",
       "      <td>0</td>\n",
       "    </tr>\n",
       "    <tr>\n",
       "      <th>18247</th>\n",
       "      <td>0.058824</td>\n",
       "      <td>0.133333</td>\n",
       "      <td>0.000000</td>\n",
       "      <td>0.000460</td>\n",
       "      <td>0.000468</td>\n",
       "      <td>1.0</td>\n",
       "      <td>-0.066775</td>\n",
       "      <td>-0.045681</td>\n",
       "      <td>-0.034790</td>\n",
       "      <td>-0.006063</td>\n",
       "      <td>...</td>\n",
       "      <td>-0.057294</td>\n",
       "      <td>-0.029839</td>\n",
       "      <td>-0.013859</td>\n",
       "      <td>0.019993</td>\n",
       "      <td>0.052053</td>\n",
       "      <td>-0.044851</td>\n",
       "      <td>-0.014691</td>\n",
       "      <td>-0.036398</td>\n",
       "      <td>1</td>\n",
       "      <td>0</td>\n",
       "    </tr>\n",
       "    <tr>\n",
       "      <th>92053</th>\n",
       "      <td>0.058824</td>\n",
       "      <td>0.133333</td>\n",
       "      <td>0.000000</td>\n",
       "      <td>0.000397</td>\n",
       "      <td>0.000468</td>\n",
       "      <td>1.0</td>\n",
       "      <td>-0.072052</td>\n",
       "      <td>-0.051119</td>\n",
       "      <td>-0.040105</td>\n",
       "      <td>-0.007153</td>\n",
       "      <td>...</td>\n",
       "      <td>0.869727</td>\n",
       "      <td>0.055935</td>\n",
       "      <td>0.044789</td>\n",
       "      <td>-0.037774</td>\n",
       "      <td>-0.081604</td>\n",
       "      <td>0.055868</td>\n",
       "      <td>0.032554</td>\n",
       "      <td>0.003757</td>\n",
       "      <td>1</td>\n",
       "      <td>0</td>\n",
       "    </tr>\n",
       "    <tr>\n",
       "      <th>14130</th>\n",
       "      <td>0.088235</td>\n",
       "      <td>0.200000</td>\n",
       "      <td>0.000000</td>\n",
       "      <td>0.000682</td>\n",
       "      <td>0.000666</td>\n",
       "      <td>1.0</td>\n",
       "      <td>-0.127674</td>\n",
       "      <td>-0.148980</td>\n",
       "      <td>-0.255971</td>\n",
       "      <td>0.777407</td>\n",
       "      <td>...</td>\n",
       "      <td>0.007119</td>\n",
       "      <td>0.001835</td>\n",
       "      <td>0.001974</td>\n",
       "      <td>-0.001778</td>\n",
       "      <td>-0.005191</td>\n",
       "      <td>0.004238</td>\n",
       "      <td>0.002772</td>\n",
       "      <td>0.000273</td>\n",
       "      <td>1</td>\n",
       "      <td>0</td>\n",
       "    </tr>\n",
       "  </tbody>\n",
       "</table>\n",
       "<p>5 rows × 33 columns</p>\n",
       "</div>"
      ],
      "text/plain": [
       "           rooms  bedrooms  bathrooms  surface_total  surface_covered  _rooms  \\\n",
       "131535  0.088235  0.200000   0.000000       0.012059         0.000785     1.0   \n",
       "3163    0.088235  0.200000   0.083333       0.001253         0.001237     1.0   \n",
       "18247   0.058824  0.133333   0.000000       0.000460         0.000468     1.0   \n",
       "92053   0.058824  0.133333   0.000000       0.000397         0.000468     1.0   \n",
       "14130   0.088235  0.200000   0.000000       0.000682         0.000666     1.0   \n",
       "\n",
       "               0         1         2         3  ...        17        18  \\\n",
       "131535 -0.066206 -0.045090 -0.034276 -0.005896  ... -0.025878  0.007176   \n",
       "3163   -0.125679 -0.143338 -0.230470 -0.617850  ...  0.007266  0.001871   \n",
       "18247  -0.066775 -0.045681 -0.034790 -0.006063  ... -0.057294 -0.029839   \n",
       "92053  -0.072052 -0.051119 -0.040105 -0.007153  ...  0.869727  0.055935   \n",
       "14130  -0.127674 -0.148980 -0.255971  0.777407  ...  0.007119  0.001835   \n",
       "\n",
       "              19        20        21        22        23        24  \\\n",
       "131535 -0.006285  0.003685  0.039931 -0.019657 -0.057086  0.038746   \n",
       "3163    0.002014 -0.001814 -0.005294  0.004320  0.002824  0.000278   \n",
       "18247  -0.013859  0.019993  0.052053 -0.044851 -0.014691 -0.036398   \n",
       "92053   0.044789 -0.037774 -0.081604  0.055868  0.032554  0.003757   \n",
       "14130   0.001974 -0.001778 -0.005191  0.004238  0.002772  0.000273   \n",
       "\n",
       "        Departamento  PH  \n",
       "131535             0   0  \n",
       "3163               1   0  \n",
       "18247              1   0  \n",
       "92053              1   0  \n",
       "14130              1   0  \n",
       "\n",
       "[5 rows x 33 columns]"
      ]
     },
     "execution_count": 48,
     "metadata": {},
     "output_type": "execute_result"
    }
   ],
   "source": [
    "X_Train.head()"
   ]
  },
  {
   "cell_type": "markdown",
   "metadata": {},
   "source": [
    "#### Reduccion de dimensionalidad"
   ]
  },
  {
   "cell_type": "code",
   "execution_count": 49,
   "metadata": {},
   "outputs": [],
   "source": [
    "pca=PCA(n_components = 3)\n",
    "x_train_pca = pca.fit_transform(X_Train.loc[:,[\"rooms\",\"bathrooms\", \"bedrooms\"]])\n",
    "x_test_pca = pca.fit_transform(X_Test.loc[:,[\"rooms\",\"bathrooms\", \"bedrooms\"]])\n",
    "x_train_pca = pd.DataFrame(x_train_pca)\n",
    "x_test_pca=  pd.DataFrame(x_test_pca)"
   ]
  },
  {
   "cell_type": "code",
   "execution_count": 50,
   "metadata": {},
   "outputs": [],
   "source": [
    "x_train_pca.index=X_Train.index\n",
    "x_test_pca.index=X_Test.index"
   ]
  },
  {
   "cell_type": "code",
   "execution_count": 51,
   "metadata": {},
   "outputs": [
    {
     "data": {
      "text/plain": [
       "array([0.80972099, 0.17645762, 0.01382139])"
      ]
     },
     "execution_count": 51,
     "metadata": {},
     "output_type": "execute_result"
    }
   ],
   "source": [
    "pca.explained_variance_ratio_"
   ]
  },
  {
   "cell_type": "code",
   "execution_count": 52,
   "metadata": {},
   "outputs": [
    {
     "data": {
      "image/png": "[encoded data removed]",
      "text/plain": [
       "<Figure size 432x288 with 1 Axes>"
      ]
     },
     "metadata": {
      "needs_background": "light"
     },
     "output_type": "display_data"
    }
   ],
   "source": [
    "plt.plot(np.cumsum(pca.explained_variance_ratio_))\n",
    "plt.xlabel('number of components')\n",
    "plt.ylabel('cumulative explained variance')\n",
    "plt.show()"
   ]
  },
  {
   "cell_type": "code",
   "execution_count": 53,
   "metadata": {},
   "outputs": [
    {
     "data": {
      "text/plain": [
       "<matplotlib.legend.Legend at 0x24323276340>"
      ]
     },
     "execution_count": 53,
     "metadata": {},
     "output_type": "execute_result"
    },
    {
     "data": {
      "image/png": "[encoded data removed]",
      "text/plain": [
       "<Figure size 432x288 with 1 Axes>"
      ]
     },
     "metadata": {
      "needs_background": "light"
     },
     "output_type": "display_data"
    }
   ],
   "source": [
    "plt.bar(range(1,len(pca.explained_variance_ )+1),pca.explained_variance_ )\n",
    "plt.ylabel('Explained Variance')\n",
    "plt.xlabel('Components')\n",
    "plt.plot(range(1,len(pca.explained_variance_ )+1),\n",
    "         np.cumsum(pca.explained_variance_),\n",
    "         c='red',\n",
    "         label=\"Cumulative Explained Variance\")\n",
    "plt.legend(loc='upper left')"
   ]
  },
  {
   "cell_type": "markdown",
   "metadata": {},
   "source": [
    "Por medio del grafico vemos que es conveniente reducir la cantidad de features a 2. Con dos componentes estamos explicando el 99% de la varianza de los datos."
   ]
  },
  {
   "cell_type": "code",
   "execution_count": 54,
   "metadata": {},
   "outputs": [],
   "source": [
    "pca2 = PCA(n_components=2)\n",
    "x_train_pca2 = pca2.fit_transform(X_Train.loc[:,[\"rooms\",\"bathrooms\", \"bedrooms\"]])\n",
    "x_test_pca2 = pca2.fit_transform(X_Test.loc[:,[\"rooms\",\"bathrooms\", \"bedrooms\"]])"
   ]
  },
  {
   "cell_type": "code",
   "execution_count": 55,
   "metadata": {},
   "outputs": [
    {
     "data": {
      "text/plain": [
       "array([[ 0.01544835,  0.0790962 ],\n",
       "       [ 0.06879229,  0.01510196],\n",
       "       [-0.0403908 ,  0.03243738],\n",
       "       ...,\n",
       "       [-0.09622995, -0.01422144],\n",
       "       [ 0.06879229,  0.01510196],\n",
       "       [-0.0403908 ,  0.03243738]])"
      ]
     },
     "execution_count": 55,
     "metadata": {},
     "output_type": "execute_result"
    }
   ],
   "source": [
    "x_train_pca2"
   ]
  },
  {
   "cell_type": "code",
   "execution_count": 56,
   "metadata": {},
   "outputs": [],
   "source": [
    "x_train_pca2 = pd.DataFrame(x_train_pca2, columns=[\"a\",\"b\"])\n",
    "x_test_pca2 =  pd.DataFrame(x_test_pca2, columns=[\"a\",\"b\"])"
   ]
  },
  {
   "cell_type": "code",
   "execution_count": 57,
   "metadata": {},
   "outputs": [],
   "source": [
    "x_train_pca2.index=X_Train.index\n",
    "x_test_pca2.index=X_Test.index"
   ]
  },
  {
   "cell_type": "code",
   "execution_count": 58,
   "metadata": {},
   "outputs": [
    {
     "data": {
      "text/plain": [
       "array([0.80972099, 0.17645762])"
      ]
     },
     "execution_count": 58,
     "metadata": {},
     "output_type": "execute_result"
    }
   ],
   "source": [
    "pca2.explained_variance_ratio_"
   ]
  },
  {
   "cell_type": "code",
   "execution_count": 59,
   "metadata": {},
   "outputs": [],
   "source": [
    "X_Train = pd.concat([X_Train, x_train_pca2],axis=1)\n",
    "X_Train.drop([\"rooms\",\"bathrooms\", \"bedrooms\"],axis=1,inplace=True)\n",
    "\n",
    "X_Test = pd.concat([X_Test, x_test_pca2],axis=1)\n",
    "X_Test.drop([\"rooms\",\"bathrooms\", \"bedrooms\"],axis=1,inplace=True)"
   ]
  },
  {
   "cell_type": "code",
   "execution_count": 60,
   "metadata": {},
   "outputs": [
    {
     "data": {
      "text/html": [
       "<div>\n",
       "<style scoped>\n",
       "    .dataframe tbody tr th:only-of-type {\n",
       "        vertical-align: middle;\n",
       "    }\n",
       "\n",
       "    .dataframe tbody tr th {\n",
       "        vertical-align: top;\n",
       "    }\n",
       "\n",
       "    .dataframe thead th {\n",
       "        text-align: right;\n",
       "    }\n",
       "</style>\n",
       "<table border=\"1\" class=\"dataframe\">\n",
       "  <thead>\n",
       "    <tr style=\"text-align: right;\">\n",
       "      <th></th>\n",
       "      <th>surface_total</th>\n",
       "      <th>surface_covered</th>\n",
       "      <th>_rooms</th>\n",
       "      <th>0</th>\n",
       "      <th>1</th>\n",
       "      <th>2</th>\n",
       "      <th>3</th>\n",
       "      <th>4</th>\n",
       "      <th>5</th>\n",
       "      <th>6</th>\n",
       "      <th>...</th>\n",
       "      <th>19</th>\n",
       "      <th>20</th>\n",
       "      <th>21</th>\n",
       "      <th>22</th>\n",
       "      <th>23</th>\n",
       "      <th>24</th>\n",
       "      <th>Departamento</th>\n",
       "      <th>PH</th>\n",
       "      <th>a</th>\n",
       "      <th>b</th>\n",
       "    </tr>\n",
       "  </thead>\n",
       "  <tbody>\n",
       "    <tr>\n",
       "      <th>131535</th>\n",
       "      <td>0.012059</td>\n",
       "      <td>0.000785</td>\n",
       "      <td>1.0</td>\n",
       "      <td>-0.066206</td>\n",
       "      <td>-0.045090</td>\n",
       "      <td>-0.034276</td>\n",
       "      <td>-0.005896</td>\n",
       "      <td>0.017426</td>\n",
       "      <td>0.016284</td>\n",
       "      <td>-0.092206</td>\n",
       "      <td>...</td>\n",
       "      <td>-0.006285</td>\n",
       "      <td>0.003685</td>\n",
       "      <td>0.039931</td>\n",
       "      <td>-0.019657</td>\n",
       "      <td>-0.057086</td>\n",
       "      <td>0.038746</td>\n",
       "      <td>0</td>\n",
       "      <td>0</td>\n",
       "      <td>0.015448</td>\n",
       "      <td>0.079096</td>\n",
       "    </tr>\n",
       "    <tr>\n",
       "      <th>3163</th>\n",
       "      <td>0.001253</td>\n",
       "      <td>0.001237</td>\n",
       "      <td>1.0</td>\n",
       "      <td>-0.125679</td>\n",
       "      <td>-0.143338</td>\n",
       "      <td>-0.230470</td>\n",
       "      <td>-0.617850</td>\n",
       "      <td>-0.594504</td>\n",
       "      <td>-0.185529</td>\n",
       "      <td>0.274870</td>\n",
       "      <td>...</td>\n",
       "      <td>0.002014</td>\n",
       "      <td>-0.001814</td>\n",
       "      <td>-0.005294</td>\n",
       "      <td>0.004320</td>\n",
       "      <td>0.002824</td>\n",
       "      <td>0.000278</td>\n",
       "      <td>1</td>\n",
       "      <td>0</td>\n",
       "      <td>0.068792</td>\n",
       "      <td>0.015102</td>\n",
       "    </tr>\n",
       "    <tr>\n",
       "      <th>18247</th>\n",
       "      <td>0.000460</td>\n",
       "      <td>0.000468</td>\n",
       "      <td>1.0</td>\n",
       "      <td>-0.066775</td>\n",
       "      <td>-0.045681</td>\n",
       "      <td>-0.034790</td>\n",
       "      <td>-0.006063</td>\n",
       "      <td>0.017621</td>\n",
       "      <td>0.016671</td>\n",
       "      <td>-0.094118</td>\n",
       "      <td>...</td>\n",
       "      <td>-0.013859</td>\n",
       "      <td>0.019993</td>\n",
       "      <td>0.052053</td>\n",
       "      <td>-0.044851</td>\n",
       "      <td>-0.014691</td>\n",
       "      <td>-0.036398</td>\n",
       "      <td>1</td>\n",
       "      <td>0</td>\n",
       "      <td>-0.040391</td>\n",
       "      <td>0.032437</td>\n",
       "    </tr>\n",
       "    <tr>\n",
       "      <th>92053</th>\n",
       "      <td>0.000397</td>\n",
       "      <td>0.000468</td>\n",
       "      <td>1.0</td>\n",
       "      <td>-0.072052</td>\n",
       "      <td>-0.051119</td>\n",
       "      <td>-0.040105</td>\n",
       "      <td>-0.007153</td>\n",
       "      <td>0.021024</td>\n",
       "      <td>0.020071</td>\n",
       "      <td>-0.119216</td>\n",
       "      <td>...</td>\n",
       "      <td>0.044789</td>\n",
       "      <td>-0.037774</td>\n",
       "      <td>-0.081604</td>\n",
       "      <td>0.055868</td>\n",
       "      <td>0.032554</td>\n",
       "      <td>0.003757</td>\n",
       "      <td>1</td>\n",
       "      <td>0</td>\n",
       "      <td>-0.040391</td>\n",
       "      <td>0.032437</td>\n",
       "    </tr>\n",
       "    <tr>\n",
       "      <th>14130</th>\n",
       "      <td>0.000682</td>\n",
       "      <td>0.000666</td>\n",
       "      <td>1.0</td>\n",
       "      <td>-0.127674</td>\n",
       "      <td>-0.148980</td>\n",
       "      <td>-0.255971</td>\n",
       "      <td>0.777407</td>\n",
       "      <td>-0.368291</td>\n",
       "      <td>-0.152691</td>\n",
       "      <td>0.257036</td>\n",
       "      <td>...</td>\n",
       "      <td>0.001974</td>\n",
       "      <td>-0.001778</td>\n",
       "      <td>-0.005191</td>\n",
       "      <td>0.004238</td>\n",
       "      <td>0.002772</td>\n",
       "      <td>0.000273</td>\n",
       "      <td>1</td>\n",
       "      <td>0</td>\n",
       "      <td>0.015448</td>\n",
       "      <td>0.079096</td>\n",
       "    </tr>\n",
       "    <tr>\n",
       "      <th>...</th>\n",
       "      <td>...</td>\n",
       "      <td>...</td>\n",
       "      <td>...</td>\n",
       "      <td>...</td>\n",
       "      <td>...</td>\n",
       "      <td>...</td>\n",
       "      <td>...</td>\n",
       "      <td>...</td>\n",
       "      <td>...</td>\n",
       "      <td>...</td>\n",
       "      <td>...</td>\n",
       "      <td>...</td>\n",
       "      <td>...</td>\n",
       "      <td>...</td>\n",
       "      <td>...</td>\n",
       "      <td>...</td>\n",
       "      <td>...</td>\n",
       "      <td>...</td>\n",
       "      <td>...</td>\n",
       "      <td>...</td>\n",
       "      <td>...</td>\n",
       "    </tr>\n",
       "    <tr>\n",
       "      <th>92683</th>\n",
       "      <td>0.002301</td>\n",
       "      <td>0.000412</td>\n",
       "      <td>1.0</td>\n",
       "      <td>-0.064469</td>\n",
       "      <td>-0.043413</td>\n",
       "      <td>-0.032660</td>\n",
       "      <td>-0.005605</td>\n",
       "      <td>0.016446</td>\n",
       "      <td>0.015346</td>\n",
       "      <td>-0.085462</td>\n",
       "      <td>...</td>\n",
       "      <td>-0.009091</td>\n",
       "      <td>0.004835</td>\n",
       "      <td>0.021182</td>\n",
       "      <td>-0.032336</td>\n",
       "      <td>0.003719</td>\n",
       "      <td>-0.014389</td>\n",
       "      <td>0</td>\n",
       "      <td>0</td>\n",
       "      <td>-0.040391</td>\n",
       "      <td>0.032437</td>\n",
       "    </tr>\n",
       "    <tr>\n",
       "      <th>143445</th>\n",
       "      <td>0.000286</td>\n",
       "      <td>0.000357</td>\n",
       "      <td>1.0</td>\n",
       "      <td>-0.240819</td>\n",
       "      <td>0.901996</td>\n",
       "      <td>0.112474</td>\n",
       "      <td>0.011457</td>\n",
       "      <td>-0.030028</td>\n",
       "      <td>-0.024470</td>\n",
       "      <td>0.088001</td>\n",
       "      <td>...</td>\n",
       "      <td>0.001248</td>\n",
       "      <td>-0.001125</td>\n",
       "      <td>-0.003303</td>\n",
       "      <td>0.002715</td>\n",
       "      <td>0.001782</td>\n",
       "      <td>0.000176</td>\n",
       "      <td>1</td>\n",
       "      <td>0</td>\n",
       "      <td>-0.096230</td>\n",
       "      <td>-0.014221</td>\n",
       "    </tr>\n",
       "    <tr>\n",
       "      <th>136468</th>\n",
       "      <td>0.000262</td>\n",
       "      <td>0.000309</td>\n",
       "      <td>1.0</td>\n",
       "      <td>-0.081465</td>\n",
       "      <td>-0.061903</td>\n",
       "      <td>-0.051663</td>\n",
       "      <td>-0.009752</td>\n",
       "      <td>0.029231</td>\n",
       "      <td>0.028668</td>\n",
       "      <td>-0.194886</td>\n",
       "      <td>...</td>\n",
       "      <td>0.006627</td>\n",
       "      <td>-0.005953</td>\n",
       "      <td>-0.016738</td>\n",
       "      <td>0.013104</td>\n",
       "      <td>0.008388</td>\n",
       "      <td>0.000822</td>\n",
       "      <td>1</td>\n",
       "      <td>0</td>\n",
       "      <td>-0.096230</td>\n",
       "      <td>-0.014221</td>\n",
       "    </tr>\n",
       "    <tr>\n",
       "      <th>959</th>\n",
       "      <td>0.005363</td>\n",
       "      <td>0.005434</td>\n",
       "      <td>1.0</td>\n",
       "      <td>-0.068949</td>\n",
       "      <td>-0.047863</td>\n",
       "      <td>-0.036896</td>\n",
       "      <td>-0.006433</td>\n",
       "      <td>0.018995</td>\n",
       "      <td>0.017930</td>\n",
       "      <td>-0.103610</td>\n",
       "      <td>...</td>\n",
       "      <td>-0.039164</td>\n",
       "      <td>0.033893</td>\n",
       "      <td>0.165825</td>\n",
       "      <td>-0.217156</td>\n",
       "      <td>-0.379833</td>\n",
       "      <td>-0.687119</td>\n",
       "      <td>0</td>\n",
       "      <td>0</td>\n",
       "      <td>0.068792</td>\n",
       "      <td>0.015102</td>\n",
       "    </tr>\n",
       "    <tr>\n",
       "      <th>18940</th>\n",
       "      <td>0.000666</td>\n",
       "      <td>0.000571</td>\n",
       "      <td>1.0</td>\n",
       "      <td>-0.068370</td>\n",
       "      <td>-0.047278</td>\n",
       "      <td>-0.036318</td>\n",
       "      <td>-0.006373</td>\n",
       "      <td>0.018577</td>\n",
       "      <td>0.017597</td>\n",
       "      <td>-0.100977</td>\n",
       "      <td>...</td>\n",
       "      <td>-0.020883</td>\n",
       "      <td>0.032462</td>\n",
       "      <td>0.099729</td>\n",
       "      <td>-0.099318</td>\n",
       "      <td>-0.115585</td>\n",
       "      <td>-0.006549</td>\n",
       "      <td>0</td>\n",
       "      <td>1</td>\n",
       "      <td>-0.040391</td>\n",
       "      <td>0.032437</td>\n",
       "    </tr>\n",
       "  </tbody>\n",
       "</table>\n",
       "<p>75866 rows × 32 columns</p>\n",
       "</div>"
      ],
      "text/plain": [
       "        surface_total  surface_covered  _rooms         0         1         2  \\\n",
       "131535       0.012059         0.000785     1.0 -0.066206 -0.045090 -0.034276   \n",
       "3163         0.001253         0.001237     1.0 -0.125679 -0.143338 -0.230470   \n",
       "18247        0.000460         0.000468     1.0 -0.066775 -0.045681 -0.034790   \n",
       "92053        0.000397         0.000468     1.0 -0.072052 -0.051119 -0.040105   \n",
       "14130        0.000682         0.000666     1.0 -0.127674 -0.148980 -0.255971   \n",
       "...               ...              ...     ...       ...       ...       ...   \n",
       "92683        0.002301         0.000412     1.0 -0.064469 -0.043413 -0.032660   \n",
       "143445       0.000286         0.000357     1.0 -0.240819  0.901996  0.112474   \n",
       "136468       0.000262         0.000309     1.0 -0.081465 -0.061903 -0.051663   \n",
       "959          0.005363         0.005434     1.0 -0.068949 -0.047863 -0.036896   \n",
       "18940        0.000666         0.000571     1.0 -0.068370 -0.047278 -0.036318   \n",
       "\n",
       "               3         4         5         6  ...        19        20  \\\n",
       "131535 -0.005896  0.017426  0.016284 -0.092206  ... -0.006285  0.003685   \n",
       "3163   -0.617850 -0.594504 -0.185529  0.274870  ...  0.002014 -0.001814   \n",
       "18247  -0.006063  0.017621  0.016671 -0.094118  ... -0.013859  0.019993   \n",
       "92053  -0.007153  0.021024  0.020071 -0.119216  ...  0.044789 -0.037774   \n",
       "14130   0.777407 -0.368291 -0.152691  0.257036  ...  0.001974 -0.001778   \n",
       "...          ...       ...       ...       ...  ...       ...       ...   \n",
       "92683  -0.005605  0.016446  0.015346 -0.085462  ... -0.009091  0.004835   \n",
       "143445  0.011457 -0.030028 -0.024470  0.088001  ...  0.001248 -0.001125   \n",
       "136468 -0.009752  0.029231  0.028668 -0.194886  ...  0.006627 -0.005953   \n",
       "959    -0.006433  0.018995  0.017930 -0.103610  ... -0.039164  0.033893   \n",
       "18940  -0.006373  0.018577  0.017597 -0.100977  ... -0.020883  0.032462   \n",
       "\n",
       "              21        22        23        24  Departamento  PH         a  \\\n",
       "131535  0.039931 -0.019657 -0.057086  0.038746             0   0  0.015448   \n",
       "3163   -0.005294  0.004320  0.002824  0.000278             1   0  0.068792   \n",
       "18247   0.052053 -0.044851 -0.014691 -0.036398             1   0 -0.040391   \n",
       "92053  -0.081604  0.055868  0.032554  0.003757             1   0 -0.040391   \n",
       "14130  -0.005191  0.004238  0.002772  0.000273             1   0  0.015448   \n",
       "...          ...       ...       ...       ...           ...  ..       ...   \n",
       "92683   0.021182 -0.032336  0.003719 -0.014389             0   0 -0.040391   \n",
       "143445 -0.003303  0.002715  0.001782  0.000176             1   0 -0.096230   \n",
       "136468 -0.016738  0.013104  0.008388  0.000822             1   0 -0.096230   \n",
       "959     0.165825 -0.217156 -0.379833 -0.687119             0   0  0.068792   \n",
       "18940   0.099729 -0.099318 -0.115585 -0.006549             0   1 -0.040391   \n",
       "\n",
       "               b  \n",
       "131535  0.079096  \n",
       "3163    0.015102  \n",
       "18247   0.032437  \n",
       "92053   0.032437  \n",
       "14130   0.079096  \n",
       "...          ...  \n",
       "92683   0.032437  \n",
       "143445 -0.014221  \n",
       "136468 -0.014221  \n",
       "959     0.015102  \n",
       "18940   0.032437  \n",
       "\n",
       "[75866 rows x 32 columns]"
      ]
     },
     "execution_count": 60,
     "metadata": {},
     "output_type": "execute_result"
    }
   ],
   "source": [
    "X_Train"
   ]
  },
  {
   "cell_type": "markdown",
   "metadata": {},
   "source": [
    "#### Benchmark, comparacion con modelo anterior"
   ]
  },
  {
   "cell_type": "markdown",
   "metadata": {},
   "source": [
    "Proyecto 1:\n",
    "* Err Train: 131342.04481899692\n",
    "* Err Test: 167547.23542405185"
   ]
  },
  {
   "cell_type": "markdown",
   "metadata": {},
   "source": [
    "#### Ahora vamos a ver que error obtenemos luego de procesar los datos de otra manera"
   ]
  },
  {
   "cell_type": "code",
   "execution_count": 61,
   "metadata": {},
   "outputs": [],
   "source": [
    "d_tree= DecisionTreeRegressor(max_depth = 10, random_state = 42)\n",
    "d_tree.fit(X_Train,y_train)\n",
    "train_predict=d_tree.predict(X_Train)\n",
    "test_predict=d_tree.predict(X_Test)"
   ]
  },
  {
   "cell_type": "code",
   "execution_count": 62,
   "metadata": {},
   "outputs": [],
   "source": [
    "def decision_tree(title, depths, X_train, X_test, Y_train, Y_test):\n",
    "        #Define error list\n",
    "        err_train = []\n",
    "        err_test = []\n",
    "        for depth in depths:\n",
    "            \n",
    "            #Define DesitionTreeRegresson and fit it\n",
    "            a = DecisionTreeRegressor(max_depth = depth, random_state = 42)\n",
    "            a.fit(X_train, Y_train)\n",
    "            \n",
    "            #try\n",
    "            Y_train_pred = a.predict(X_train)\n",
    "            train_err = np.sqrt(mean_squared_error(Y_train, Y_train_pred))\n",
    "            \n",
    "            Y_test_pred = a.predict(X_test)\n",
    "            test_err = np.sqrt(mean_squared_error(Y_test, Y_test_pred))\n",
    "\n",
    "            #save the error\n",
    "            err_train.append(train_err)\n",
    "            err_test.append(test_err)\n",
    "         \n",
    "        plt.plot(depths, err_train,'o-',label='train' )\n",
    "        plt.plot(depths, err_test, 'o-',label='test')\n",
    "        plt.legend()\n",
    "        plt.title(title)\n",
    "        plt.xlabel('depths')\n",
    "        plt.ylabel('error')"
   ]
  },
  {
   "cell_type": "code",
   "execution_count": 63,
   "metadata": {},
   "outputs": [
    {
     "data": {
      "image/png": "[encoded data removed]",
      "text/plain": [
       "<Figure size 432x288 with 1 Axes>"
      ]
     },
     "metadata": {
      "needs_background": "light"
     },
     "output_type": "display_data"
    }
   ],
   "source": [
    "depths = [1, 2, 3, 4, 5, 6, 7, 8, 9, 10, 15, 20]\n",
    "decision_tree('Decision Tree PH', depths, X_Train, X_Test, y_train, y_test)"
   ]
  },
  {
   "cell_type": "code",
   "execution_count": 64,
   "metadata": {},
   "outputs": [
    {
     "name": "stdout",
     "output_type": "stream",
     "text": [
      "El error del train prop es 106354.31869892083\n",
      "El error del test prop es 118632.17912726122\n"
     ]
    }
   ],
   "source": [
    "train_rmse2= np.sqrt(mean_squared_error(train_predict, y_train))\n",
    "test_rmse2= np.sqrt(mean_squared_error(test_predict, y_test))\n",
    "print('El error del train prop es',train_rmse2)\n",
    "print('El error del test prop es',test_rmse2)"
   ]
  },
  {
   "cell_type": "markdown",
   "metadata": {},
   "source": [
    "#### Correccion: Se mejoro el benchmark, utilizando get_dummies en lugar de LabelEncoder:\n",
    "\n",
    "    -Entrega anterior:\n",
    "        -El error del train prop es 110412.85425653051\n",
    "        -El error del test prop es 128826.01977657645"
   ]
  },
  {
   "cell_type": "markdown",
   "metadata": {},
   "source": [
    "### Benchmark"
   ]
  },
  {
   "cell_type": "markdown",
   "metadata": {},
   "source": [
    "Para realizar una comparacion con el trabajo anterior, reformule parte del proyecto. Esto se debe a que en principio habia subdividido los diferentes modelos en funcion del tipo de propiedad. Considero que para PH y Casas, la cantidad de propiedades resultantes es muy poca (8 mil para PH y 3 mil para Casas aprox) como para que el modelo tenga un entrenamiento correcto. Lo que hice fue reformular el modelo 1 y correr estos modelos sobre un solo dataset en lugar de 3. El proyecto 1 modificado se encuentra en el mismo repositorio que le proyecto 2."
   ]
  },
  {
   "cell_type": "markdown",
   "metadata": {},
   "source": [
    "### Modelos avanzados"
   ]
  },
  {
   "cell_type": "markdown",
   "metadata": {},
   "source": [
    "Continuamos con al creacion de modelos avanzados, con el objetivo de disminuir aun mas el error del modelo que creamos. Creamos un nuevo modelo que utiliza como metodo de ensamble la tecnica baging y otro que ustiliza boosting.\n",
    "\n",
    "* RandomForest - baging\n",
    "* XGBoost - boosting\n",
    "\n",
    "Primero utilizaremos los hiperparametros por defecto y luego elegiremos los mejores utilizando el metodo RandomizeSearchCV."
   ]
  },
  {
   "cell_type": "markdown",
   "metadata": {},
   "source": [
    "#### Utilizando Random Forest"
   ]
  },
  {
   "cell_type": "code",
   "execution_count": 65,
   "metadata": {},
   "outputs": [],
   "source": [
    "ran_forest = RandomForestRegressor(n_estimators = 100, random_state=42, max_depth=9, max_features=\"log2\", oob_score=True)"
   ]
  },
  {
   "cell_type": "code",
   "execution_count": 66,
   "metadata": {},
   "outputs": [
    {
     "data": {
      "text/plain": [
       "RandomForestRegressor(max_depth=9, max_features='log2', oob_score=True,\n",
       "                      random_state=42)"
      ]
     },
     "execution_count": 66,
     "metadata": {},
     "output_type": "execute_result"
    }
   ],
   "source": [
    "ran_forest.fit(X_Train, y_train)"
   ]
  },
  {
   "cell_type": "code",
   "execution_count": 67,
   "metadata": {},
   "outputs": [],
   "source": [
    "y_train_pred_f = ran_forest.predict(X_Train)\n",
    "y_test_pred_f = ran_forest.predict(X_Test)"
   ]
  },
  {
   "cell_type": "code",
   "execution_count": 68,
   "metadata": {},
   "outputs": [
    {
     "name": "stdout",
     "output_type": "stream",
     "text": [
      "El rmse2 en train es 121533.12408886605\n",
      "El rmse2 en test es 117263.8895009627\n"
     ]
    }
   ],
   "source": [
    "train_rmse2_f = np.sqrt(mean_squared_error(y_train, y_train_pred_f))\n",
    "test_rmse2_f = np.sqrt(mean_squared_error(y_test, y_test_pred_f))\n",
    "\n",
    "print(f'El rmse2 en train es',train_rmse2_f)\n",
    "print(f'El rmse2 en test es',test_rmse2_f)"
   ]
  },
  {
   "cell_type": "markdown",
   "metadata": {},
   "source": [
    "Optimizacion de hiperparametros en Random Forest"
   ]
  },
  {
   "cell_type": "code",
   "execution_count": 69,
   "metadata": {},
   "outputs": [],
   "source": [
    "param_forest = {'n_estimators':sp.stats.randint(5, 110),\n",
    "                'max_depth':sp.stats.randint(3, 10),\n",
    "                'max_features':[\"auto\",\"sqrt\",\"log2\"]}"
   ]
  },
  {
   "cell_type": "code",
   "execution_count": 70,
   "metadata": {},
   "outputs": [],
   "source": [
    "model_forest_params = RandomizedSearchCV(ran_forest, param_forest,n_iter=40, random_state=5, cv=2)"
   ]
  },
  {
   "cell_type": "code",
   "execution_count": 71,
   "metadata": {},
   "outputs": [
    {
     "name": "stderr",
     "output_type": "stream",
     "text": [
      "C:\\Users\\Usuario\\anaconda3\\lib\\site-packages\\sklearn\\ensemble\\_forest.py:832: UserWarning: Some inputs do not have OOB scores. This probably means too few trees were used to compute any reliable oob estimates.\n",
      "  warn(\"Some inputs do not have OOB scores. \"\n",
      "C:\\Users\\Usuario\\anaconda3\\lib\\site-packages\\sklearn\\ensemble\\_forest.py:832: UserWarning: Some inputs do not have OOB scores. This probably means too few trees were used to compute any reliable oob estimates.\n",
      "  warn(\"Some inputs do not have OOB scores. \"\n",
      "C:\\Users\\Usuario\\anaconda3\\lib\\site-packages\\sklearn\\ensemble\\_forest.py:832: UserWarning: Some inputs do not have OOB scores. This probably means too few trees were used to compute any reliable oob estimates.\n",
      "  warn(\"Some inputs do not have OOB scores. \"\n",
      "C:\\Users\\Usuario\\anaconda3\\lib\\site-packages\\sklearn\\ensemble\\_forest.py:832: UserWarning: Some inputs do not have OOB scores. This probably means too few trees were used to compute any reliable oob estimates.\n",
      "  warn(\"Some inputs do not have OOB scores. \"\n",
      "C:\\Users\\Usuario\\anaconda3\\lib\\site-packages\\sklearn\\ensemble\\_forest.py:832: UserWarning: Some inputs do not have OOB scores. This probably means too few trees were used to compute any reliable oob estimates.\n",
      "  warn(\"Some inputs do not have OOB scores. \"\n",
      "C:\\Users\\Usuario\\anaconda3\\lib\\site-packages\\sklearn\\ensemble\\_forest.py:832: UserWarning: Some inputs do not have OOB scores. This probably means too few trees were used to compute any reliable oob estimates.\n",
      "  warn(\"Some inputs do not have OOB scores. \"\n",
      "C:\\Users\\Usuario\\anaconda3\\lib\\site-packages\\sklearn\\ensemble\\_forest.py:832: UserWarning: Some inputs do not have OOB scores. This probably means too few trees were used to compute any reliable oob estimates.\n",
      "  warn(\"Some inputs do not have OOB scores. \"\n",
      "C:\\Users\\Usuario\\anaconda3\\lib\\site-packages\\sklearn\\ensemble\\_forest.py:832: UserWarning: Some inputs do not have OOB scores. This probably means too few trees were used to compute any reliable oob estimates.\n",
      "  warn(\"Some inputs do not have OOB scores. \"\n",
      "C:\\Users\\Usuario\\anaconda3\\lib\\site-packages\\sklearn\\ensemble\\_forest.py:832: UserWarning: Some inputs do not have OOB scores. This probably means too few trees were used to compute any reliable oob estimates.\n",
      "  warn(\"Some inputs do not have OOB scores. \"\n",
      "C:\\Users\\Usuario\\anaconda3\\lib\\site-packages\\sklearn\\ensemble\\_forest.py:832: UserWarning: Some inputs do not have OOB scores. This probably means too few trees were used to compute any reliable oob estimates.\n",
      "  warn(\"Some inputs do not have OOB scores. \"\n",
      "C:\\Users\\Usuario\\anaconda3\\lib\\site-packages\\sklearn\\ensemble\\_forest.py:832: UserWarning: Some inputs do not have OOB scores. This probably means too few trees were used to compute any reliable oob estimates.\n",
      "  warn(\"Some inputs do not have OOB scores. \"\n",
      "C:\\Users\\Usuario\\anaconda3\\lib\\site-packages\\sklearn\\ensemble\\_forest.py:832: UserWarning: Some inputs do not have OOB scores. This probably means too few trees were used to compute any reliable oob estimates.\n",
      "  warn(\"Some inputs do not have OOB scores. \"\n",
      "C:\\Users\\Usuario\\anaconda3\\lib\\site-packages\\sklearn\\ensemble\\_forest.py:832: UserWarning: Some inputs do not have OOB scores. This probably means too few trees were used to compute any reliable oob estimates.\n",
      "  warn(\"Some inputs do not have OOB scores. \"\n",
      "C:\\Users\\Usuario\\anaconda3\\lib\\site-packages\\sklearn\\ensemble\\_forest.py:832: UserWarning: Some inputs do not have OOB scores. This probably means too few trees were used to compute any reliable oob estimates.\n",
      "  warn(\"Some inputs do not have OOB scores. \"\n"
     ]
    },
    {
     "data": {
      "text/plain": [
       "RandomizedSearchCV(cv=2,\n",
       "                   estimator=RandomForestRegressor(max_depth=9,\n",
       "                                                   max_features='log2',\n",
       "                                                   oob_score=True,\n",
       "                                                   random_state=42),\n",
       "                   n_iter=40,\n",
       "                   param_distributions={'max_depth': <scipy.stats._distn_infrastructure.rv_frozen object at 0x0000024312313A60>,\n",
       "                                        'max_features': ['auto', 'sqrt',\n",
       "                                                         'log2'],\n",
       "                                        'n_estimators': <scipy.stats._distn_infrastructure.rv_frozen object at 0x0000024312313670>},\n",
       "                   random_state=5)"
      ]
     },
     "execution_count": 71,
     "metadata": {},
     "output_type": "execute_result"
    }
   ],
   "source": [
    "model_forest_params.fit(X_Train, np.ravel(y_train))"
   ]
  },
  {
   "cell_type": "code",
   "execution_count": 72,
   "metadata": {},
   "outputs": [
    {
     "name": "stdout",
     "output_type": "stream",
     "text": [
      "Mejores parametros: {'max_depth': 9, 'max_features': 'auto', 'n_estimators': 91}\n",
      "Mejor Score: 0.7565905762544611\n",
      "\n"
     ]
    }
   ],
   "source": [
    "print(\"Mejores parametros: \"+str(model_forest_params.best_params_))\n",
    "print(\"Mejor Score: \"+str(model_forest_params.best_score_)+'\\n')"
   ]
  },
  {
   "cell_type": "code",
   "execution_count": 73,
   "metadata": {},
   "outputs": [],
   "source": [
    "new_ran_forest = RandomForestRegressor(n_estimators = 91, random_state = 42, max_depth =9, max_features=\"auto\",oob_score=True)"
   ]
  },
  {
   "cell_type": "code",
   "execution_count": 74,
   "metadata": {},
   "outputs": [
    {
     "data": {
      "text/plain": [
       "RandomForestRegressor(max_depth=9, n_estimators=91, oob_score=True,\n",
       "                      random_state=42)"
      ]
     },
     "execution_count": 74,
     "metadata": {},
     "output_type": "execute_result"
    }
   ],
   "source": [
    "new_ran_forest.fit(X_Train,y_train)"
   ]
  },
  {
   "cell_type": "code",
   "execution_count": 75,
   "metadata": {},
   "outputs": [],
   "source": [
    "y_train_pred_f= new_ran_forest.predict(X_Train)\n",
    "y_test_pred_f= new_ran_forest.predict(X_Test)"
   ]
  },
  {
   "cell_type": "code",
   "execution_count": 76,
   "metadata": {},
   "outputs": [
    {
     "name": "stdout",
     "output_type": "stream",
     "text": [
      "El rmse2 en train es 104495.00243239019\n",
      "El rmse2 en test es 114007.53926399307\n"
     ]
    }
   ],
   "source": [
    "train_rmse2_f = np.sqrt(mean_squared_error(y_train, y_train_pred_f))\n",
    "test_rmse2_f = np.sqrt(mean_squared_error(y_test, y_test_pred_f))\n",
    "\n",
    "print(f'El rmse2 en train es',train_rmse2_f)\n",
    "print(f'El rmse2 en test es',test_rmse2_f)"
   ]
  },
  {
   "cell_type": "markdown",
   "metadata": {},
   "source": [
    "Obtenemos una leve mejoria optimizando los hiper parametros"
   ]
  },
  {
   "cell_type": "markdown",
   "metadata": {},
   "source": [
    "#### Utilizando XGBoost"
   ]
  },
  {
   "cell_type": "code",
   "execution_count": 77,
   "metadata": {},
   "outputs": [
    {
     "data": {
      "text/plain": [
       "XGBRegressor(base_score=0.5, booster='gbtree', colsample_bylevel=1,\n",
       "             colsample_bynode=1, colsample_bytree=1, gamma=0, gpu_id=-1,\n",
       "             importance_type='gain', interaction_constraints='',\n",
       "             learning_rate=0.300000012, max_delta_step=0, max_depth=6,\n",
       "             min_child_weight=1, missing=nan, monotone_constraints='()',\n",
       "             n_estimators=100, n_jobs=8, num_parallel_tree=1, random_state=42,\n",
       "             reg_alpha=0, reg_lambda=1, scale_pos_weight=1, subsample=1,\n",
       "             tree_method='exact', validate_parameters=1, verbosity=None)"
      ]
     },
     "execution_count": 77,
     "metadata": {},
     "output_type": "execute_result"
    }
   ],
   "source": [
    "xgb_model = xgb.XGBRegressor(random_state=42)\n",
    "xgb_model.fit(X_Train,y_train)"
   ]
  },
  {
   "cell_type": "code",
   "execution_count": 78,
   "metadata": {},
   "outputs": [],
   "source": [
    "y_train_pred_xgb=xgb_model.predict(X_Train)\n",
    "y_test_pred_xgb=xgb_model.predict(X_Test)"
   ]
  },
  {
   "cell_type": "code",
   "execution_count": 79,
   "metadata": {},
   "outputs": [
    {
     "name": "stdout",
     "output_type": "stream",
     "text": [
      "El rmse2 en train es 77439.35934615153\n",
      "El rmse2 en test es 99931.11852884929\n"
     ]
    }
   ],
   "source": [
    "xgb_train_sqrt=np.sqrt(mean_squared_error(y_train,y_train_pred_xgb))\n",
    "xgb_test_sqrt=np.sqrt(mean_squared_error(y_test,y_test_pred_xgb))\n",
    "print(f'El rmse2 en train es',xgb_train_sqrt)\n",
    "print(f'El rmse2 en test es',xgb_test_sqrt)"
   ]
  },
  {
   "cell_type": "code",
   "execution_count": 80,
   "metadata": {},
   "outputs": [],
   "source": [
    "param_xgb = {\"colsample_bytree\": uniform(0.7, 0.3),\n",
    "    \"gamma\": uniform(0, 0.5),\n",
    "    \"learning_rate\": uniform(0.03, 0.3), # default 0.1 \n",
    "    \"max_depth\": randint(2, 6), # default 3\n",
    "    \"n_estimators\": randint(100, 150), # default 100\n",
    "    \"subsample\": uniform(0.6, 0.4)}"
   ]
  },
  {
   "cell_type": "code",
   "execution_count": 81,
   "metadata": {},
   "outputs": [],
   "source": [
    "model_xgb_params=RandomizedSearchCV(xgb_model,param_distributions=param_xgb,n_iter=40, random_state=5, cv=2)"
   ]
  },
  {
   "cell_type": "code",
   "execution_count": 82,
   "metadata": {},
   "outputs": [
    {
     "data": {
      "text/plain": [
       "RandomizedSearchCV(cv=2,\n",
       "                   estimator=XGBRegressor(base_score=0.5, booster='gbtree',\n",
       "                                          colsample_bylevel=1,\n",
       "                                          colsample_bynode=1,\n",
       "                                          colsample_bytree=1, gamma=0,\n",
       "                                          gpu_id=-1, importance_type='gain',\n",
       "                                          interaction_constraints='',\n",
       "                                          learning_rate=0.300000012,\n",
       "                                          max_delta_step=0, max_depth=6,\n",
       "                                          min_child_weight=1, missing=nan,\n",
       "                                          monotone_constraints='()',\n",
       "                                          n_estimators=100, n_jobs=8,\n",
       "                                          num_par...\n",
       "                                        'learning_rate': <scipy.stats._distn_infrastructure.rv_frozen object at 0x00000243123208B0>,\n",
       "                                        'max_depth': <scipy.stats._distn_infrastructure.rv_frozen object at 0x0000024312320190>,\n",
       "                                        'n_estimators': <scipy.stats._distn_infrastructure.rv_frozen object at 0x0000024312329B50>,\n",
       "                                        'subsample': <scipy.stats._distn_infrastructure.rv_frozen object at 0x0000024312329A60>},\n",
       "                   random_state=5)"
      ]
     },
     "execution_count": 82,
     "metadata": {},
     "output_type": "execute_result"
    }
   ],
   "source": [
    "model_xgb_params.fit(X_Train, np.ravel(y_train))"
   ]
  },
  {
   "cell_type": "code",
   "execution_count": 83,
   "metadata": {},
   "outputs": [
    {
     "name": "stdout",
     "output_type": "stream",
     "text": [
      "Mejores parametros: {'colsample_bytree': 0.7242223806294624, 'gamma': 0.369220148099485, 'learning_rate': 0.16239276686878593, 'max_depth': 5, 'n_estimators': 101, 'subsample': 0.9519748124805115}\n",
      "Mejor Score: 0.7761176482599106\n",
      "\n"
     ]
    }
   ],
   "source": [
    "print(\"Mejores parametros: \"+str(model_xgb_params.best_params_))\n",
    "print(\"Mejor Score: \"+str(model_xgb_params.best_score_)+'\\n')"
   ]
  },
  {
   "cell_type": "code",
   "execution_count": 84,
   "metadata": {},
   "outputs": [],
   "source": [
    "xgb_model2 = xgb.XGBRegressor(random_state=42,eval_metric=\"rmse\",colsample_bytree=0.7242223806294624,gamma=0.369220148099485,learning_rate=0.16239276686878593,max_depth=5,n_estimators=101,subsample= 0.9519748124805115)"
   ]
  },
  {
   "cell_type": "code",
   "execution_count": 203,
   "metadata": {},
   "outputs": [
    {
     "data": {
      "text/plain": [
       "XGBRegressor(base_score=0.5, booster='gbtree', colsample_bylevel=1,\n",
       "             colsample_bynode=1, colsample_bytree=0.7242223806294624,\n",
       "             eval_metric='rmse', gamma=0.369220148099485, gpu_id=-1,\n",
       "             importance_type='gain', interaction_constraints='',\n",
       "             learning_rate=0.16239276686878593, max_delta_step=0, max_depth=5,\n",
       "             min_child_weight=1, missing=nan, monotone_constraints='()',\n",
       "             n_estimators=101, n_jobs=8, num_parallel_tree=1, random_state=42,\n",
       "             reg_alpha=0, reg_lambda=1, scale_pos_weight=1,\n",
       "             subsample=0.9519748124805115, tree_method='exact',\n",
       "             validate_parameters=1, verbosity=None)"
      ]
     },
     "execution_count": 203,
     "metadata": {},
     "output_type": "execute_result"
    }
   ],
   "source": [
    "xgb_model2.fit(X_Train,y_train)"
   ]
  },
  {
   "cell_type": "code",
   "execution_count": 204,
   "metadata": {},
   "outputs": [],
   "source": [
    "y_train_pred2_xgb=xgb_model2.predict(X_Train)\n",
    "y_test_pred2_xgb=xgb_model2.predict(X_Test)"
   ]
  },
  {
   "cell_type": "code",
   "execution_count": 205,
   "metadata": {},
   "outputs": [
    {
     "name": "stdout",
     "output_type": "stream",
     "text": [
      "El rmse2 en train es 105006.04307974089\n",
      "El rmse2 en test es 111135.8773309198\n"
     ]
    }
   ],
   "source": [
    "xgb_train_sqrt2=np.sqrt(mean_squared_error(y_train,y_train_pred2_xgb))\n",
    "xgb_test_sqrt2=np.sqrt(mean_squared_error(y_test,y_test_pred2_xgb))\n",
    "print(f'El rmse2 en train es',xgb_train_sqrt2)\n",
    "print(f'El rmse2 en test es',xgb_test_sqrt2)"
   ]
  },
  {
   "cell_type": "markdown",
   "metadata": {},
   "source": [
    "#### Interpretacion de los modelos"
   ]
  },
  {
   "cell_type": "code",
   "execution_count": 206,
   "metadata": {},
   "outputs": [
    {
     "data": {
      "text/html": [
       "<div>\n",
       "<style scoped>\n",
       "    .dataframe tbody tr th:only-of-type {\n",
       "        vertical-align: middle;\n",
       "    }\n",
       "\n",
       "    .dataframe tbody tr th {\n",
       "        vertical-align: top;\n",
       "    }\n",
       "\n",
       "    .dataframe thead th {\n",
       "        text-align: right;\n",
       "    }\n",
       "</style>\n",
       "<table border=\"1\" class=\"dataframe\">\n",
       "  <thead>\n",
       "    <tr style=\"text-align: right;\">\n",
       "      <th></th>\n",
       "      <th>RMSE en X_train</th>\n",
       "      <th>RMSE en X_test</th>\n",
       "    </tr>\n",
       "  </thead>\n",
       "  <tbody>\n",
       "    <tr>\n",
       "      <th>Decision_Tree</th>\n",
       "      <td>103899.346636</td>\n",
       "      <td>124395.266935</td>\n",
       "    </tr>\n",
       "    <tr>\n",
       "      <th>Random_Forest</th>\n",
       "      <td>109664.841127</td>\n",
       "      <td>115827.766824</td>\n",
       "    </tr>\n",
       "    <tr>\n",
       "      <th>XGBoost</th>\n",
       "      <td>105006.043080</td>\n",
       "      <td>111135.877331</td>\n",
       "    </tr>\n",
       "  </tbody>\n",
       "</table>\n",
       "</div>"
      ],
      "text/plain": [
       "               RMSE en X_train  RMSE en X_test\n",
       "Decision_Tree    103899.346636   124395.266935\n",
       "Random_Forest    109664.841127   115827.766824\n",
       "XGBoost          105006.043080   111135.877331"
      ]
     },
     "execution_count": 206,
     "metadata": {},
     "output_type": "execute_result"
    }
   ],
   "source": [
    "Results= {\"RMSE en X_train\":[train_rmse2,train_rmse2_f,xgb_train_sqrt2],\n",
    "            \"RMSE en X_test\":[test_rmse2,test_rmse2_f,xgb_test_sqrt2]}\n",
    "result=pd.DataFrame(Results, index=[\"Decision_Tree\",\"Random_Forest\",\"XGBoost\"])\n",
    "result"
   ]
  },
  {
   "cell_type": "markdown",
   "metadata": {},
   "source": [
    "#### Random forest"
   ]
  },
  {
   "cell_type": "markdown",
   "metadata": {},
   "source": [
    "Vemos que features pesan mas en la prediccion"
   ]
  },
  {
   "cell_type": "code",
   "execution_count": 207,
   "metadata": {},
   "outputs": [
    {
     "data": {
      "text/plain": [
       "Text(0.5, 0, 'Random Forest Feature Importance')"
      ]
     },
     "execution_count": 207,
     "metadata": {},
     "output_type": "execute_result"
    },
    {
     "data": {
      "image/png": "[encoded data removed]",
      "text/plain": [
       "<Figure size 432x288 with 1 Axes>"
      ]
     },
     "metadata": {
      "needs_background": "light"
     },
     "output_type": "display_data"
    }
   ],
   "source": [
    "sorted_idx = ran_forest.feature_importances_.argsort()\n",
    "ran_forest.feature_importances_[sorted_idx]\n",
    "X_Train.columns = X_Train.columns.astype(str)\n",
    "plt.barh(X_Train.columns[sorted_idx], ran_forest.feature_importances_[sorted_idx])\n",
    "plt.xlabel(\"Random Forest Feature Importance\")"
   ]
  },
  {
   "cell_type": "markdown",
   "metadata": {},
   "source": [
    "Elegimos dos arboles al azar y vemos si hubo alguna variacion."
   ]
  },
  {
   "cell_type": "code",
   "execution_count": 208,
   "metadata": {},
   "outputs": [
    {
     "data": {
      "text/plain": [
       "Text(0.5, 0, 'Forest  3 - Feature Importance')"
      ]
     },
     "execution_count": 208,
     "metadata": {},
     "output_type": "execute_result"
    },
    {
     "data": {
      "image/png": "[encoded data removed]",
      "text/plain": [
       "<Figure size 432x288 with 1 Axes>"
      ]
     },
     "metadata": {
      "needs_background": "light"
     },
     "output_type": "display_data"
    }
   ],
   "source": [
    "sorted_idx = ran_forest.estimators_[89].feature_importances_.argsort()\n",
    "plt.barh(X_Train.columns[sorted_idx], ran_forest.estimators_[89].feature_importances_[sorted_idx])\n",
    "plt.xlabel(\"Forest  3 - Feature Importance\")"
   ]
  },
  {
   "cell_type": "code",
   "execution_count": 209,
   "metadata": {},
   "outputs": [
    {
     "data": {
      "text/plain": [
       "Text(0.5, 0, 'Forest  3 - Feature Importance')"
      ]
     },
     "execution_count": 209,
     "metadata": {},
     "output_type": "execute_result"
    },
    {
     "data": {
      "image/png": "[encoded data removed]",
      "text/plain": [
       "<Figure size 432x288 with 1 Axes>"
      ]
     },
     "metadata": {
      "needs_background": "light"
     },
     "output_type": "display_data"
    }
   ],
   "source": [
    "sorted_idx = ran_forest.estimators_[6].feature_importances_.argsort()\n",
    "plt.barh(X_Train.columns[sorted_idx], ran_forest.estimators_[25].feature_importances_[sorted_idx])\n",
    "plt.xlabel(\"Forest  3 - Feature Importance\")"
   ]
  },
  {
   "cell_type": "markdown",
   "metadata": {},
   "source": [
    "Vemos que la feature mas importante para este modelo es surface_total. Tambien se destacan \"surface_covered\", \"Departamento\" y la propiedad \"a\". Obtuvimos la feature 1 cuando hicimos reduccion de dimensionalidad con otras features importantes como bathrooms, bedrooms, y rooms."
   ]
  },
  {
   "cell_type": "markdown",
   "metadata": {},
   "source": [
    "Mean Decrease in impurity"
   ]
  },
  {
   "cell_type": "markdown",
   "metadata": {},
   "source": [
    "#### XGBoost"
   ]
  },
  {
   "cell_type": "code",
   "execution_count": 210,
   "metadata": {},
   "outputs": [
    {
     "data": {
      "text/plain": [
       "Text(0.5, 0, 'XgBoost Feature Importance')"
      ]
     },
     "execution_count": 210,
     "metadata": {},
     "output_type": "execute_result"
    },
    {
     "data": {
      "image/png": "[encoded data removed]",
      "text/plain": [
       "<Figure size 432x288 with 1 Axes>"
      ]
     },
     "metadata": {
      "needs_background": "light"
     },
     "output_type": "display_data"
    }
   ],
   "source": [
    "sorted_idx = xgb_model2.feature_importances_.argsort()\n",
    "plt.barh(X_Train.columns[sorted_idx], xgb_model2.feature_importances_[sorted_idx])\n",
    "plt.xlabel(\"XgBoost Feature Importance\")"
   ]
  },
  {
   "cell_type": "markdown",
   "metadata": {},
   "source": [
    "#### Concluciones\n",
    "* Vemos nuevamente que Departamento, surface_total y surface_covered aparecen como 2 features importantes.\n",
    "* El mejor resultado es el que obtenemos con XBoost."
   ]
  },
  {
   "cell_type": "code",
   "execution_count": 211,
   "metadata": {},
   "outputs": [],
   "source": [
    "#Codigo comentado, problema de performance en esta computadora.\n",
    "\n",
    "models = ['Decision Tree', 'Random Forest', 'XGBoost']\n",
    "\n",
    "for i, model in enumerate([d_tree, ran_forest,xgb_model2]):\n",
    "    for pred_train, y_train_pred in enumerate([train_predict,y_train_pred_f,y_train_pred2_xgb]):\n",
    "        pred_train = model.predict(X_Train)\n",
    "        for pred_test, y_test_pred in enumerate([test_predict,y_test_pred_f,y_test_pred2_xgb]): \n",
    "            pred_test = model.predict(X_Test)\n",
    "            for rmse_train in enumerate([train_rmse2,train_rmse2_f, xgb_train_sqrt2]):\n",
    "                rmse_train = np.sqrt(mean_squared_error(y_train, pred_train))\n",
    "                for rmse_test in enumerate([train_rmse2,test_rmse2_f, xgb_test_sqrt2]):\n",
    "                    rmse_test = np.sqrt(mean_squared_error(y_test, pred_test))    \n",
    "    \n",
    "    print(f'Modelo: {models[i]}')\n",
    "    rmse_train = np.sqrt(mean_squared_error(y_train, pred_train))\n",
    "    rmse_test = np.sqrt(mean_squared_error(y_test, pred_test))\n",
    "    print(f'Raíz del error cuadrático medio en Train: {rmse_train}')\n",
    "    print(f'Raíz del error cuadrático medio en Test: {rmse_test}')\n",
    "    \n",
    "    plt.figure(figsize = (10,6))\n",
    "\n",
    "    plt.subplot(1,2,1)\n",
    "    \n",
    "    a = pred_train.reshape(-1,1)\n",
    "    b = pred_test.reshape(-1,1)\n",
    "    sns.distplot(y_train - a, bins = 20, label = 'train')\n",
    "    sns.distplot(y_test - b, bins = 20, label = 'test')\n",
    "    plt.xlabel('errores')\n",
    "    plt.legend()\n",
    "\n",
    "    ax = plt.subplot(1,2,2)\n",
    "    ax.scatter(y_test,pred_test, s =2)    \n",
    "    lims = [\n",
    "    np.min([ax.get_xlim(), ax.get_ylim()]),  # min of both axes\n",
    "    np.max([ax.get_xlim(), ax.get_ylim()]),  # max of both axes]\n",
    "    ]\n",
    "    \n",
    "    ax.plot(lims, lims, 'k-', alpha=0.75, zorder=0)\n",
    "    plt.xlabel('y (test)')\n",
    "    plt.ylabel('y_pred (test)')\n",
    "    \n",
    "    plt.tight_layout()\n",
    "    plt.show()"
   ]
  },
  {
   "cell_type": "code",
   "execution_count": 212,
   "metadata": {},
   "outputs": [],
   "source": [
    "pred_train_tree = d_tree.predict(X_Train)\n",
    "pred_test_tree = d_tree.predict(X_Test)"
   ]
  },
  {
   "cell_type": "code",
   "execution_count": 213,
   "metadata": {},
   "outputs": [
    {
     "name": "stdout",
     "output_type": "stream",
     "text": [
      "Tree\n",
      "103899.3466362146\n",
      "124395.26693471635\n"
     ]
    }
   ],
   "source": [
    "rmse_train_tree = np.sqrt(mean_squared_error(y_train,pred_train_tree))\n",
    "rmse_test_tree = np.sqrt(mean_squared_error(y_test,pred_test_tree))\n",
    "\n",
    "print(\"Tree\")\n",
    "print(rmse_train_tree)\n",
    "print(rmse_test_tree)"
   ]
  },
  {
   "cell_type": "code",
   "execution_count": 214,
   "metadata": {},
   "outputs": [],
   "source": [
    "pred_train_ran_forest = ran_forest.predict(X_Train)\n",
    "pred_test_ran_forest = ran_forest.predict(X_Test)"
   ]
  },
  {
   "cell_type": "code",
   "execution_count": 215,
   "metadata": {},
   "outputs": [
    {
     "name": "stdout",
     "output_type": "stream",
     "text": [
      "Random forest\n",
      "125047.36952926267\n",
      "120977.42141325948\n"
     ]
    }
   ],
   "source": [
    "rmse_train_ran_forest = np.sqrt(mean_squared_error(y_train,pred_train_ran_forest))\n",
    "rmse_test_ran_forest = np.sqrt(mean_squared_error(y_test,pred_test_ran_forest))\n",
    "\n",
    "print(\"Random forest\")\n",
    "print(rmse_train_ran_forest)\n",
    "print(rmse_test_ran_forest)"
   ]
  },
  {
   "cell_type": "code",
   "execution_count": 216,
   "metadata": {},
   "outputs": [],
   "source": [
    "pred_train_xgboost = xgb_model2.predict(X_Train)\n",
    "pred_test_xgboost = xgb_model2.predict(X_Test)"
   ]
  },
  {
   "cell_type": "code",
   "execution_count": 217,
   "metadata": {},
   "outputs": [
    {
     "name": "stdout",
     "output_type": "stream",
     "text": [
      "XGBoost\n",
      "105006.04307974089\n",
      "111135.8773309198\n"
     ]
    }
   ],
   "source": [
    "rmse_train_hgb = np.sqrt(mean_squared_error(y_train,pred_train_xgboost))\n",
    "rmse_test_xgb = np.sqrt(mean_squared_error(y_test,pred_test_xgboost))\n",
    "\n",
    "print(\"XGBoost\")\n",
    "print(rmse_train_hgb)\n",
    "print(rmse_test_xgb)"
   ]
  },
  {
   "cell_type": "markdown",
   "metadata": {},
   "source": [
    "De los resultados obtenidos, notamos que el modelo que mejor trabaja es el XGBoost. Ademas presenta poca variancia, al igual que Random forest. En el modelo de arbol de decision, vemos que ademas de arrojar peores resultados, la diferencia entre Test y Train es mayor."
   ]
  },
  {
   "cell_type": "markdown",
   "metadata": {},
   "source": [
    "#### Mejoras\n",
    "- Pienso que se podria trabajar un poco mas, el procesamiento de los datos. \n",
    "\n",
    "    * Agregaría una variable que contemple el precio del dolar al momento de publicar la propiedad. Si el dolar esta en alza o en baja modifica las espectativas en el mercado inmobiliario.\n",
    "\n",
    "    * Analizaria las descripciones, en cada propiedad, con el objetivo de llenar aquellos datos que son nulos para las superficies, dado que es informacion que se suele incluir en descripciones.\n",
    "\n"
   ]
  },
  {
   "cell_type": "code",
   "execution_count": null,
   "metadata": {},
   "outputs": [],
   "source": []
  },
  {
   "cell_type": "code",
   "execution_count": null,
   "metadata": {},
   "outputs": [],
   "source": []
  }
 ],
 "metadata": {
  "colab": {
   "collapsed_sections": [],
   "name": "DS_Proyecto_01.ipynb",
   "provenance": []
  },
  "kernelspec": {
   "display_name": "Python 3",
   "language": "python",
   "name": "python3"
  },
  "language_info": {
   "codemirror_mode": {
    "name": "ipython",
    "version": 3
   },
   "file_extension": ".py",
   "mimetype": "text/x-python",
   "name": "python",
   "nbconvert_exporter": "python",
   "pygments_lexer": "ipython3",
   "version": "3.8.5"
  }
 },
 "nbformat": 4,
 "nbformat_minor": 1
}
