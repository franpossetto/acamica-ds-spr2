{
 "cells": [
  {
   "cell_type": "markdown",
   "metadata": {
    "id": "38tA-ErIC4OD"
   },
   "source": [
    "# Proyecto: Análisis de mercado inmobiliario + Ingenieria de features y modelos avanzados.\n",
    "\n",
    "Aplica transformación de datos y entrena Modelos Avanzados para desarrollar con mayor profundidad tu modelo de Machine Learning:\n",
    "* En la Parte 1, Transformacion de datos.\n",
    "* En la Parte 2, Modelos avanzados.\n",
    "* En la Parte 3, Interpretacion de modelos.\n",
    "\n",
    "\n",
    "En este proyecto vas a trabajar con un dataset de propiedades en venta publicado en el portal [Properati](www.properati.com.ar).\n",
    "\n"
   ]
  },
  {
   "cell_type": "markdown",
   "metadata": {},
   "source": [
    "## Pipeline\n",
    "\n",
    "### Parte 1, Transformacion de datos.\n",
    "\n",
    "1. Transformacion de los datos:\n",
    "    * Analisis de propiedades\n",
    "    * Deteccion de nulls.\n",
    "    * Imputacion de valores faltantes.\n",
    "    * Eliminacion de instancias con datos contradictorios o poca cantidad de datos.\n",
    "\n",
    "\n",
    "2. Detección y eliminación de Outliers:\n",
    "   * Determinar outliers para Bathrooms y rooms\n",
    "       * Regla de los 3 sigmas ( si no hay mucha varianza )\n",
    "   * Para superficie total determinamos outliers con reglas de diseño.\n",
    "   * Creamos un boxpolot con alguna propiedad\n",
    "       * 3 box-plots\n",
    "\n",
    "\n",
    "3. Encoding: transformamos las variables categoricas en numeros: barrio (l3) y tipo de propiedad.\n",
    "\n",
    "4. Train-test.\n",
    "\n",
    "5. Escalado de datos: todos los datos salvo el price.\n",
    "\n",
    "6. Reduccion de dimensionalidad\n",
    "\n",
    "\n",
    "### Parte 2, Modelos avanzados.\n",
    "\n",
    "7. Benchmark: Ver Arbol de decision proyecto 1 y compararlo con proyecto 2. Usar los mismos hiperparametros.\n",
    "\n",
    "8. Modelos de ensamble:\n",
    "    * \n",
    "\n"
   ]
  },
  {
   "cell_type": "markdown",
   "metadata": {
    "id": "LvPBQzg5C4OI"
   },
   "source": [
    "## 1. Transformacion de los datos.\n",
    "\n",
    "En esta sección, Continuamos con el Análisis Exploratorio de Datos realizados en el proyecto 1. Debemos elegir cual de las siguientes tareas es apropiada para este dataset e implementar la transformacion\n",
    "\n",
    "* Detección y eliminación de Outliers\n",
    "* Encoding\n",
    "* Imputación de valores faltantes\n",
    "* Escalado de datos\n",
    "* Generación de nuevas variables predictoras/reducción de dimensionalidad (SVD/PCA)."
   ]
  },
  {
   "cell_type": "markdown",
   "metadata": {},
   "source": [
    "Importamos librerias utiles para trabajar."
   ]
  },
  {
   "cell_type": "code",
   "execution_count": 1,
   "metadata": {},
   "outputs": [],
   "source": [
    "# 1 Importar liberias utilesimport numpy as np\n",
    "import pandas as pd\n",
    "import seaborn as sns\n",
    "import matplotlib.pyplot as plt\n",
    "from scipy import stats\n",
    "import numpy as np\n",
    "from sklearn.preprocessing import LabelEncoder\n",
    "from sklearn.preprocessing import MinMaxScaler\n",
    "from sklearn.decomposition import PCA\n",
    "from sklearn.model_selection import train_test_split\n",
    "from sklearn.linear_model import LinearRegression\n",
    "from sklearn.tree import DecisionTreeRegressor\n",
    "from sklearn.neighbors import KNeighborsRegressor\n",
    "from sklearn.metrics import mean_squared_error\n",
    "from sklearn.ensemble import RandomForestRegressor\n",
    "from sklearn.ensemble import RandomForestClassifier\n",
    "from sklearn.model_selection import RandomizedSearchCV\n",
    "from sklearn.ensemble import AdaBoostClassifier\n",
    "import xgboost as xgb\n",
    "from scipy.stats import uniform, randint"
   ]
  },
  {
   "cell_type": "markdown",
   "metadata": {
    "id": "5gWE6fwUC4OY"
   },
   "source": [
    "Cargamos el Dataset. Si no se encuentra el dataset, descomprimir zip ubicado en /Datasets. Realizamos una aproximación al dataset, mostrando las primeros cinco instancias."
   ]
  },
  {
   "cell_type": "code",
   "execution_count": 2,
   "metadata": {
    "id": "YL2eAd_tC4Oa"
   },
   "outputs": [
    {
     "data": {
      "text/plain": [
       "(146660, 19)"
      ]
     },
     "execution_count": 2,
     "metadata": {},
     "output_type": "execute_result"
    }
   ],
   "source": [
    "# 2. Cargar dataset, informacion general.\n",
    "path = \"Datasets/DS_Proyecto_01_Datos_Properati.csv\"\n",
    "dataset = pd.read_csv(path)\n",
    "dataset.head()\n",
    "dataset.shape"
   ]
  },
  {
   "cell_type": "markdown",
   "metadata": {},
   "source": [
    "### 1.1 Analisis de propiedades\n",
    "\n",
    "#### Rooms\n",
    "* En Argentina, cuando se habla de un departamento 3 ambientes, significa que le departamento tiene tres espacios de permanencia, es decir, no contamos los espacios de serivicio como cocina, baño, lavadero o cochera.\n",
    "\n",
    "* Descripcion obtenida del sitio web de properati:\n",
    "    * rooms - Cantidad de ambientes (útil en Argentina).\n",
    "    * bedrooms - Cantidad de dormitorios (útil en el resto de los países).\n",
    "    * bathrooms - Cantidad de baños.\n",
    "    \n",
    "* Asumo que bathrooms no esta incluido en rooms, pero que bedrooms si lo esta, dado que en algunos casos bedrooms + bathrooms es mayor que rooms.\n",
    "\n",
    "#### Reglas de diseño:  Estudiar anomalias referidas a la relacion entre algunas de las propiedades. \n",
    "* Que la superficie cubierta sea menor o igual a la superficie total.\n",
    "* Una de las propiedades que presenta nulls son los baños. Quisiera estudiar mas detenidamente como se cargaron algunos valores. Tiene sentido que una propiedad de dos ambientes ( living-comedor + 1 dormitorio) tenga mas de dos baños? diría que no. Es poco común. De la misma manera. Tiene sentido que una propiedad de mas de 60m2 tenga solo 1 baño? Puede ser, en ambos casos, si hablamos de viviendas probablemente quien las diseño deberia replantearse cuanta gente habita cada lugar.\n",
    "* Si un deposito presenta un dato null en baños o dormitorios. Debemos calcularlo o podemos inferirlo? sabemos que un deposito no tiene dormitorios, y dependiendo del diseño puede tener 1 o 2 baños. En que situacion un deposito podria tener mas de un baños?"
   ]
  },
  {
   "cell_type": "markdown",
   "metadata": {},
   "source": [
    "#### Descartamos propiedades poco utiles para nuestro analisis\n",
    "Primero descartamos aquellas propiedades que no son utiles para nuestro analisis y contamos la cantidad de datos faltantes por columna que tiene el dataset."
   ]
  },
  {
   "cell_type": "code",
   "execution_count": 3,
   "metadata": {},
   "outputs": [
    {
     "data": {
      "text/html": [
       "<div>\n",
       "<style scoped>\n",
       "    .dataframe tbody tr th:only-of-type {\n",
       "        vertical-align: middle;\n",
       "    }\n",
       "\n",
       "    .dataframe tbody tr th {\n",
       "        vertical-align: top;\n",
       "    }\n",
       "\n",
       "    .dataframe thead th {\n",
       "        text-align: right;\n",
       "    }\n",
       "</style>\n",
       "<table border=\"1\" class=\"dataframe\">\n",
       "  <thead>\n",
       "    <tr style=\"text-align: right;\">\n",
       "      <th></th>\n",
       "      <th>l2</th>\n",
       "      <th>l3</th>\n",
       "      <th>rooms</th>\n",
       "      <th>bedrooms</th>\n",
       "      <th>bathrooms</th>\n",
       "      <th>surface_total</th>\n",
       "      <th>surface_covered</th>\n",
       "      <th>price</th>\n",
       "      <th>property_type</th>\n",
       "    </tr>\n",
       "  </thead>\n",
       "  <tbody>\n",
       "    <tr>\n",
       "      <th>0</th>\n",
       "      <td>Capital Federal</td>\n",
       "      <td>San Cristobal</td>\n",
       "      <td>7.0</td>\n",
       "      <td>7.0</td>\n",
       "      <td>2.0</td>\n",
       "      <td>140.0</td>\n",
       "      <td>140.0</td>\n",
       "      <td>153000.0</td>\n",
       "      <td>Departamento</td>\n",
       "    </tr>\n",
       "    <tr>\n",
       "      <th>1</th>\n",
       "      <td>Capital Federal</td>\n",
       "      <td>Boedo</td>\n",
       "      <td>2.0</td>\n",
       "      <td>1.0</td>\n",
       "      <td>2.0</td>\n",
       "      <td>70.0</td>\n",
       "      <td>58.0</td>\n",
       "      <td>159000.0</td>\n",
       "      <td>PH</td>\n",
       "    </tr>\n",
       "    <tr>\n",
       "      <th>2</th>\n",
       "      <td>Capital Federal</td>\n",
       "      <td>Palermo</td>\n",
       "      <td>2.0</td>\n",
       "      <td>1.0</td>\n",
       "      <td>1.0</td>\n",
       "      <td>45.0</td>\n",
       "      <td>45.0</td>\n",
       "      <td>125000.0</td>\n",
       "      <td>PH</td>\n",
       "    </tr>\n",
       "    <tr>\n",
       "      <th>3</th>\n",
       "      <td>Capital Federal</td>\n",
       "      <td>Palermo</td>\n",
       "      <td>2.0</td>\n",
       "      <td>1.0</td>\n",
       "      <td>1.0</td>\n",
       "      <td>85.0</td>\n",
       "      <td>50.0</td>\n",
       "      <td>295000.0</td>\n",
       "      <td>PH</td>\n",
       "    </tr>\n",
       "    <tr>\n",
       "      <th>4</th>\n",
       "      <td>Bs.As. G.B.A. Zona Sur</td>\n",
       "      <td>La Plata</td>\n",
       "      <td>2.0</td>\n",
       "      <td>1.0</td>\n",
       "      <td>1.0</td>\n",
       "      <td>50.0</td>\n",
       "      <td>35.0</td>\n",
       "      <td>40000.0</td>\n",
       "      <td>PH</td>\n",
       "    </tr>\n",
       "    <tr>\n",
       "      <th>...</th>\n",
       "      <td>...</td>\n",
       "      <td>...</td>\n",
       "      <td>...</td>\n",
       "      <td>...</td>\n",
       "      <td>...</td>\n",
       "      <td>...</td>\n",
       "      <td>...</td>\n",
       "      <td>...</td>\n",
       "      <td>...</td>\n",
       "    </tr>\n",
       "    <tr>\n",
       "      <th>495</th>\n",
       "      <td>Bs.As. G.B.A. Zona Sur</td>\n",
       "      <td>Berazategui</td>\n",
       "      <td>5.0</td>\n",
       "      <td>3.0</td>\n",
       "      <td>2.0</td>\n",
       "      <td>236.0</td>\n",
       "      <td>192.0</td>\n",
       "      <td>200000.0</td>\n",
       "      <td>Casa</td>\n",
       "    </tr>\n",
       "    <tr>\n",
       "      <th>496</th>\n",
       "      <td>Bs.As. G.B.A. Zona Sur</td>\n",
       "      <td>San Vicente</td>\n",
       "      <td>7.0</td>\n",
       "      <td>3.0</td>\n",
       "      <td>3.0</td>\n",
       "      <td>814.0</td>\n",
       "      <td>236.0</td>\n",
       "      <td>370000.0</td>\n",
       "      <td>Casa</td>\n",
       "    </tr>\n",
       "    <tr>\n",
       "      <th>497</th>\n",
       "      <td>Bs.As. G.B.A. Zona Sur</td>\n",
       "      <td>Lomas de Zamora</td>\n",
       "      <td>6.0</td>\n",
       "      <td>3.0</td>\n",
       "      <td>2.0</td>\n",
       "      <td>266.0</td>\n",
       "      <td>170.0</td>\n",
       "      <td>225000.0</td>\n",
       "      <td>Casa</td>\n",
       "    </tr>\n",
       "    <tr>\n",
       "      <th>498</th>\n",
       "      <td>Bs.As. G.B.A. Zona Sur</td>\n",
       "      <td>Esteban Echeverría</td>\n",
       "      <td>5.0</td>\n",
       "      <td>3.0</td>\n",
       "      <td>2.0</td>\n",
       "      <td>938.0</td>\n",
       "      <td>180.0</td>\n",
       "      <td>280000.0</td>\n",
       "      <td>Casa</td>\n",
       "    </tr>\n",
       "    <tr>\n",
       "      <th>499</th>\n",
       "      <td>Bs.As. G.B.A. Zona Sur</td>\n",
       "      <td>Lanús</td>\n",
       "      <td>4.0</td>\n",
       "      <td>3.0</td>\n",
       "      <td>2.0</td>\n",
       "      <td>156.0</td>\n",
       "      <td>135.0</td>\n",
       "      <td>360000.0</td>\n",
       "      <td>Departamento</td>\n",
       "    </tr>\n",
       "  </tbody>\n",
       "</table>\n",
       "<p>500 rows × 9 columns</p>\n",
       "</div>"
      ],
      "text/plain": [
       "                         l2                  l3  rooms  bedrooms  bathrooms  \\\n",
       "0           Capital Federal       San Cristobal    7.0       7.0        2.0   \n",
       "1           Capital Federal               Boedo    2.0       1.0        2.0   \n",
       "2           Capital Federal             Palermo    2.0       1.0        1.0   \n",
       "3           Capital Federal             Palermo    2.0       1.0        1.0   \n",
       "4    Bs.As. G.B.A. Zona Sur            La Plata    2.0       1.0        1.0   \n",
       "..                      ...                 ...    ...       ...        ...   \n",
       "495  Bs.As. G.B.A. Zona Sur         Berazategui    5.0       3.0        2.0   \n",
       "496  Bs.As. G.B.A. Zona Sur         San Vicente    7.0       3.0        3.0   \n",
       "497  Bs.As. G.B.A. Zona Sur     Lomas de Zamora    6.0       3.0        2.0   \n",
       "498  Bs.As. G.B.A. Zona Sur  Esteban Echeverría    5.0       3.0        2.0   \n",
       "499  Bs.As. G.B.A. Zona Sur               Lanús    4.0       3.0        2.0   \n",
       "\n",
       "     surface_total  surface_covered     price property_type  \n",
       "0            140.0            140.0  153000.0  Departamento  \n",
       "1             70.0             58.0  159000.0            PH  \n",
       "2             45.0             45.0  125000.0            PH  \n",
       "3             85.0             50.0  295000.0            PH  \n",
       "4             50.0             35.0   40000.0            PH  \n",
       "..             ...              ...       ...           ...  \n",
       "495          236.0            192.0  200000.0          Casa  \n",
       "496          814.0            236.0  370000.0          Casa  \n",
       "497          266.0            170.0  225000.0          Casa  \n",
       "498          938.0            180.0  280000.0          Casa  \n",
       "499          156.0            135.0  360000.0  Departamento  \n",
       "\n",
       "[500 rows x 9 columns]"
      ]
     },
     "execution_count": 3,
     "metadata": {},
     "output_type": "execute_result"
    }
   ],
   "source": [
    "dataset.drop(['l1', 'lat','lon','start_date', 'end_date', 'created_on', 'title', 'currency','operation_type', 'description'], 'columns', inplace = True )\n",
    "dataset.head(500)"
   ]
  },
  {
   "cell_type": "markdown",
   "metadata": {},
   "source": [
    "### 1.2 Deteccion de nulls"
   ]
  },
  {
   "cell_type": "code",
   "execution_count": 4,
   "metadata": {},
   "outputs": [
    {
     "name": "stdout",
     "output_type": "stream",
     "text": [
      "Nulls en cada columna:\n"
     ]
    },
    {
     "data": {
      "text/plain": [
       "l2                     0\n",
       "l3                     0\n",
       "rooms                  0\n",
       "bedrooms               0\n",
       "bathrooms           5957\n",
       "surface_total      20527\n",
       "surface_covered    21614\n",
       "price                  0\n",
       "property_type          0\n",
       "dtype: int64"
      ]
     },
     "execution_count": 4,
     "metadata": {},
     "output_type": "execute_result"
    }
   ],
   "source": [
    "print(\"Nulls en cada columna:\")\n",
    "dataset.isna().sum()"
   ]
  },
  {
   "cell_type": "markdown",
   "metadata": {},
   "source": [
    "### 1.3 Imputacion de valores faltantes"
   ]
  },
  {
   "cell_type": "code",
   "execution_count": 5,
   "metadata": {},
   "outputs": [
    {
     "name": "stderr",
     "output_type": "stream",
     "text": [
      "<ipython-input-5-cff293fb3bf1>:17: SettingWithCopyWarning: \n",
      "A value is trying to be set on a copy of a slice from a DataFrame\n",
      "\n",
      "See the caveats in the documentation: https://pandas.pydata.org/pandas-docs/stable/user_guide/indexing.html#returning-a-view-versus-a-copy\n",
      "  dataset['bathrooms'][row] = fill_bathroom(dataset['rooms'][row])\n"
     ]
    },
    {
     "data": {
      "text/plain": [
       "l2                     0\n",
       "l3                     0\n",
       "rooms                  0\n",
       "bedrooms               0\n",
       "bathrooms              0\n",
       "surface_total      20527\n",
       "surface_covered    21614\n",
       "price                  0\n",
       "property_type          0\n",
       "dtype: int64"
      ]
     },
     "execution_count": 5,
     "metadata": {},
     "output_type": "execute_result"
    }
   ],
   "source": [
    "#imputacion bathroom: regla de diseño.\n",
    "def fill_bathroom(room_count):\n",
    "    if (room_count < 3):\n",
    "        return 1\n",
    "    elif (room_count >= 3 and room_count < 5):\n",
    "        return 2\n",
    "    elif (room_count >= 5 and room_count < 7):\n",
    "        return 3\n",
    "    elif (room_count >= 8 and room_count < 10):\n",
    "        return 4\n",
    "    else:\n",
    "        return 5\n",
    "\n",
    "a = 0\n",
    "for row in dataset.index:\n",
    "    if(np.isnan(dataset['bathrooms'][row])):\n",
    "        dataset['bathrooms'][row] = fill_bathroom(dataset['rooms'][row])\n",
    "        a=a+1\n",
    "\n",
    "ds2 = dataset.copy()\n",
    "ds2.isna().sum()\n",
    "#print(a)"
   ]
  },
  {
   "cell_type": "markdown",
   "metadata": {},
   "source": [
    "### 1.4 Eliminacion de instancias con datos contradictorios"
   ]
  },
  {
   "cell_type": "markdown",
   "metadata": {},
   "source": [
    "Eliminamos aquellas instancias que tienen:\n",
    "   * Mayor superficie cubierta que superficie total\n",
    "   * Mayor cantidad de baños que habitaciones\n",
    "    "
   ]
  },
  {
   "cell_type": "code",
   "execution_count": 6,
   "metadata": {},
   "outputs": [],
   "source": [
    "if not \"_rooms\" in ds2:\n",
    "    ds2[\"_rooms\"] = ds2[\"rooms\"]-ds2[\"bedrooms\"]"
   ]
  },
  {
   "cell_type": "markdown",
   "metadata": {},
   "source": [
    "Checkpoint mas adelante si solo trabajamos con capital federal:\n",
    "\n",
    "* Departamento    62723\n",
    "* PH               9408\n",
    "* Casa             1979\n",
    "\n",
    "Muy pocas casas."
   ]
  },
  {
   "cell_type": "code",
   "execution_count": 7,
   "metadata": {},
   "outputs": [
    {
     "data": {
      "image/png": "[encoded data removed]",
      "text/plain": [
       "<Figure size 432x288 with 1 Axes>"
      ]
     },
     "metadata": {},
     "output_type": "display_data"
    },
    {
     "data": {
      "text/plain": [
       "(122426, 10)"
      ]
     },
     "execution_count": 7,
     "metadata": {},
     "output_type": "execute_result"
    }
   ],
   "source": [
    "#Solo capital federal\n",
    "#mask0 =(ds2[\"l2\"]==\"Capital Federal\")\n",
    "\n",
    "#sup cubierta mayor que sup total\n",
    "mask1 = (ds2['surface_total'] >= ds2['surface_covered'])\n",
    "  \n",
    "#mas baños que habitaciones\n",
    "mask2 = (ds2['rooms'] >= ds2['bathrooms'])\n",
    "\n",
    "#ds3 = ds2[mask0 & mask1 & mask2]\n",
    "ds3 = ds2[mask1 & mask2]\n",
    "\n",
    "d1 = ds3.shape[0]\n",
    "d2 = ds2.shape[0] - ds3.shape[0]\n",
    "\n",
    "labels = ['Dataset', 'Deleted']\n",
    "sizes = [d1, d2]  # Add upto 100%\n",
    " \n",
    "# Plot the pie chart\n",
    "plt.pie(sizes, labels=labels, autopct='%1.1f%%', startangle=90)\n",
    " \n",
    "# Equal aspect ratio ensures that pie is drawn as a circle.\n",
    "plt.axis('equal')\n",
    " \n",
    "# Display the graph onto the screen\n",
    "plt.show()\n",
    "\n",
    "ds3.shape"
   ]
  },
  {
   "cell_type": "code",
   "execution_count": 8,
   "metadata": {},
   "outputs": [
    {
     "data": {
      "text/plain": [
       "l2                 0\n",
       "l3                 0\n",
       "rooms              0\n",
       "bedrooms           0\n",
       "bathrooms          0\n",
       "surface_total      0\n",
       "surface_covered    0\n",
       "price              0\n",
       "property_type      0\n",
       "_rooms             0\n",
       "dtype: int64"
      ]
     },
     "execution_count": 8,
     "metadata": {},
     "output_type": "execute_result"
    }
   ],
   "source": [
    "ds2.isna().sum()\n",
    "ds3.isna().sum()\n"
   ]
  },
  {
   "cell_type": "code",
   "execution_count": 9,
   "metadata": {},
   "outputs": [
    {
     "data": {
      "text/plain": [
       "array(['Departamento', 'PH', 'Casa', 'Casa de campo', 'Oficina', 'Lote',\n",
       "       'Otro', 'Local comercial', 'Cochera', 'Depósito'], dtype=object)"
      ]
     },
     "execution_count": 9,
     "metadata": {},
     "output_type": "execute_result"
    }
   ],
   "source": [
    "pd.unique(ds3.loc[:,'property_type'])"
   ]
  },
  {
   "cell_type": "code",
   "execution_count": 10,
   "metadata": {},
   "outputs": [
    {
     "name": "stdout",
     "output_type": "stream",
     "text": [
      "Monoambientes: 0 Casos\n"
     ]
    }
   ],
   "source": [
    "#Propiedades que solo tienen bethrooms y bathrooms?\n",
    "mask4 = (ds3['_rooms'] > 0 | ds3['_rooms'].isna())\n",
    "\n",
    "#Propiedades que no tienen bedrooms? -> Monoambientes\n",
    "monoambientes= (ds3['bedrooms'].isna())\n",
    "print(\"Monoambientes: \" + str(monoambientes.sum()) + \" Casos\")\n",
    "\n",
    "mask5 = ((ds3['property_type'] == \"PH\") | (ds3['property_type'] == \"Departamento\") | (ds3['property_type'] == \"Casa\"))\n",
    "\n",
    "ds4 = ds3[mask4 & mask5]"
   ]
  },
  {
   "cell_type": "code",
   "execution_count": 11,
   "metadata": {},
   "outputs": [
    {
     "data": {
      "text/plain": [
       "113233"
      ]
     },
     "execution_count": 11,
     "metadata": {},
     "output_type": "execute_result"
    }
   ],
   "source": [
    "ds4.isnull().sum()\n",
    "ds4.head()\n",
    "ds4.shape[0]"
   ]
  },
  {
   "cell_type": "markdown",
   "metadata": {},
   "source": [
    "Podemos analizar la relacion que existe entre las variables surface_total y surface_covered."
   ]
  },
  {
   "cell_type": "markdown",
   "metadata": {},
   "source": [
    "Las eliminamos, no tiene mucho sentido mantenerlas o suponer algun valor."
   ]
  },
  {
   "cell_type": "markdown",
   "metadata": {},
   "source": [
    "#### Correlacion entre las variables"
   ]
  },
  {
   "cell_type": "code",
   "execution_count": 12,
   "metadata": {},
   "outputs": [],
   "source": [
    "corr = ds4.corr()"
   ]
  },
  {
   "cell_type": "code",
   "execution_count": 13,
   "metadata": {},
   "outputs": [
    {
     "data": {
      "text/plain": [
       "<AxesSubplot:>"
      ]
     },
     "execution_count": 13,
     "metadata": {},
     "output_type": "execute_result"
    },
    {
     "data": {
      "image/png": "[encoded data removed]",
      "text/plain": [
       "<Figure size 432x288 with 2 Axes>"
      ]
     },
     "metadata": {
      "needs_background": "light"
     },
     "output_type": "display_data"
    }
   ],
   "source": [
    "sns.heatmap(corr, cbar = True, annot = True )"
   ]
  },
  {
   "cell_type": "markdown",
   "metadata": {},
   "source": [
    "#### Determinacion de Outliers"
   ]
  },
  {
   "cell_type": "code",
   "execution_count": 14,
   "metadata": {},
   "outputs": [
    {
     "data": {
      "text/plain": [
       "Departamento    83950\n",
       "Casa            15617\n",
       "PH              13666\n",
       "Name: property_type, dtype: int64"
      ]
     },
     "execution_count": 14,
     "metadata": {},
     "output_type": "execute_result"
    }
   ],
   "source": [
    "ds4.property_type.value_counts()"
   ]
  },
  {
   "cell_type": "code",
   "execution_count": 15,
   "metadata": {},
   "outputs": [],
   "source": [
    "def set_outliers(p):\n",
    "    ceil = p.mean()+3*(p.std())\n",
    "    floor = p.mean()-3*(p.std())\n",
    "    print(\"Max value: \", ceil)\n",
    "    print(\"Min value: \", floor)\n",
    "    print(\"The rest is not common\")"
   ]
  },
  {
   "cell_type": "code",
   "execution_count": 16,
   "metadata": {},
   "outputs": [
    {
     "name": "stdout",
     "output_type": "stream",
     "text": [
      "Max value:  3.8703190499756097\n",
      "Min value:  -0.7977758695110471\n",
      "The rest is not common\n",
      "Max value:  6.124998434394097\n",
      "Min value:  -0.22196091205937352\n",
      "The rest is not common\n",
      "Max value:  1431.3684017838773\n",
      "Min value:  -1263.1104387106193\n",
      "The rest is not common\n",
      "Max value:  1109073.4488752396\n",
      "Min value:  -607339.7834076993\n",
      "The rest is not common\n"
     ]
    }
   ],
   "source": [
    "deptos = ds4[ds4.property_type==\"Departamento\"]\n",
    "set_outliers(deptos.bathrooms)\n",
    "set_outliers(deptos.rooms)\n",
    "set_outliers(deptos.surface_covered)\n",
    "set_outliers(deptos.price)"
   ]
  },
  {
   "cell_type": "markdown",
   "metadata": {},
   "source": [
    "En ninguno de estos casos tendremos valores negativos. Los limites inferiores se re definen de la siguiente manera:\n",
    "* Cantidad minima de baños : 1\n",
    "* Cantidad minima de rooms : 1\n",
    "* Superficie minima : 35m2\n",
    "* Precio minimo : 20 mil dolares\n",
    "\n",
    "Los valores arrojados para surface_covered no son aceptables. Se determina como valor maximo 300m2"
   ]
  },
  {
   "cell_type": "code",
   "execution_count": 17,
   "metadata": {},
   "outputs": [
    {
     "data": {
      "image/png": "[encoded data removed]",
      "text/plain": [
       "<Figure size 1440x720 with 3 Axes>"
      ]
     },
     "metadata": {
      "needs_background": "light"
     },
     "output_type": "display_data"
    }
   ],
   "source": [
    "dptos_mask= ((ds4['property_type']=='Departamento')&\n",
    "            (ds4['bathrooms']<=4)&\n",
    "            (ds4['rooms'] <=6)&\n",
    "            (ds4['surface_total']<=300)&\n",
    "            (ds4['surface_total']>=20)&\n",
    "            (ds4['price']<1000000))\n",
    "\n",
    "plt.figure(figsize=(20, 10))\n",
    "\n",
    "plt.subplot(3,1,1)\n",
    "sns.boxplot(data = ds4[dptos_mask], x = 'surface_total')\n",
    "plt.ylabel('Dpto', size = 30)\n",
    "\n",
    "plt.subplot(3,1,2)\n",
    "sns.boxplot(data = ds4[dptos_mask], x = 'price')\n",
    "plt.ylabel('Dpto', size = 30)\n",
    "\n",
    "plt.subplot(3,1,3)\n",
    "sns.boxplot(data = ds4[dptos_mask], x = 'rooms')\n",
    "plt.ylabel('Dpto', size = 30)\n",
    "\n",
    "corr_dpto=ds4[dptos_mask].corr()"
   ]
  },
  {
   "cell_type": "code",
   "execution_count": 18,
   "metadata": {},
   "outputs": [
    {
     "name": "stdout",
     "output_type": "stream",
     "text": [
      "Bathrooms\n",
      "Max value:  5.3365610006226\n",
      "Min value:  -1.1338332039907253\n",
      "The rest is not common\n",
      "--------\n",
      "Rooms\n",
      "Max value:  9.17837199368896\n",
      "Min value:  0.04106835977201051\n",
      "The rest is not common\n",
      "--------\n",
      "Surface covered\n",
      "Max value:  3280.043025487179\n",
      "Min value:  -2845.964393227462\n",
      "The rest is not common\n",
      "--------\n",
      "Price\n",
      "Max value:  1101338.277953481\n",
      "Min value:  -555694.1816481727\n",
      "The rest is not common\n"
     ]
    }
   ],
   "source": [
    "casas = ds4[ds4.property_type==\"Casa\"]\n",
    "print(\"Bathrooms\")\n",
    "set_outliers(casas.bathrooms)\n",
    "print(\"--------\")\n",
    "print(\"Rooms\")\n",
    "set_outliers(casas.rooms)\n",
    "print(\"--------\")\n",
    "print(\"Surface covered\")\n",
    "set_outliers(casas.surface_covered)\n",
    "print(\"--------\")\n",
    "print(\"Price\")\n",
    "set_outliers(casas.price)"
   ]
  },
  {
   "cell_type": "code",
   "execution_count": 19,
   "metadata": {},
   "outputs": [
    {
     "data": {
      "image/png": "[encoded data removed]",
      "text/plain": [
       "<Figure size 1440x720 with 3 Axes>"
      ]
     },
     "metadata": {
      "needs_background": "light"
     },
     "output_type": "display_data"
    }
   ],
   "source": [
    "casa_mask= ((ds4['property_type']=='Casa')&\n",
    "            (ds4['bathrooms']<=6)&\n",
    "            (ds4['rooms']<=10)&\n",
    "            (ds4['surface_total']<=1000)&\n",
    "            (ds4['surface_total']>=60)&\n",
    "            (ds4['price']<1200000))\n",
    "\n",
    "plt.figure(figsize=(20, 10))\n",
    "\n",
    "plt.subplot(3,1,1)\n",
    "sns.boxplot(data = ds4[casa_mask], x = 'surface_total')\n",
    "plt.ylabel('Casa', size = 30)\n",
    "\n",
    "plt.subplot(3,1,2)\n",
    "sns.boxplot(data = ds4[casa_mask], x = 'price')\n",
    "plt.ylabel('Casa', size = 30)\n",
    "\n",
    "plt.subplot(3,1,3)\n",
    "sns.boxplot(data = ds4[casa_mask], x = 'rooms')\n",
    "plt.ylabel('Casa', size = 30)\n",
    "\n",
    "corr_dpto=ds4[casa_mask].corr()"
   ]
  },
  {
   "cell_type": "code",
   "execution_count": 20,
   "metadata": {},
   "outputs": [
    {
     "name": "stdout",
     "output_type": "stream",
     "text": [
      "Bathrooms\n",
      "Max value:  3.6853264809502875\n",
      "Min value:  -0.7109374863651858\n",
      "The rest is not common\n",
      "--------\n",
      "Rooms\n",
      "Max value:  2.7877003295583567\n",
      "Min value:  -0.5059792699944758\n",
      "The rest is not common\n",
      "--------\n",
      "Surface covered\n",
      "Max value:  4734.6854143216815\n",
      "Min value:  -4498.409547206212\n",
      "The rest is not common\n",
      "--------\n",
      "Price\n",
      "Max value:  528922.8386300481\n",
      "Min value:  -148598.12035110762\n",
      "The rest is not common\n"
     ]
    }
   ],
   "source": [
    "phs = ds4[ds4.property_type==\"PH\"]\n",
    "print(\"Bathrooms\")\n",
    "set_outliers(phs.bathrooms)\n",
    "print(\"--------\")\n",
    "print(\"Rooms\")\n",
    "set_outliers(phs._rooms)\n",
    "print(\"--------\")\n",
    "print(\"Surface covered\")\n",
    "set_outliers(phs.surface_covered)\n",
    "print(\"--------\")\n",
    "print(\"Price\")\n",
    "set_outliers(phs.price)"
   ]
  },
  {
   "cell_type": "code",
   "execution_count": 21,
   "metadata": {},
   "outputs": [
    {
     "data": {
      "image/png": "[encoded data removed]",
      "text/plain": [
       "<Figure size 1440x720 with 3 Axes>"
      ]
     },
     "metadata": {
      "needs_background": "light"
     },
     "output_type": "display_data"
    }
   ],
   "source": [
    "phs_mask= ((ds4['property_type']=='Casa')&\n",
    "            (ds4['bathrooms']<=4)&\n",
    "            (ds4['rooms']<=9)&\n",
    "            (ds4['surface_total']<=650)&\n",
    "            (ds4['surface_total']>=50)&\n",
    "            (ds4['price']<600000))\n",
    "\n",
    "plt.figure(figsize=(20, 10))\n",
    "\n",
    "plt.subplot(3,1,1)\n",
    "sns.boxplot(data = ds4[phs_mask], x = 'surface_total')\n",
    "plt.ylabel('Ph', size = 30)\n",
    "\n",
    "plt.subplot(3,1,2)\n",
    "sns.boxplot(data = ds4[phs_mask], x = 'price')\n",
    "plt.ylabel('Ph', size = 30)\n",
    "\n",
    "plt.subplot(3,1,3)\n",
    "sns.boxplot(data = ds4[phs_mask], x = 'rooms')\n",
    "plt.ylabel('Ph', size = 30)\n",
    "\n",
    "corr_dpto=ds4[phs_mask].corr()"
   ]
  },
  {
   "cell_type": "markdown",
   "metadata": {},
   "source": [
    "### Encoding"
   ]
  },
  {
   "cell_type": "code",
   "execution_count": 22,
   "metadata": {},
   "outputs": [
    {
     "data": {
      "text/html": [
       "<div>\n",
       "<style scoped>\n",
       "    .dataframe tbody tr th:only-of-type {\n",
       "        vertical-align: middle;\n",
       "    }\n",
       "\n",
       "    .dataframe tbody tr th {\n",
       "        vertical-align: top;\n",
       "    }\n",
       "\n",
       "    .dataframe thead th {\n",
       "        text-align: right;\n",
       "    }\n",
       "</style>\n",
       "<table border=\"1\" class=\"dataframe\">\n",
       "  <thead>\n",
       "    <tr style=\"text-align: right;\">\n",
       "      <th></th>\n",
       "      <th>l2</th>\n",
       "      <th>l3</th>\n",
       "      <th>rooms</th>\n",
       "      <th>bedrooms</th>\n",
       "      <th>bathrooms</th>\n",
       "      <th>surface_total</th>\n",
       "      <th>surface_covered</th>\n",
       "      <th>Enc_Barrio</th>\n",
       "      <th>price</th>\n",
       "      <th>property_type</th>\n",
       "      <th>_rooms</th>\n",
       "    </tr>\n",
       "  </thead>\n",
       "  <tbody>\n",
       "    <tr>\n",
       "      <th>1</th>\n",
       "      <td>Capital Federal</td>\n",
       "      <td>Boedo</td>\n",
       "      <td>2.0</td>\n",
       "      <td>1.0</td>\n",
       "      <td>2.0</td>\n",
       "      <td>70.0</td>\n",
       "      <td>58.0</td>\n",
       "      <td>11</td>\n",
       "      <td>159000.0</td>\n",
       "      <td>PH</td>\n",
       "      <td>1.0</td>\n",
       "    </tr>\n",
       "    <tr>\n",
       "      <th>2</th>\n",
       "      <td>Capital Federal</td>\n",
       "      <td>Palermo</td>\n",
       "      <td>2.0</td>\n",
       "      <td>1.0</td>\n",
       "      <td>1.0</td>\n",
       "      <td>45.0</td>\n",
       "      <td>45.0</td>\n",
       "      <td>48</td>\n",
       "      <td>125000.0</td>\n",
       "      <td>PH</td>\n",
       "      <td>1.0</td>\n",
       "    </tr>\n",
       "    <tr>\n",
       "      <th>3</th>\n",
       "      <td>Capital Federal</td>\n",
       "      <td>Palermo</td>\n",
       "      <td>2.0</td>\n",
       "      <td>1.0</td>\n",
       "      <td>1.0</td>\n",
       "      <td>85.0</td>\n",
       "      <td>50.0</td>\n",
       "      <td>48</td>\n",
       "      <td>295000.0</td>\n",
       "      <td>PH</td>\n",
       "      <td>1.0</td>\n",
       "    </tr>\n",
       "    <tr>\n",
       "      <th>4</th>\n",
       "      <td>Bs.As. G.B.A. Zona Sur</td>\n",
       "      <td>La Plata</td>\n",
       "      <td>2.0</td>\n",
       "      <td>1.0</td>\n",
       "      <td>1.0</td>\n",
       "      <td>50.0</td>\n",
       "      <td>35.0</td>\n",
       "      <td>33</td>\n",
       "      <td>40000.0</td>\n",
       "      <td>PH</td>\n",
       "      <td>1.0</td>\n",
       "    </tr>\n",
       "    <tr>\n",
       "      <th>5</th>\n",
       "      <td>Capital Federal</td>\n",
       "      <td>Villa Crespo</td>\n",
       "      <td>2.0</td>\n",
       "      <td>1.0</td>\n",
       "      <td>1.0</td>\n",
       "      <td>56.0</td>\n",
       "      <td>56.0</td>\n",
       "      <td>76</td>\n",
       "      <td>150000.0</td>\n",
       "      <td>PH</td>\n",
       "      <td>1.0</td>\n",
       "    </tr>\n",
       "  </tbody>\n",
       "</table>\n",
       "</div>"
      ],
      "text/plain": [
       "                       l2            l3  rooms  bedrooms  bathrooms  \\\n",
       "1         Capital Federal         Boedo    2.0       1.0        2.0   \n",
       "2         Capital Federal       Palermo    2.0       1.0        1.0   \n",
       "3         Capital Federal       Palermo    2.0       1.0        1.0   \n",
       "4  Bs.As. G.B.A. Zona Sur      La Plata    2.0       1.0        1.0   \n",
       "5         Capital Federal  Villa Crespo    2.0       1.0        1.0   \n",
       "\n",
       "   surface_total  surface_covered  Enc_Barrio     price property_type  _rooms  \n",
       "1           70.0             58.0          11  159000.0            PH     1.0  \n",
       "2           45.0             45.0          48  125000.0            PH     1.0  \n",
       "3           85.0             50.0          48  295000.0            PH     1.0  \n",
       "4           50.0             35.0          33   40000.0            PH     1.0  \n",
       "5           56.0             56.0          76  150000.0            PH     1.0  "
      ]
     },
     "execution_count": 22,
     "metadata": {},
     "output_type": "execute_result"
    }
   ],
   "source": [
    "enc = LabelEncoder()\n",
    "l3_labels = enc.fit_transform(ds4[\"l3\"])\n",
    "ds4.insert(7,\"Enc_Barrio\",l3_labels)\n",
    "ds4.head()"
   ]
  },
  {
   "cell_type": "code",
   "execution_count": 23,
   "metadata": {},
   "outputs": [],
   "source": [
    "enc_property_type = pd.get_dummies(ds4.property_type, drop_first= True)\n",
    "enc_property_type.index = ds4.index"
   ]
  },
  {
   "cell_type": "code",
   "execution_count": 24,
   "metadata": {},
   "outputs": [
    {
     "data": {
      "text/html": [
       "<div>\n",
       "<style scoped>\n",
       "    .dataframe tbody tr th:only-of-type {\n",
       "        vertical-align: middle;\n",
       "    }\n",
       "\n",
       "    .dataframe tbody tr th {\n",
       "        vertical-align: top;\n",
       "    }\n",
       "\n",
       "    .dataframe thead th {\n",
       "        text-align: right;\n",
       "    }\n",
       "</style>\n",
       "<table border=\"1\" class=\"dataframe\">\n",
       "  <thead>\n",
       "    <tr style=\"text-align: right;\">\n",
       "      <th></th>\n",
       "      <th>l2</th>\n",
       "      <th>l3</th>\n",
       "      <th>rooms</th>\n",
       "      <th>bedrooms</th>\n",
       "      <th>bathrooms</th>\n",
       "      <th>surface_total</th>\n",
       "      <th>surface_covered</th>\n",
       "      <th>Enc_Barrio</th>\n",
       "      <th>price</th>\n",
       "      <th>property_type</th>\n",
       "      <th>_rooms</th>\n",
       "    </tr>\n",
       "  </thead>\n",
       "  <tbody>\n",
       "    <tr>\n",
       "      <th>1</th>\n",
       "      <td>Capital Federal</td>\n",
       "      <td>Boedo</td>\n",
       "      <td>2.0</td>\n",
       "      <td>1.0</td>\n",
       "      <td>2.0</td>\n",
       "      <td>70.0</td>\n",
       "      <td>58.0</td>\n",
       "      <td>11</td>\n",
       "      <td>159000.0</td>\n",
       "      <td>PH</td>\n",
       "      <td>1.0</td>\n",
       "    </tr>\n",
       "    <tr>\n",
       "      <th>2</th>\n",
       "      <td>Capital Federal</td>\n",
       "      <td>Palermo</td>\n",
       "      <td>2.0</td>\n",
       "      <td>1.0</td>\n",
       "      <td>1.0</td>\n",
       "      <td>45.0</td>\n",
       "      <td>45.0</td>\n",
       "      <td>48</td>\n",
       "      <td>125000.0</td>\n",
       "      <td>PH</td>\n",
       "      <td>1.0</td>\n",
       "    </tr>\n",
       "    <tr>\n",
       "      <th>3</th>\n",
       "      <td>Capital Federal</td>\n",
       "      <td>Palermo</td>\n",
       "      <td>2.0</td>\n",
       "      <td>1.0</td>\n",
       "      <td>1.0</td>\n",
       "      <td>85.0</td>\n",
       "      <td>50.0</td>\n",
       "      <td>48</td>\n",
       "      <td>295000.0</td>\n",
       "      <td>PH</td>\n",
       "      <td>1.0</td>\n",
       "    </tr>\n",
       "    <tr>\n",
       "      <th>4</th>\n",
       "      <td>Bs.As. G.B.A. Zona Sur</td>\n",
       "      <td>La Plata</td>\n",
       "      <td>2.0</td>\n",
       "      <td>1.0</td>\n",
       "      <td>1.0</td>\n",
       "      <td>50.0</td>\n",
       "      <td>35.0</td>\n",
       "      <td>33</td>\n",
       "      <td>40000.0</td>\n",
       "      <td>PH</td>\n",
       "      <td>1.0</td>\n",
       "    </tr>\n",
       "    <tr>\n",
       "      <th>5</th>\n",
       "      <td>Capital Federal</td>\n",
       "      <td>Villa Crespo</td>\n",
       "      <td>2.0</td>\n",
       "      <td>1.0</td>\n",
       "      <td>1.0</td>\n",
       "      <td>56.0</td>\n",
       "      <td>56.0</td>\n",
       "      <td>76</td>\n",
       "      <td>150000.0</td>\n",
       "      <td>PH</td>\n",
       "      <td>1.0</td>\n",
       "    </tr>\n",
       "  </tbody>\n",
       "</table>\n",
       "</div>"
      ],
      "text/plain": [
       "                       l2            l3  rooms  bedrooms  bathrooms  \\\n",
       "1         Capital Federal         Boedo    2.0       1.0        2.0   \n",
       "2         Capital Federal       Palermo    2.0       1.0        1.0   \n",
       "3         Capital Federal       Palermo    2.0       1.0        1.0   \n",
       "4  Bs.As. G.B.A. Zona Sur      La Plata    2.0       1.0        1.0   \n",
       "5         Capital Federal  Villa Crespo    2.0       1.0        1.0   \n",
       "\n",
       "   surface_total  surface_covered  Enc_Barrio     price property_type  _rooms  \n",
       "1           70.0             58.0          11  159000.0            PH     1.0  \n",
       "2           45.0             45.0          48  125000.0            PH     1.0  \n",
       "3           85.0             50.0          48  295000.0            PH     1.0  \n",
       "4           50.0             35.0          33   40000.0            PH     1.0  \n",
       "5           56.0             56.0          76  150000.0            PH     1.0  "
      ]
     },
     "execution_count": 24,
     "metadata": {},
     "output_type": "execute_result"
    }
   ],
   "source": [
    "ds4.head()"
   ]
  },
  {
   "cell_type": "code",
   "execution_count": 25,
   "metadata": {},
   "outputs": [
    {
     "name": "stderr",
     "output_type": "stream",
     "text": [
      "C:\\Users\\Usuario\\anaconda3\\lib\\site-packages\\pandas\\core\\frame.py:4163: SettingWithCopyWarning: \n",
      "A value is trying to be set on a copy of a slice from a DataFrame\n",
      "\n",
      "See the caveats in the documentation: https://pandas.pydata.org/pandas-docs/stable/user_guide/indexing.html#returning-a-view-versus-a-copy\n",
      "  return super().drop(\n"
     ]
    },
    {
     "data": {
      "text/html": [
       "<div>\n",
       "<style scoped>\n",
       "    .dataframe tbody tr th:only-of-type {\n",
       "        vertical-align: middle;\n",
       "    }\n",
       "\n",
       "    .dataframe tbody tr th {\n",
       "        vertical-align: top;\n",
       "    }\n",
       "\n",
       "    .dataframe thead th {\n",
       "        text-align: right;\n",
       "    }\n",
       "</style>\n",
       "<table border=\"1\" class=\"dataframe\">\n",
       "  <thead>\n",
       "    <tr style=\"text-align: right;\">\n",
       "      <th></th>\n",
       "      <th>rooms</th>\n",
       "      <th>bedrooms</th>\n",
       "      <th>bathrooms</th>\n",
       "      <th>surface_total</th>\n",
       "      <th>surface_covered</th>\n",
       "      <th>Enc_Barrio</th>\n",
       "      <th>price</th>\n",
       "      <th>_rooms</th>\n",
       "      <th>Departamento</th>\n",
       "      <th>PH</th>\n",
       "    </tr>\n",
       "  </thead>\n",
       "  <tbody>\n",
       "    <tr>\n",
       "      <th>1</th>\n",
       "      <td>2.0</td>\n",
       "      <td>1.0</td>\n",
       "      <td>2.0</td>\n",
       "      <td>70.0</td>\n",
       "      <td>58.0</td>\n",
       "      <td>11</td>\n",
       "      <td>159000.0</td>\n",
       "      <td>1.0</td>\n",
       "      <td>0</td>\n",
       "      <td>1</td>\n",
       "    </tr>\n",
       "    <tr>\n",
       "      <th>2</th>\n",
       "      <td>2.0</td>\n",
       "      <td>1.0</td>\n",
       "      <td>1.0</td>\n",
       "      <td>45.0</td>\n",
       "      <td>45.0</td>\n",
       "      <td>48</td>\n",
       "      <td>125000.0</td>\n",
       "      <td>1.0</td>\n",
       "      <td>0</td>\n",
       "      <td>1</td>\n",
       "    </tr>\n",
       "    <tr>\n",
       "      <th>3</th>\n",
       "      <td>2.0</td>\n",
       "      <td>1.0</td>\n",
       "      <td>1.0</td>\n",
       "      <td>85.0</td>\n",
       "      <td>50.0</td>\n",
       "      <td>48</td>\n",
       "      <td>295000.0</td>\n",
       "      <td>1.0</td>\n",
       "      <td>0</td>\n",
       "      <td>1</td>\n",
       "    </tr>\n",
       "    <tr>\n",
       "      <th>4</th>\n",
       "      <td>2.0</td>\n",
       "      <td>1.0</td>\n",
       "      <td>1.0</td>\n",
       "      <td>50.0</td>\n",
       "      <td>35.0</td>\n",
       "      <td>33</td>\n",
       "      <td>40000.0</td>\n",
       "      <td>1.0</td>\n",
       "      <td>0</td>\n",
       "      <td>1</td>\n",
       "    </tr>\n",
       "    <tr>\n",
       "      <th>5</th>\n",
       "      <td>2.0</td>\n",
       "      <td>1.0</td>\n",
       "      <td>1.0</td>\n",
       "      <td>56.0</td>\n",
       "      <td>56.0</td>\n",
       "      <td>76</td>\n",
       "      <td>150000.0</td>\n",
       "      <td>1.0</td>\n",
       "      <td>0</td>\n",
       "      <td>1</td>\n",
       "    </tr>\n",
       "  </tbody>\n",
       "</table>\n",
       "</div>"
      ],
      "text/plain": [
       "   rooms  bedrooms  bathrooms  surface_total  surface_covered  Enc_Barrio  \\\n",
       "1    2.0       1.0        2.0           70.0             58.0          11   \n",
       "2    2.0       1.0        1.0           45.0             45.0          48   \n",
       "3    2.0       1.0        1.0           85.0             50.0          48   \n",
       "4    2.0       1.0        1.0           50.0             35.0          33   \n",
       "5    2.0       1.0        1.0           56.0             56.0          76   \n",
       "\n",
       "      price  _rooms  Departamento  PH  \n",
       "1  159000.0     1.0             0   1  \n",
       "2  125000.0     1.0             0   1  \n",
       "3  295000.0     1.0             0   1  \n",
       "4   40000.0     1.0             0   1  \n",
       "5  150000.0     1.0             0   1  "
      ]
     },
     "execution_count": 25,
     "metadata": {},
     "output_type": "execute_result"
    }
   ],
   "source": [
    "ds4.drop(\"l2\", axis = 1, inplace = True)\n",
    "ds4.drop(\"l3\", axis = 1, inplace = True)\n",
    "ds4.drop(\"property_type\", axis = 1, inplace = True)\n",
    "ds4 = pd.concat([ds4, enc_property_type], axis=1)\n",
    "ds4.head()"
   ]
  },
  {
   "cell_type": "markdown",
   "metadata": {},
   "source": [
    "#### Separacion de los datos"
   ]
  },
  {
   "cell_type": "code",
   "execution_count": 26,
   "metadata": {},
   "outputs": [],
   "source": [
    "X=ds4.drop((\"price\"), axis=1)\n",
    "y=ds4.price\n",
    "\n",
    "X_Train, X_Test, y_train, y_test = train_test_split(X,y,test_size=0.33, random_state=42)"
   ]
  },
  {
   "cell_type": "markdown",
   "metadata": {},
   "source": [
    "#### Escalado de los datos"
   ]
  },
  {
   "cell_type": "code",
   "execution_count": 27,
   "metadata": {},
   "outputs": [],
   "source": [
    "#Separamos aquellos datos no numericos.\n",
    "train_features = X_Train.loc[:,[ \"bedrooms\", \"bathrooms\", \"surface_total\", \"surface_covered\",\"rooms\"]]\n",
    "test_features = X_Test.loc[:,[\"bedrooms\", \"bathrooms\", \"surface_total\", \"surface_covered\",\"rooms\"]]"
   ]
  },
  {
   "cell_type": "code",
   "execution_count": 28,
   "metadata": {},
   "outputs": [],
   "source": [
    "Scaler = MinMaxScaler()"
   ]
  },
  {
   "cell_type": "code",
   "execution_count": 29,
   "metadata": {},
   "outputs": [],
   "source": [
    "train_features_scaled = Scaler.fit_transform(train_features)\n",
    "test_features_scaled = Scaler.transform(test_features)"
   ]
  },
  {
   "cell_type": "code",
   "execution_count": 30,
   "metadata": {},
   "outputs": [
    {
     "name": "stderr",
     "output_type": "stream",
     "text": [
      "C:\\Users\\Usuario\\anaconda3\\lib\\site-packages\\pandas\\core\\indexing.py:1736: SettingWithCopyWarning: \n",
      "A value is trying to be set on a copy of a slice from a DataFrame.\n",
      "Try using .loc[row_indexer,col_indexer] = value instead\n",
      "\n",
      "See the caveats in the documentation: https://pandas.pydata.org/pandas-docs/stable/user_guide/indexing.html#returning-a-view-versus-a-copy\n",
      "  isetter(loc, value[:, i].tolist())\n"
     ]
    }
   ],
   "source": [
    "X_Train.loc[:,train_features.columns] = train_features_scaled\n",
    "X_Test.loc[:,test_features.columns] = test_features_scaled"
   ]
  },
  {
   "cell_type": "code",
   "execution_count": 31,
   "metadata": {},
   "outputs": [
    {
     "data": {
      "text/html": [
       "<div>\n",
       "<style scoped>\n",
       "    .dataframe tbody tr th:only-of-type {\n",
       "        vertical-align: middle;\n",
       "    }\n",
       "\n",
       "    .dataframe tbody tr th {\n",
       "        vertical-align: top;\n",
       "    }\n",
       "\n",
       "    .dataframe thead th {\n",
       "        text-align: right;\n",
       "    }\n",
       "</style>\n",
       "<table border=\"1\" class=\"dataframe\">\n",
       "  <thead>\n",
       "    <tr style=\"text-align: right;\">\n",
       "      <th></th>\n",
       "      <th>rooms</th>\n",
       "      <th>bedrooms</th>\n",
       "      <th>bathrooms</th>\n",
       "      <th>surface_total</th>\n",
       "      <th>surface_covered</th>\n",
       "      <th>Enc_Barrio</th>\n",
       "      <th>_rooms</th>\n",
       "      <th>Departamento</th>\n",
       "      <th>PH</th>\n",
       "    </tr>\n",
       "  </thead>\n",
       "  <tbody>\n",
       "    <tr>\n",
       "      <th>131535</th>\n",
       "      <td>0.088235</td>\n",
       "      <td>0.200000</td>\n",
       "      <td>0.000000</td>\n",
       "      <td>0.012059</td>\n",
       "      <td>0.000785</td>\n",
       "      <td>44</td>\n",
       "      <td>1.0</td>\n",
       "      <td>0</td>\n",
       "      <td>0</td>\n",
       "    </tr>\n",
       "    <tr>\n",
       "      <th>3163</th>\n",
       "      <td>0.088235</td>\n",
       "      <td>0.200000</td>\n",
       "      <td>0.083333</td>\n",
       "      <td>0.001253</td>\n",
       "      <td>0.001237</td>\n",
       "      <td>8</td>\n",
       "      <td>1.0</td>\n",
       "      <td>1</td>\n",
       "      <td>0</td>\n",
       "    </tr>\n",
       "    <tr>\n",
       "      <th>18247</th>\n",
       "      <td>0.058824</td>\n",
       "      <td>0.133333</td>\n",
       "      <td>0.000000</td>\n",
       "      <td>0.000460</td>\n",
       "      <td>0.000468</td>\n",
       "      <td>54</td>\n",
       "      <td>1.0</td>\n",
       "      <td>1</td>\n",
       "      <td>0</td>\n",
       "    </tr>\n",
       "    <tr>\n",
       "      <th>92053</th>\n",
       "      <td>0.058824</td>\n",
       "      <td>0.133333</td>\n",
       "      <td>0.000000</td>\n",
       "      <td>0.000397</td>\n",
       "      <td>0.000468</td>\n",
       "      <td>46</td>\n",
       "      <td>1.0</td>\n",
       "      <td>1</td>\n",
       "      <td>0</td>\n",
       "    </tr>\n",
       "    <tr>\n",
       "      <th>14130</th>\n",
       "      <td>0.088235</td>\n",
       "      <td>0.200000</td>\n",
       "      <td>0.000000</td>\n",
       "      <td>0.000682</td>\n",
       "      <td>0.000666</td>\n",
       "      <td>76</td>\n",
       "      <td>1.0</td>\n",
       "      <td>1</td>\n",
       "      <td>0</td>\n",
       "    </tr>\n",
       "  </tbody>\n",
       "</table>\n",
       "</div>"
      ],
      "text/plain": [
       "           rooms  bedrooms  bathrooms  surface_total  surface_covered  \\\n",
       "131535  0.088235  0.200000   0.000000       0.012059         0.000785   \n",
       "3163    0.088235  0.200000   0.083333       0.001253         0.001237   \n",
       "18247   0.058824  0.133333   0.000000       0.000460         0.000468   \n",
       "92053   0.058824  0.133333   0.000000       0.000397         0.000468   \n",
       "14130   0.088235  0.200000   0.000000       0.000682         0.000666   \n",
       "\n",
       "        Enc_Barrio  _rooms  Departamento  PH  \n",
       "131535          44     1.0             0   0  \n",
       "3163             8     1.0             1   0  \n",
       "18247           54     1.0             1   0  \n",
       "92053           46     1.0             1   0  \n",
       "14130           76     1.0             1   0  "
      ]
     },
     "execution_count": 31,
     "metadata": {},
     "output_type": "execute_result"
    }
   ],
   "source": [
    "X_Train.head()"
   ]
  },
  {
   "cell_type": "markdown",
   "metadata": {},
   "source": [
    "#### Reduccion de dimensionalidad"
   ]
  },
  {
   "cell_type": "code",
   "execution_count": 32,
   "metadata": {},
   "outputs": [],
   "source": [
    "pca=PCA(n_components = 3)\n",
    "x_train_pca = pca.fit_transform(X_Train.loc[:,[\"rooms\",\"bathrooms\", \"bedrooms\"]])\n",
    "x_test_pca = pca.fit_transform(X_Test.loc[:,[\"rooms\",\"bathrooms\", \"bedrooms\"]])\n",
    "x_train_pca = pd.DataFrame(x_train_pca)\n",
    "x_test_pca=  pd.DataFrame(x_test_pca)"
   ]
  },
  {
   "cell_type": "code",
   "execution_count": 33,
   "metadata": {},
   "outputs": [],
   "source": [
    "x_train_pca.index=X_Train.index\n",
    "x_test_pca.index=X_Test.index"
   ]
  },
  {
   "cell_type": "code",
   "execution_count": 34,
   "metadata": {},
   "outputs": [
    {
     "data": {
      "text/plain": [
       "array([0.80972099, 0.17645762, 0.01382139])"
      ]
     },
     "execution_count": 34,
     "metadata": {},
     "output_type": "execute_result"
    }
   ],
   "source": [
    "pca.explained_variance_ratio_"
   ]
  },
  {
   "cell_type": "code",
   "execution_count": 35,
   "metadata": {},
   "outputs": [
    {
     "data": {
      "image/png": "[encoded data removed]",
      "text/plain": [
       "<Figure size 432x288 with 1 Axes>"
      ]
     },
     "metadata": {
      "needs_background": "light"
     },
     "output_type": "display_data"
    }
   ],
   "source": [
    "plt.plot(np.cumsum(pca.explained_variance_ratio_))\n",
    "plt.xlabel('number of components')\n",
    "plt.ylabel('cumulative explained variance')\n",
    "plt.show()"
   ]
  },
  {
   "cell_type": "code",
   "execution_count": 36,
   "metadata": {},
   "outputs": [
    {
     "data": {
      "text/plain": [
       "<matplotlib.legend.Legend at 0x23773305910>"
      ]
     },
     "execution_count": 36,
     "metadata": {},
     "output_type": "execute_result"
    },
    {
     "data": {
      "image/png": "[encoded data removed]",
      "text/plain": [
       "<Figure size 432x288 with 1 Axes>"
      ]
     },
     "metadata": {
      "needs_background": "light"
     },
     "output_type": "display_data"
    }
   ],
   "source": [
    "plt.bar(range(1,len(pca.explained_variance_ )+1),pca.explained_variance_ )\n",
    "plt.ylabel('Explained Variance')\n",
    "plt.xlabel('Components')\n",
    "plt.plot(range(1,len(pca.explained_variance_ )+1),\n",
    "         np.cumsum(pca.explained_variance_),\n",
    "         c='red',\n",
    "         label=\"Cumulative Explained Variance\")\n",
    "plt.legend(loc='upper left')"
   ]
  },
  {
   "cell_type": "markdown",
   "metadata": {},
   "source": [
    "Por medio del grafico vemos que es conveniente reducir la cantidad de features a 2. Con dos componentes estamos explicando el 99% de la varianza de los datos."
   ]
  },
  {
   "cell_type": "code",
   "execution_count": 37,
   "metadata": {},
   "outputs": [],
   "source": [
    "pca2 = PCA(n_components=2)\n",
    "x_train_pca2 = pca2.fit_transform(X_Train.loc[:,[\"rooms\",\"bathrooms\", \"bedrooms\"]])\n",
    "x_test_pca2 = pca2.fit_transform(X_Test.loc[:,[\"rooms\",\"bathrooms\", \"bedrooms\"]])\n",
    "x_train_pca2 = pd.DataFrame(x_train_pca2)\n",
    "x_test_pca2 =  pd.DataFrame(x_test_pca2)"
   ]
  },
  {
   "cell_type": "code",
   "execution_count": 38,
   "metadata": {},
   "outputs": [],
   "source": [
    "x_train_pca2.index=X_Train.index\n",
    "x_test_pca2.index=X_Test.index"
   ]
  },
  {
   "cell_type": "code",
   "execution_count": 39,
   "metadata": {},
   "outputs": [
    {
     "data": {
      "text/plain": [
       "array([0.80972099, 0.17645762])"
      ]
     },
     "execution_count": 39,
     "metadata": {},
     "output_type": "execute_result"
    }
   ],
   "source": [
    "pca2.explained_variance_ratio_"
   ]
  },
  {
   "cell_type": "code",
   "execution_count": 40,
   "metadata": {},
   "outputs": [],
   "source": [
    "X_Train = pd.concat([X_Train, x_train_pca2],axis=1)\n",
    "X_Train.drop([\"rooms\",\"bathrooms\", \"bedrooms\"],axis=1,inplace=True)\n",
    "\n",
    "X_Test = pd.concat([X_Test, x_test_pca2],axis=1)\n",
    "X_Test.drop([\"rooms\",\"bathrooms\", \"bedrooms\"],axis=1,inplace=True)"
   ]
  },
  {
   "cell_type": "code",
   "execution_count": 41,
   "metadata": {},
   "outputs": [
    {
     "data": {
      "text/html": [
       "<div>\n",
       "<style scoped>\n",
       "    .dataframe tbody tr th:only-of-type {\n",
       "        vertical-align: middle;\n",
       "    }\n",
       "\n",
       "    .dataframe tbody tr th {\n",
       "        vertical-align: top;\n",
       "    }\n",
       "\n",
       "    .dataframe thead th {\n",
       "        text-align: right;\n",
       "    }\n",
       "</style>\n",
       "<table border=\"1\" class=\"dataframe\">\n",
       "  <thead>\n",
       "    <tr style=\"text-align: right;\">\n",
       "      <th></th>\n",
       "      <th>surface_total</th>\n",
       "      <th>surface_covered</th>\n",
       "      <th>Enc_Barrio</th>\n",
       "      <th>_rooms</th>\n",
       "      <th>Departamento</th>\n",
       "      <th>PH</th>\n",
       "      <th>0</th>\n",
       "      <th>1</th>\n",
       "    </tr>\n",
       "  </thead>\n",
       "  <tbody>\n",
       "    <tr>\n",
       "      <th>131535</th>\n",
       "      <td>0.012059</td>\n",
       "      <td>0.000785</td>\n",
       "      <td>44</td>\n",
       "      <td>1.0</td>\n",
       "      <td>0</td>\n",
       "      <td>0</td>\n",
       "      <td>0.015448</td>\n",
       "      <td>0.079096</td>\n",
       "    </tr>\n",
       "    <tr>\n",
       "      <th>3163</th>\n",
       "      <td>0.001253</td>\n",
       "      <td>0.001237</td>\n",
       "      <td>8</td>\n",
       "      <td>1.0</td>\n",
       "      <td>1</td>\n",
       "      <td>0</td>\n",
       "      <td>0.068792</td>\n",
       "      <td>0.015102</td>\n",
       "    </tr>\n",
       "    <tr>\n",
       "      <th>18247</th>\n",
       "      <td>0.000460</td>\n",
       "      <td>0.000468</td>\n",
       "      <td>54</td>\n",
       "      <td>1.0</td>\n",
       "      <td>1</td>\n",
       "      <td>0</td>\n",
       "      <td>-0.040391</td>\n",
       "      <td>0.032437</td>\n",
       "    </tr>\n",
       "    <tr>\n",
       "      <th>92053</th>\n",
       "      <td>0.000397</td>\n",
       "      <td>0.000468</td>\n",
       "      <td>46</td>\n",
       "      <td>1.0</td>\n",
       "      <td>1</td>\n",
       "      <td>0</td>\n",
       "      <td>-0.040391</td>\n",
       "      <td>0.032437</td>\n",
       "    </tr>\n",
       "    <tr>\n",
       "      <th>14130</th>\n",
       "      <td>0.000682</td>\n",
       "      <td>0.000666</td>\n",
       "      <td>76</td>\n",
       "      <td>1.0</td>\n",
       "      <td>1</td>\n",
       "      <td>0</td>\n",
       "      <td>0.015448</td>\n",
       "      <td>0.079096</td>\n",
       "    </tr>\n",
       "    <tr>\n",
       "      <th>...</th>\n",
       "      <td>...</td>\n",
       "      <td>...</td>\n",
       "      <td>...</td>\n",
       "      <td>...</td>\n",
       "      <td>...</td>\n",
       "      <td>...</td>\n",
       "      <td>...</td>\n",
       "      <td>...</td>\n",
       "    </tr>\n",
       "    <tr>\n",
       "      <th>92683</th>\n",
       "      <td>0.002301</td>\n",
       "      <td>0.000412</td>\n",
       "      <td>9</td>\n",
       "      <td>1.0</td>\n",
       "      <td>0</td>\n",
       "      <td>0</td>\n",
       "      <td>-0.040391</td>\n",
       "      <td>0.032437</td>\n",
       "    </tr>\n",
       "    <tr>\n",
       "      <th>143445</th>\n",
       "      <td>0.000286</td>\n",
       "      <td>0.000357</td>\n",
       "      <td>70</td>\n",
       "      <td>1.0</td>\n",
       "      <td>1</td>\n",
       "      <td>0</td>\n",
       "      <td>-0.096230</td>\n",
       "      <td>-0.014221</td>\n",
       "    </tr>\n",
       "    <tr>\n",
       "      <th>136468</th>\n",
       "      <td>0.000262</td>\n",
       "      <td>0.000309</td>\n",
       "      <td>87</td>\n",
       "      <td>1.0</td>\n",
       "      <td>1</td>\n",
       "      <td>0</td>\n",
       "      <td>-0.096230</td>\n",
       "      <td>-0.014221</td>\n",
       "    </tr>\n",
       "    <tr>\n",
       "      <th>959</th>\n",
       "      <td>0.005363</td>\n",
       "      <td>0.005434</td>\n",
       "      <td>21</td>\n",
       "      <td>1.0</td>\n",
       "      <td>0</td>\n",
       "      <td>0</td>\n",
       "      <td>0.068792</td>\n",
       "      <td>0.015102</td>\n",
       "    </tr>\n",
       "    <tr>\n",
       "      <th>18940</th>\n",
       "      <td>0.000666</td>\n",
       "      <td>0.000571</td>\n",
       "      <td>88</td>\n",
       "      <td>1.0</td>\n",
       "      <td>0</td>\n",
       "      <td>1</td>\n",
       "      <td>-0.040391</td>\n",
       "      <td>0.032437</td>\n",
       "    </tr>\n",
       "  </tbody>\n",
       "</table>\n",
       "<p>75866 rows × 8 columns</p>\n",
       "</div>"
      ],
      "text/plain": [
       "        surface_total  surface_covered  Enc_Barrio  _rooms  Departamento  PH  \\\n",
       "131535       0.012059         0.000785          44     1.0             0   0   \n",
       "3163         0.001253         0.001237           8     1.0             1   0   \n",
       "18247        0.000460         0.000468          54     1.0             1   0   \n",
       "92053        0.000397         0.000468          46     1.0             1   0   \n",
       "14130        0.000682         0.000666          76     1.0             1   0   \n",
       "...               ...              ...         ...     ...           ...  ..   \n",
       "92683        0.002301         0.000412           9     1.0             0   0   \n",
       "143445       0.000286         0.000357          70     1.0             1   0   \n",
       "136468       0.000262         0.000309          87     1.0             1   0   \n",
       "959          0.005363         0.005434          21     1.0             0   0   \n",
       "18940        0.000666         0.000571          88     1.0             0   1   \n",
       "\n",
       "               0         1  \n",
       "131535  0.015448  0.079096  \n",
       "3163    0.068792  0.015102  \n",
       "18247  -0.040391  0.032437  \n",
       "92053  -0.040391  0.032437  \n",
       "14130   0.015448  0.079096  \n",
       "...          ...       ...  \n",
       "92683  -0.040391  0.032437  \n",
       "143445 -0.096230 -0.014221  \n",
       "136468 -0.096230 -0.014221  \n",
       "959     0.068792  0.015102  \n",
       "18940  -0.040391  0.032437  \n",
       "\n",
       "[75866 rows x 8 columns]"
      ]
     },
     "execution_count": 41,
     "metadata": {},
     "output_type": "execute_result"
    }
   ],
   "source": [
    "X_Train"
   ]
  },
  {
   "cell_type": "markdown",
   "metadata": {},
   "source": [
    "#### Benchmark, comparacion con modelo anterior"
   ]
  },
  {
   "cell_type": "markdown",
   "metadata": {},
   "source": [
    "Proyecto 1:\n",
    "* Err Train: 131342.04481899692\n",
    "* Err Test: 167547.23542405185"
   ]
  },
  {
   "cell_type": "markdown",
   "metadata": {},
   "source": [
    "#### Ahora vamos a ver que error obtenemos luego de procesar los datos de otra manera"
   ]
  },
  {
   "cell_type": "code",
   "execution_count": 42,
   "metadata": {},
   "outputs": [],
   "source": [
    "d_tree= DecisionTreeRegressor(max_depth = 10, random_state = 42)\n",
    "d_tree.fit(X_Train,y_train)\n",
    "train_predict=d_tree.predict(X_Train)\n",
    "test_predict=d_tree.predict(X_Test)"
   ]
  },
  {
   "cell_type": "code",
   "execution_count": 43,
   "metadata": {},
   "outputs": [],
   "source": [
    "def decision_tree(title, depths, X_train, X_test, Y_train, Y_test):\n",
    "        #Define error list\n",
    "        err_train = []\n",
    "        err_test = []\n",
    "        for depth in depths:\n",
    "            \n",
    "            #Define DesitionTreeRegresson and fit it\n",
    "            a = DecisionTreeRegressor(max_depth = depth, random_state = 42)\n",
    "            a.fit(X_train, Y_train)\n",
    "            \n",
    "            #try\n",
    "            Y_train_pred = a.predict(X_train)\n",
    "            train_err = np.sqrt(mean_squared_error(Y_train, Y_train_pred))\n",
    "            \n",
    "            Y_test_pred = a.predict(X_test)\n",
    "            test_err = np.sqrt(mean_squared_error(Y_test, Y_test_pred))\n",
    "\n",
    "            #save the error\n",
    "            err_train.append(train_err)\n",
    "            err_test.append(test_err)\n",
    "         \n",
    "        plt.plot(depths, err_train,'o-',label='train' )\n",
    "        plt.plot(depths, err_test, 'o-',label='test')\n",
    "        plt.legend()\n",
    "        plt.title(title)\n",
    "        plt.xlabel('depths')\n",
    "        plt.ylabel('error')"
   ]
  },
  {
   "cell_type": "code",
   "execution_count": 44,
   "metadata": {},
   "outputs": [
    {
     "data": {
      "image/png": "[encoded data removed]",
      "text/plain": [
       "<Figure size 432x288 with 1 Axes>"
      ]
     },
     "metadata": {
      "needs_background": "light"
     },
     "output_type": "display_data"
    }
   ],
   "source": [
    "depths = [1, 2, 3, 4, 5, 6, 7, 8, 9, 10, 15, 20]\n",
    "decision_tree('Decision Tree PH', depths, X_Train, X_Test, y_train, y_test)"
   ]
  },
  {
   "cell_type": "code",
   "execution_count": 45,
   "metadata": {},
   "outputs": [
    {
     "name": "stdout",
     "output_type": "stream",
     "text": [
      "El error del train prop es 110412.85425653051\n",
      "El error del test prop es 128826.01977657645\n"
     ]
    }
   ],
   "source": [
    "train_rmse2= np.sqrt(mean_squared_error(train_predict, y_train))\n",
    "test_rmse2= np.sqrt(mean_squared_error(test_predict, y_test))\n",
    "print('El error del train prop es',train_rmse2)\n",
    "print('El error del test prop es',test_rmse2)"
   ]
  },
  {
   "cell_type": "markdown",
   "metadata": {},
   "source": [
    "### Benchmark"
   ]
  },
  {
   "cell_type": "markdown",
   "metadata": {},
   "source": [
    "Para realizar una comparacion con el trabajo anterior, reformule parte del proyecto. Esto se debe a que en principio habia subdividido los diferentes modelos en funcion del tipo de propiedad. Considero que para PH y Casas, la cantidad de propiedades resultantes es muy poca (8 mil para PH y 3 mil para Casas aprox) como para que el modelo tenga un entrenamiento correcto. Lo que hice fue reformular el modelo 1 y correr estos modelos sobre un solo dataset en lugar de 3. El proyecto 1 modificado se encuentra en el mismo repositorio que le proyecto 2."
   ]
  },
  {
   "cell_type": "markdown",
   "metadata": {},
   "source": [
    "### Modelos avanzados"
   ]
  },
  {
   "cell_type": "markdown",
   "metadata": {},
   "source": [
    "Continuamos con al creacion de modelos avanzados, con el objetivo de disminuir aun mas el error del modelo que creamos. Creamos un nuevo modelo que utiliza como metodo de ensamble la tecnica baging y otro que ustiliza boosting.\n",
    "\n",
    "* RandomForest - baging\n",
    "* XGBoost - boosting\n",
    "\n",
    "Primero utilizaremos los hiperparametros por defecto y luego elegiremos los mejores utilizando el metodo RandomizeSearchCV."
   ]
  },
  {
   "cell_type": "markdown",
   "metadata": {},
   "source": [
    "#### Utilizando Random Forest"
   ]
  },
  {
   "cell_type": "code",
   "execution_count": 46,
   "metadata": {},
   "outputs": [],
   "source": [
    "ran_forest = RandomForestRegressor(n_estimators = 100, random_state=42, max_depth=9, max_features=\"log2\", oob_score=True)"
   ]
  },
  {
   "cell_type": "code",
   "execution_count": 47,
   "metadata": {},
   "outputs": [
    {
     "data": {
      "text/plain": [
       "RandomForestRegressor(max_depth=9, max_features='log2', oob_score=True,\n",
       "                      random_state=42)"
      ]
     },
     "execution_count": 47,
     "metadata": {},
     "output_type": "execute_result"
    }
   ],
   "source": [
    "ran_forest.fit(X_Train, y_train)"
   ]
  },
  {
   "cell_type": "code",
   "execution_count": 48,
   "metadata": {},
   "outputs": [],
   "source": [
    "y_train_pred_f = ran_forest.predict(X_Train)\n",
    "y_test_pred_f = ran_forest.predict(X_Test)"
   ]
  },
  {
   "cell_type": "code",
   "execution_count": 49,
   "metadata": {},
   "outputs": [
    {
     "name": "stdout",
     "output_type": "stream",
     "text": [
      "El rmse2 en train es 118257.74038917237\n",
      "El rmse2 en test es 120172.95564038721\n"
     ]
    }
   ],
   "source": [
    "train_rmse2_f = np.sqrt(mean_squared_error(y_train, y_train_pred_f))\n",
    "test_rmse2_f = np.sqrt(mean_squared_error(y_test, y_test_pred_f))\n",
    "\n",
    "print(f'El rmse2 en train es',train_rmse2_f)\n",
    "print(f'El rmse2 en test es',test_rmse2_f)"
   ]
  },
  {
   "cell_type": "markdown",
   "metadata": {},
   "source": [
    "#### Utilizando XGBoost"
   ]
  },
  {
   "cell_type": "code",
   "execution_count": 50,
   "metadata": {},
   "outputs": [
    {
     "data": {
      "text/plain": [
       "XGBRegressor(base_score=0.5, booster='gbtree', colsample_bylevel=1,\n",
       "             colsample_bynode=1, colsample_bytree=1, gamma=0, gpu_id=-1,\n",
       "             importance_type='gain', interaction_constraints='',\n",
       "             learning_rate=0.300000012, max_delta_step=0, max_depth=6,\n",
       "             min_child_weight=1, missing=nan, monotone_constraints='()',\n",
       "             n_estimators=100, n_jobs=8, num_parallel_tree=1, random_state=42,\n",
       "             reg_alpha=0, reg_lambda=1, scale_pos_weight=1, subsample=1,\n",
       "             tree_method='exact', validate_parameters=1, verbosity=None)"
      ]
     },
     "execution_count": 50,
     "metadata": {},
     "output_type": "execute_result"
    }
   ],
   "source": [
    "xgb_model = xgb.XGBRegressor(random_state=42)\n",
    "xgb_model.fit(X_Train,y_train)"
   ]
  },
  {
   "cell_type": "code",
   "execution_count": 51,
   "metadata": {},
   "outputs": [],
   "source": [
    "y_train_pred_xgb=xgb_model.predict(X_Train)\n",
    "y_test_pred_xgb=xgb_model.predict(X_Test)"
   ]
  },
  {
   "cell_type": "code",
   "execution_count": 52,
   "metadata": {},
   "outputs": [
    {
     "name": "stdout",
     "output_type": "stream",
     "text": [
      "El rmse2 en train es 78565.57726571267\n",
      "El rmse2 en test es 106558.75197693198\n"
     ]
    }
   ],
   "source": [
    "xgb_train_sqrt=np.sqrt(mean_squared_error(y_train,y_train_pred_xgb))\n",
    "xgb_test_sqrt=np.sqrt(mean_squared_error(y_test,y_test_pred_xgb))\n",
    "print(f'El rmse2 en train es',xgb_train_sqrt)\n",
    "print(f'El rmse2 en test es',xgb_test_sqrt)"
   ]
  },
  {
   "cell_type": "code",
   "execution_count": 53,
   "metadata": {},
   "outputs": [],
   "source": [
    "param_xgb = {\"colsample_bytree\": uniform(0.7, 0.3),\n",
    "    \"gamma\": uniform(0, 0.5),\n",
    "    \"learning_rate\": uniform(0.03, 0.3), # default 0.1 \n",
    "    \"max_depth\": randint(2, 6), # default 3\n",
    "    \"n_estimators\": randint(100, 150), # default 100\n",
    "    \"subsample\": uniform(0.6, 0.4)}"
   ]
  },
  {
   "cell_type": "code",
   "execution_count": 54,
   "metadata": {},
   "outputs": [],
   "source": [
    "model_xgb_params=RandomizedSearchCV(xgb_model,param_distributions=param_xgb,n_iter=40, random_state=5, cv=2)"
   ]
  },
  {
   "cell_type": "code",
   "execution_count": 55,
   "metadata": {},
   "outputs": [
    {
     "data": {
      "text/plain": [
       "RandomizedSearchCV(cv=2,\n",
       "                   estimator=XGBRegressor(base_score=0.5, booster='gbtree',\n",
       "                                          colsample_bylevel=1,\n",
       "                                          colsample_bynode=1,\n",
       "                                          colsample_bytree=1, gamma=0,\n",
       "                                          gpu_id=-1, importance_type='gain',\n",
       "                                          interaction_constraints='',\n",
       "                                          learning_rate=0.300000012,\n",
       "                                          max_delta_step=0, max_depth=6,\n",
       "                                          min_child_weight=1, missing=nan,\n",
       "                                          monotone_constraints='()',\n",
       "                                          n_estimators=100, n_jobs=8,\n",
       "                                          num_par...\n",
       "                                        'learning_rate': <scipy.stats._distn_infrastructure.rv_frozen object at 0x000002376B939790>,\n",
       "                                        'max_depth': <scipy.stats._distn_infrastructure.rv_frozen object at 0x000002376B939A00>,\n",
       "                                        'n_estimators': <scipy.stats._distn_infrastructure.rv_frozen object at 0x000002376B939C70>,\n",
       "                                        'subsample': <scipy.stats._distn_infrastructure.rv_frozen object at 0x000002376B939E20>},\n",
       "                   random_state=5)"
      ]
     },
     "execution_count": 55,
     "metadata": {},
     "output_type": "execute_result"
    }
   ],
   "source": [
    "model_xgb_params.fit(X_Train, np.ravel(y_train))"
   ]
  },
  {
   "cell_type": "code",
   "execution_count": 56,
   "metadata": {},
   "outputs": [
    {
     "name": "stdout",
     "output_type": "stream",
     "text": [
      "Mejores parametros: {'colsample_bytree': 0.7242223806294624, 'gamma': 0.369220148099485, 'learning_rate': 0.16239276686878593, 'max_depth': 5, 'n_estimators': 101, 'subsample': 0.9519748124805115}\n",
      "Mejor Score: 0.7706341328154585\n",
      "\n"
     ]
    }
   ],
   "source": [
    "print(\"Mejores parametros: \"+str(model_xgb_params.best_params_))\n",
    "print(\"Mejor Score: \"+str(model_xgb_params.best_score_)+'\\n')"
   ]
  },
  {
   "cell_type": "code",
   "execution_count": 57,
   "metadata": {},
   "outputs": [],
   "source": [
    "xgb_model2 = xgb.XGBRegressor(random_state=42,eval_metric=\"rmse\",colsample_bytree=0.7242223806294624,gamma=0.369220148099485,learning_rate=0.16239276686878593,max_depth=5,n_estimators=101,subsample= 0.9519748124805115)"
   ]
  },
  {
   "cell_type": "code",
   "execution_count": 58,
   "metadata": {},
   "outputs": [
    {
     "data": {
      "text/plain": [
       "XGBRegressor(base_score=0.5, booster='gbtree', colsample_bylevel=1,\n",
       "             colsample_bynode=1, colsample_bytree=0.7242223806294624,\n",
       "             eval_metric='rmse', gamma=0.369220148099485, gpu_id=-1,\n",
       "             importance_type='gain', interaction_constraints='',\n",
       "             learning_rate=0.16239276686878593, max_delta_step=0, max_depth=5,\n",
       "             min_child_weight=1, missing=nan, monotone_constraints='()',\n",
       "             n_estimators=101, n_jobs=8, num_parallel_tree=1, random_state=42,\n",
       "             reg_alpha=0, reg_lambda=1, scale_pos_weight=1,\n",
       "             subsample=0.9519748124805115, tree_method='exact',\n",
       "             validate_parameters=1, verbosity=None)"
      ]
     },
     "execution_count": 58,
     "metadata": {},
     "output_type": "execute_result"
    }
   ],
   "source": [
    "xgb_model2.fit(X_Train,y_train)"
   ]
  },
  {
   "cell_type": "code",
   "execution_count": 59,
   "metadata": {},
   "outputs": [],
   "source": [
    "y_train_pred2_xgb=xgb_model2.predict(X_Train)\n",
    "y_test_pred2_xgb=xgb_model2.predict(X_Test)"
   ]
  },
  {
   "cell_type": "code",
   "execution_count": 60,
   "metadata": {},
   "outputs": [
    {
     "name": "stdout",
     "output_type": "stream",
     "text": [
      "El rmse2 en train es 107248.550384391\n",
      "El rmse2 en test es 110272.86315993861\n"
     ]
    }
   ],
   "source": [
    "xgb_train_sqrt2=np.sqrt(mean_squared_error(y_train,y_train_pred2_xgb))\n",
    "xgb_test_sqrt2=np.sqrt(mean_squared_error(y_test,y_test_pred2_xgb))\n",
    "print(f'El rmse2 en train es',xgb_train_sqrt2)\n",
    "print(f'El rmse2 en test es',xgb_test_sqrt2)"
   ]
  },
  {
   "cell_type": "markdown",
   "metadata": {},
   "source": [
    "#### Interpretacion de los modelos"
   ]
  },
  {
   "cell_type": "code",
   "execution_count": 61,
   "metadata": {},
   "outputs": [
    {
     "data": {
      "text/html": [
       "<div>\n",
       "<style scoped>\n",
       "    .dataframe tbody tr th:only-of-type {\n",
       "        vertical-align: middle;\n",
       "    }\n",
       "\n",
       "    .dataframe tbody tr th {\n",
       "        vertical-align: top;\n",
       "    }\n",
       "\n",
       "    .dataframe thead th {\n",
       "        text-align: right;\n",
       "    }\n",
       "</style>\n",
       "<table border=\"1\" class=\"dataframe\">\n",
       "  <thead>\n",
       "    <tr style=\"text-align: right;\">\n",
       "      <th></th>\n",
       "      <th>RMSE en X_train</th>\n",
       "      <th>RMSE en X_test</th>\n",
       "    </tr>\n",
       "  </thead>\n",
       "  <tbody>\n",
       "    <tr>\n",
       "      <th>Decision_Tree</th>\n",
       "      <td>110412.854257</td>\n",
       "      <td>128826.019777</td>\n",
       "    </tr>\n",
       "    <tr>\n",
       "      <th>Random_Forest</th>\n",
       "      <td>118257.740389</td>\n",
       "      <td>120172.955640</td>\n",
       "    </tr>\n",
       "    <tr>\n",
       "      <th>XGBoost</th>\n",
       "      <td>107248.550384</td>\n",
       "      <td>110272.863160</td>\n",
       "    </tr>\n",
       "  </tbody>\n",
       "</table>\n",
       "</div>"
      ],
      "text/plain": [
       "               RMSE en X_train  RMSE en X_test\n",
       "Decision_Tree    110412.854257   128826.019777\n",
       "Random_Forest    118257.740389   120172.955640\n",
       "XGBoost          107248.550384   110272.863160"
      ]
     },
     "execution_count": 61,
     "metadata": {},
     "output_type": "execute_result"
    }
   ],
   "source": [
    "Results= {\"RMSE en X_train\":[train_rmse2,train_rmse2_f,xgb_train_sqrt2],\n",
    "            \"RMSE en X_test\":[test_rmse2,test_rmse2_f,xgb_test_sqrt2]}\n",
    "result=pd.DataFrame(Results, index=[\"Decision_Tree\",\"Random_Forest\",\"XGBoost\"])\n",
    "result"
   ]
  },
  {
   "cell_type": "markdown",
   "metadata": {},
   "source": [
    "#### Random forest"
   ]
  },
  {
   "cell_type": "markdown",
   "metadata": {},
   "source": [
    "Vemos que features pesan mas en la prediccion"
   ]
  },
  {
   "cell_type": "code",
   "execution_count": 62,
   "metadata": {},
   "outputs": [
    {
     "data": {
      "text/plain": [
       "Text(0.5, 0, 'Random Forest Feature Importance')"
      ]
     },
     "execution_count": 62,
     "metadata": {},
     "output_type": "execute_result"
    },
    {
     "data": {
      "image/png": "[encoded data removed]",
      "text/plain": [
       "<Figure size 432x288 with 1 Axes>"
      ]
     },
     "metadata": {
      "needs_background": "light"
     },
     "output_type": "display_data"
    }
   ],
   "source": [
    "sorted_idx = ran_forest.feature_importances_.argsort()\n",
    "ran_forest.feature_importances_[sorted_idx]\n",
    "X_Train.columns = X_Train.columns.astype(str)\n",
    "plt.barh(X_Train.columns[sorted_idx], ran_forest.feature_importances_[sorted_idx])\n",
    "plt.xlabel(\"Random Forest Feature Importance\")"
   ]
  },
  {
   "cell_type": "markdown",
   "metadata": {},
   "source": [
    "Elegimos dos arboles al azar y vemos si hubo alguna variacion."
   ]
  },
  {
   "cell_type": "code",
   "execution_count": 63,
   "metadata": {},
   "outputs": [
    {
     "data": {
      "text/plain": [
       "Text(0.5, 0, 'Forest  3 - Feature Importance')"
      ]
     },
     "execution_count": 63,
     "metadata": {},
     "output_type": "execute_result"
    },
    {
     "data": {
      "image/png": "[encoded data removed]",
      "text/plain": [
       "<Figure size 432x288 with 1 Axes>"
      ]
     },
     "metadata": {
      "needs_background": "light"
     },
     "output_type": "display_data"
    }
   ],
   "source": [
    "sorted_idx = ran_forest.estimators_[89].feature_importances_.argsort()\n",
    "plt.barh(X_Train.columns[sorted_idx], ran_forest.estimators_[89].feature_importances_[sorted_idx])\n",
    "plt.xlabel(\"Forest  3 - Feature Importance\")"
   ]
  },
  {
   "cell_type": "code",
   "execution_count": 64,
   "metadata": {},
   "outputs": [
    {
     "data": {
      "text/plain": [
       "Text(0.5, 0, 'Forest  3 - Feature Importance')"
      ]
     },
     "execution_count": 64,
     "metadata": {},
     "output_type": "execute_result"
    },
    {
     "data": {
      "image/png": "[encoded data removed]",
      "text/plain": [
       "<Figure size 432x288 with 1 Axes>"
      ]
     },
     "metadata": {
      "needs_background": "light"
     },
     "output_type": "display_data"
    }
   ],
   "source": [
    "sorted_idx = ran_forest.estimators_[6].feature_importances_.argsort()\n",
    "plt.barh(X_Train.columns[sorted_idx], ran_forest.estimators_[25].feature_importances_[sorted_idx])\n",
    "plt.xlabel(\"Forest  3 - Feature Importance\")"
   ]
  },
  {
   "cell_type": "markdown",
   "metadata": {},
   "source": [
    "Vemos que la feature mas importante para este modelo es surface_total. Tambien se destacan surface_covered, Departamento y la propiedad 1. Obtuvimos la feature 1 cuando hicimos reduccion de dimensionalidad con otras features importantes como bathrooms, bedrooms, y rooms."
   ]
  },
  {
   "cell_type": "markdown",
   "metadata": {},
   "source": [
    "Mean Decrease in impurity"
   ]
  },
  {
   "cell_type": "markdown",
   "metadata": {},
   "source": [
    "#### XGBoost"
   ]
  },
  {
   "cell_type": "code",
   "execution_count": 65,
   "metadata": {},
   "outputs": [
    {
     "data": {
      "text/plain": [
       "Text(0.5, 0, 'XgBoost Feature Importance')"
      ]
     },
     "execution_count": 65,
     "metadata": {},
     "output_type": "execute_result"
    },
    {
     "data": {
      "image/png": "[encoded data removed]",
      "text/plain": [
       "<Figure size 432x288 with 1 Axes>"
      ]
     },
     "metadata": {
      "needs_background": "light"
     },
     "output_type": "display_data"
    }
   ],
   "source": [
    "sorted_idx = xgb_model2.feature_importances_.argsort()\n",
    "plt.barh(X_Train.columns[sorted_idx], xgb_model2.feature_importances_[sorted_idx])\n",
    "plt.xlabel(\"XgBoost Feature Importance\")"
   ]
  },
  {
   "cell_type": "markdown",
   "metadata": {},
   "source": [
    "#### Concluciones\n",
    "* Vemos nuevamente que Departamento, surface_total y surface_covered aparecen como 2 features importantes.\n",
    "* El mejor resultado es el que obtenemos con XBoost."
   ]
  },
  {
   "cell_type": "code",
   "execution_count": 66,
   "metadata": {},
   "outputs": [],
   "source": [
    "#Codigo comentado, problema de performance en esta computadora.\n",
    "\n",
    "#models = ['Decision Tree', 'Random Forest', 'XGBoost']\n",
    "\n",
    "#for i, model in enumerate([d_tree, ran_forest,xgb_model2]):\n",
    "    #for pred_train, y_train_pred in enumerate([train_predict,y_train_pred_f,y_train_pred2_xgb]):\n",
    "        #pred_train = model.predict(X_Train)\n",
    "        #for pred_test, y_test_pred in enumerate([test_predict,y_test_pred_f,y_test_pred2_xgb]): \n",
    "         #   pred_test = model.predict(X_Test)\n",
    "        #    for rmse_train in enumerate([train_rmse2,train_rmse2_f, xgb_train_sqrt2]):\n",
    "       #         rmse_train = np.sqrt(mean_squared_error(y_train, pred_train))\n",
    "      #          for rmse_test in enumerate([test_rmse2,test_rmse2_f, xgb_test_sqrt2]):\n",
    "     #               rmse_test = np.sqrt(mean_squared_error(y_test, pred_test))    \n",
    "    \n",
    "    #print(f'Modelo: {models[i]}')\n",
    "    #rmse_train = np.sqrt(mean_squared_error(y_train, pred_train))\n",
    "    #rmse_test = np.sqrt(mean_squared_error(y_test, pred_test))\n",
    "    #print(f'Raíz del error cuadrático medio en Train: {rmse_train}')\n",
    "    #print(f'Raíz del error cuadrático medio en Test: {rmse_test}')\n",
    "    \n",
    "    #plt.figure(figsize = (10,6))\n",
    "\n",
    "    #plt.subplot(1,2,1)\n",
    "    #sns.distplot(y_train - pred_train.reshape(-1,1), bins = 20, label = 'train')\n",
    "    #sns.distplot(y_test - pred_test.reshape(-1,1), bins = 20, label = 'test')\n",
    "    #plt.xlabel('errores')\n",
    "    #plt.legend()\n",
    "\n",
    "    "
   ]
  },
  {
   "cell_type": "code",
   "execution_count": 69,
   "metadata": {},
   "outputs": [],
   "source": [
    "pred_train_tree = d_tree.predict(X_Train)\n",
    "pred_test_tree = d_tree.predict(X_Test)"
   ]
  },
  {
   "cell_type": "code",
   "execution_count": 73,
   "metadata": {},
   "outputs": [
    {
     "name": "stdout",
     "output_type": "stream",
     "text": [
      "Tree\n",
      "110412.85425653051\n",
      "128826.01977657645\n"
     ]
    }
   ],
   "source": [
    "rmse_train_tree = np.sqrt(mean_squared_error(y_train,pred_train_tree))\n",
    "rmse_test_tree = np.sqrt(mean_squared_error(y_test,pred_test_tree))\n",
    "\n",
    "print(\"Tree\")\n",
    "print(rmse_train_tree)\n",
    "print(rmse_test_tree)"
   ]
  },
  {
   "cell_type": "code",
   "execution_count": 76,
   "metadata": {},
   "outputs": [],
   "source": [
    "pred_train_ran_forest = ran_forest.predict(X_Train)\n",
    "pred_test_ran_forest = ran_forest.predict(X_Test)"
   ]
  },
  {
   "cell_type": "code",
   "execution_count": 79,
   "metadata": {},
   "outputs": [
    {
     "name": "stdout",
     "output_type": "stream",
     "text": [
      "Random forest\n",
      "118257.74038917237\n",
      "120172.95564038721\n"
     ]
    }
   ],
   "source": [
    "rmse_train_ran_forest = np.sqrt(mean_squared_error(y_train,pred_train_ran_forest))\n",
    "rmse_test_ran_forest = np.sqrt(mean_squared_error(y_test,pred_test_ran_forest))\n",
    "\n",
    "print(\"Random forest\")\n",
    "print(rmse_train_ran_forest)\n",
    "print(rmse_test_ran_forest)"
   ]
  },
  {
   "cell_type": "code",
   "execution_count": 81,
   "metadata": {},
   "outputs": [],
   "source": [
    "pred_train_xgboost = xgb_model2.predict(X_Train)\n",
    "pred_test_xgboost = xgb_model2.predict(X_Test)"
   ]
  },
  {
   "cell_type": "code",
   "execution_count": 84,
   "metadata": {},
   "outputs": [
    {
     "name": "stdout",
     "output_type": "stream",
     "text": [
      "XGBoost\n",
      "107248.550384391\n",
      "110272.86315993861\n"
     ]
    }
   ],
   "source": [
    "rmse_train_hgb = np.sqrt(mean_squared_error(y_train,pred_train_xgboost))\n",
    "rmse_test_xgb = np.sqrt(mean_squared_error(y_test,pred_test_xgboost))\n",
    "\n",
    "print(\"XGBoost\")\n",
    "print(rmse_train_hgb)\n",
    "print(rmse_test_xgb)"
   ]
  },
  {
   "cell_type": "markdown",
   "metadata": {},
   "source": [
    "De los resultados obtenidos, notamos que el modelo que mejor trabaja es el XGBoost. Ademas presenta poca variancia, al igual que Random forest. En el modelo de arbol de decision, vemos que ademas de arrojar peores resultados, la diferencia entre Test y Train es mayor."
   ]
  },
  {
   "cell_type": "code",
   "execution_count": null,
   "metadata": {},
   "outputs": [],
   "source": []
  }
 ],
 "metadata": {
  "colab": {
   "collapsed_sections": [],
   "name": "DS_Proyecto_01.ipynb",
   "provenance": []
  },
  "kernelspec": {
   "display_name": "Python 3",
   "language": "python",
   "name": "python3"
  },
  "language_info": {
   "codemirror_mode": {
    "name": "ipython",
    "version": 3
   },
   "file_extension": ".py",
   "mimetype": "text/x-python",
   "name": "python",
   "nbconvert_exporter": "python",
   "pygments_lexer": "ipython3",
   "version": "3.8.5"
  }
 },
 "nbformat": 4,
 "nbformat_minor": 1
}
